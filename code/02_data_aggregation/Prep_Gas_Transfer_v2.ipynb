{
 "cells": [
  {
   "cell_type": "markdown",
   "id": "ef48a71d-9bc2-4a56-be10-0d7374956eea",
   "metadata": {},
   "source": [
    "## Imports/Setup"
   ]
  },
  {
   "cell_type": "code",
   "execution_count": 2,
   "id": "e4974dee-45b4-481a-bded-d97518eab961",
   "metadata": {},
   "outputs": [
    {
     "name": "stdout",
     "output_type": "stream",
     "text": [
      "env: ESMFMKFILE=/home/ds4114/.conda/envs/leap_test202308-3/lib/esmf.mk\n",
      "Files will be outputed as: .nc\n",
      "ECMWF CDS API key already installed\n"
     ]
    }
   ],
   "source": [
    "%run ../00_functions/00_custom_functions.ipynb\n",
    "standard_setup(extra_packages=True, verbose=False)\n",
    "data_ingestion_prep(start_yearmonth='1979-01', end_yearmonth='2022-12', verbose=False)"
   ]
  },
  {
   "cell_type": "code",
   "execution_count": 7,
   "id": "a506e380-68cb-4cb2-86cc-72e8415345cf",
   "metadata": {},
   "outputs": [],
   "source": [
    "%run ../00_functions/00_co2_flux_equations.ipynb"
   ]
  },
  {
   "cell_type": "markdown",
   "id": "4d19a1b3-7b7a-4c26-b01e-4be492417352",
   "metadata": {
    "tags": []
   },
   "source": [
    "## Collection: Prepare Gas Transfer Variables"
   ]
  },
  {
   "cell_type": "markdown",
   "id": "cef92003-f397-4538-b518-3e12e98c2b13",
   "metadata": {},
   "source": [
    "This requires several processed datasets to create variables used for flux calculation in the HPD product.\n",
    "As some processing require a lot of data to download, this is set up as an example and uses prior year's data"
   ]
  },
  {
   "cell_type": "code",
   "execution_count": 4,
   "id": "4e8026c0-2f67-416f-b348-57ed15d08f38",
   "metadata": {},
   "outputs": [],
   "source": [
    "if False: #if we actually downloaded all the data, then we can use those files, otherwise use prior versions\n",
    "    #SST and SS should be updated to 1959 once but just not processing and downloading all that data so using different file instead\n",
    "    sss_xr = xr_open_dataset_custom(os.path.join(global_vars['download_folder'],'SSS/processed/','SSS_Met-Office-Hadley-Centre_EN422f-g10-analyses_198201-202304.nc'))        \n",
    "    sst_xr = xr_open_dataset_custom(os.path.join(global_vars['download_folder'],'SST/processed/','SST_ECMWF_ERA5-monthly-reanalysis-1x1-SST_195901-202304.nc')).rename({'sst_era5':'sst'})\n",
    "    #SLP and wind data - actual data is very large but we would need SLP, wind speed, and wind std\n",
    "    mslp = xr_open_dataset_custom(os.path.join(global_vars['download_folder'],'SLP/processed/','SLP_ECMWF_ERA5-monthly-reanalysis-1x1-MSLP_195901-202304.nc')).mslp\n",
    "    era_wind = xr_open_dataset_custom(os.path.join(global_vars['download_folder'],'Wind/processed/','Wind_ECMWF_ERA5-monthly-10m-uv-wind-1x1_195901-202212.nc')).ws10\n",
    "    wind_std_xr = xr_open_dataset_custom(os.path.join(global_vars['download_folder'],'Wind/processed/','Wind_ECMWF_ERA5-monthly-10m-uv-wind-1x1_195901-202212.nc')).wind_std\n",
    "else: #without downlaoding full data, we can just use prior versions\n",
    "    sss_xr = xr.open_dataset(f\"/data/artemis/observations/EN422_salinity/processed/sss_1x1_mon_EN422_195901-202212.nc\").rename({'SSS':'sss'})\n",
    "    sst_xr = xr.open_dataset(f\"/data/artemis/observations/ERA5/processed/ERA5_SST_1x1_mon_1958-2022.nc\")\n",
    "    mslp = xr.open_dataset(f'/data/artemis/observations/ERA5/processed/ERA5_MSLP_WS10_1x1_mon_1958-2022.nc').mslp / 100 # Pascals to hPa\n",
    "    era_wind  = xr.open_dataset(f'/data/artemis/observations/ERA5/processed/ERA5_MSLP_WS10_1x1_mon_1958-2022.nc').ws10\n",
    "    wind_std_xr = xr.open_dataset(f'/data/artemis/observations/ERA5/processed/ERA5_WS_STD_1x1_mon_1958-2022.nc')\n",
    "\n",
    "#we already have the following sets so can use these regardless\n",
    "coast_fill_xr = xr_open_dataset_custom(os.path.join(global_vars['download_folder'],'pCO2/processed/','fCO2_NOAA-NCEI_MPI-ULB-SOM-FFN_195901-202212.nc'))\n",
    "ice_raw = xr_open_dataset_custom(os.path.join(global_vars['download_folder'],'Ice/originals/','Ice_Met-Office-Hadley-Centre_HadISST_187001-202309.nc')) \\\n",
    "          .rename({'latitude':'ylat','longitude':'xlon'})\n",
    "atmos = xr_open_dataset_custom(os.path.join(global_vars['download_folder'],'xCO2/processed/','xCO2_NOAA_pCO2-fCO2-corrected-ESRL-Mauna_195901-202212.nc'))"
   ]
  },
  {
   "cell_type": "code",
   "execution_count": 5,
   "id": "8726c8e5-ae51-46a1-aa0b-36e4d7d93a41",
   "metadata": {},
   "outputs": [],
   "source": [
    "#now process a bit to get on common timeframe\n",
    "coast_fill = coast_fill_xr.sel(time=slice(str(processed_start_yearmonth_back_in_time),str(processed_end_yearmonth))).fco2\n",
    "\n",
    "sss = sss_xr.sel(time=slice(str(processed_start_yearmonth_back_in_time),str(processed_end_yearmonth))).sss\n",
    "salt_bulk = np.where(np.isnan(coast_fill),np.nan,sss)\n",
    "\n",
    "sst = sst_xr.sel(time=slice(str(processed_start_yearmonth_back_in_time),str(processed_end_yearmonth))).sst\n",
    "sst_C = np.where(np.isnan(coast_fill),np.nan,sst)\n",
    "\n",
    "ice = ice_raw.sel(time=slice(str(processed_start_yearmonth_back_in_time),str(processed_end_yearmonth))).sic\n",
    "ice_frac = np.where(np.isnan(coast_fill),np.nan,ice)\n",
    "\n",
    "mslp = mslp.sel(time=slice(str(processed_start_yearmonth_back_in_time),str(processed_end_yearmonth)))\n",
    "press_hPa = np.where(np.isnan(coast_fill),np.nan,mslp)\n",
    "era_wind = era_wind.sel(time=slice(str(processed_start_yearmonth_back_in_time),str(processed_end_yearmonth)))\n",
    "wind_ms = np.where(np.isnan(coast_fill),np.nan,era_wind)\n",
    "wind_std_xr = wind_std_xr.sel(time=slice(str(processed_start_yearmonth_back_in_time),str(processed_end_yearmonth))).ws_std\n",
    "wind_std = np.where(np.isnan(coast_fill),np.nan,wind_std_xr)\n",
    "\n",
    "atmos = atmos.sel(time=slice(str(processed_start_yearmonth_back_in_time),str(processed_end_yearmonth)))"
   ]
  },
  {
   "cell_type": "code",
   "execution_count": 8,
   "id": "ccf4cd9d-a6fc-4ab8-8b50-50e91c0ecb6a",
   "metadata": {},
   "outputs": [],
   "source": [
    "#calculate \n",
    "kw_esst = calc_kw(wind_ms, wind_std, sst_C, ice_frac) #units of cm/hr\n",
    "K0blk = calc_k0_weiss1974(salt_bulk, sst_C+273.15, press_hPa/1013.25)  # units of mol/L/atm"
   ]
  },
  {
   "cell_type": "code",
   "execution_count": 9,
   "id": "3621da71-8b51-4a4d-a00b-03a857b499d5",
   "metadata": {},
   "outputs": [],
   "source": [
    "ds_flux_prep = xr.Dataset({'K0'        :(['time','ylat','xlon'],K0blk),\n",
    "                           'kw'        :(['time','ylat','xlon'],kw_esst),\n",
    "                           'ws10'      :(['time','ylat','xlon'],wind_ms),\n",
    "                           'ws10_std'  :(['time','ylat','xlon'],wind_std),\n",
    "                           'sss'       :(['time','ylat','xlon'],salt_bulk),\n",
    "                           'sst'       :(['time','ylat','xlon'],sst_C),\n",
    "                           'ice'       :(['time','ylat','xlon'],ice_frac),          #how much ice cover\n",
    "                           'slp'       :(['time','ylat','xlon'],press_hPa/1013.25), #in atms\n",
    "                           'atmos_fco2':(['time','ylat','xlon'],atmos.fco2.data),\n",
    "                           'mauna_fco2':(['time','ylat','xlon'],atmos.mauna_loa_fco2.data),\n",
    "                           'time':(['time'],ttime_back_in_time.values),\n",
    "                           'ylat':(['ylat'],coast_fill.ylat.values),\n",
    "                           'xlon':(['xlon'],coast_fill.xlon.values)})\n",
    "\n",
    "ds_flux_prep['K0'].attrs['units'] = \"mol/L/atm\"\n",
    "ds_flux_prep['kw'].attrs['units'] = \"cm/hr\"\n",
    "ds_flux_prep['atmos_fco2'].attrs['units'] = \"mu atm\"\n",
    "ds_flux_prep['mauna_fco2'].attrs['units'] = \"mu atm\"\n",
    "ds_flux_prep['sst'].attrs['units'] = \"deg C (ERA5)\"\n",
    "ds_flux_prep['ws10'].attrs['units'] = \"m/s (ERA5)\"\n",
    "ds_flux_prep['slp'].attrs['units'] = \"atmospheres\"\n",
    "ds_flux_prep.attrs['more_info'] = \"ERA5 for wind, MSLP, & SST, Hadley Ice; E4.2.2 for SSS\" #+\" created by prep_gas_transfer.ipynb\""
   ]
  },
  {
   "cell_type": "code",
   "execution_count": 138,
   "id": "a02f2a1b-1b91-4075-b07f-605756232c2d",
   "metadata": {},
   "outputs": [
    {
     "name": "stdout",
     "output_type": "stream",
     "text": [
      "Saved HPD-Flux-Prep_LDEO_ERA5-K0-kw-atmos_pco2_195901-202212.nc to /data/artemis/workspace/ds4114/online_data/SeaFlux/processed/\n"
     ]
    }
   ],
   "source": [
    "#not sure best place to output this but putting with SeaFlux\n",
    "output_xarray_with_date(ds_flux_prep, os.path.join(data_folder_root,'SeaFlux/processed/'), 'HPD-Flux-Prep_LDEO_ERA5-K0-kw-atmos_pco2', filetype=output_file_type, overwrite=False)"
   ]
  },
  {
   "cell_type": "code",
   "execution_count": null,
   "id": "37788da4-a981-4716-b70f-5d25870bdaf1",
   "metadata": {},
   "outputs": [],
   "source": []
  }
 ],
 "metadata": {
  "kernelspec": {
   "display_name": "leap_test202310-4",
   "language": "python",
   "name": "leap_test202310-4"
  },
  "language_info": {
   "codemirror_mode": {
    "name": "ipython",
    "version": 3
   },
   "file_extension": ".py",
   "mimetype": "text/x-python",
   "name": "python",
   "nbconvert_exporter": "python",
   "pygments_lexer": "ipython3",
   "version": "3.11.6"
  }
 },
 "nbformat": 4,
 "nbformat_minor": 5
}
