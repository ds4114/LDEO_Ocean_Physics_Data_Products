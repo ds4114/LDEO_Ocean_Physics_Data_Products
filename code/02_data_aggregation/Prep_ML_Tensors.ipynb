{
 "cells": [
  {
   "cell_type": "markdown",
   "id": "e0e5fa27-4dcf-40db-b8cd-2024e21b2be3",
   "metadata": {},
   "source": [
    "## Imports/Setup"
   ]
  },
  {
   "cell_type": "code",
   "execution_count": 9,
   "id": "d7881ba9-b8ad-4840-a20c-a2d338ba6347",
   "metadata": {},
   "outputs": [
    {
     "name": "stdout",
     "output_type": "stream",
     "text": [
      "env: ESMFMKFILE=/home/ds4114/.conda/envs/leap_test202308-3/lib/esmf.mk\n",
      "Files will be outputed as: .nc\n",
      "ECMWF CDS API key already installed\n"
     ]
    }
   ],
   "source": [
    "%run ../00_functions/00_custom_functions.ipynb\n",
    "standard_setup(extra_packages=True, verbose=False)\n",
    "data_ingestion_prep(start_yearmonth='1979-01', end_yearmonth='2022-12', verbose=False)"
   ]
  },
  {
   "cell_type": "code",
   "execution_count": 10,
   "id": "04da8600-21a8-4ba7-8ad7-23761a09f68d",
   "metadata": {},
   "outputs": [],
   "source": [
    "from xgboost import XGBRegressor"
   ]
  },
  {
   "cell_type": "code",
   "execution_count": null,
   "id": "549abae6-edcd-46bf-8e27-0c8c241b302a",
   "metadata": {},
   "outputs": [],
   "source": [
    "#optionally turn off some warnings\n",
    "import warnings\n",
    "warnings.simplefilter(action='ignore', category=FutureWarning)"
   ]
  },
  {
   "cell_type": "markdown",
   "id": "71a2904e-9a9d-4017-b310-129421d9742f",
   "metadata": {
    "tags": []
   },
   "source": [
    "## Set Parameters"
   ]
  },
  {
   "cell_type": "code",
   "execution_count": 41,
   "id": "46701d97",
   "metadata": {},
   "outputs": [],
   "source": [
    "#Set location of input files (path from root above)\n",
    "#Note that these were processed such that they already share a coordinate set\n",
    "sst_processed  = global_vars['download_folder'] + 'SST/processed/SST_NOAA_OI-V2-1x1_198201-202304.nc'\n",
    "sss_processed  = global_vars['download_folder'] + 'SSS/processed/SSS_Met-Office-Hadley-Centre_EN422f-g10-analyses_198201-202304.nc' #previously 202303\n",
    "mld_processed  = global_vars['download_folder'] + 'MLD/processed/MLD_IFREMER-deBoyer_DT02-c1m-1x1_198201-202304.nc'\n",
    "chl_processed  = global_vars['download_folder'] + 'CHL/processed/CHL_ARI-ST-GlobColour_L3m-GLOB-100-merged-GSM-CHL1_198201-202304.nc'\n",
    "pco2_processed = global_vars['download_folder'] + 'pCO2/processed/pCO2_LEAP_SOCAT-ERA5-fco2-weighted-gridded_198201-202212.nc' #updated for fco2\n",
    "xco2_processed = global_vars['download_folder'] + 'xCO2/processed/xCO2_NOAA_xCO2-mm-gl-monthly_198201-202304.nc'\n",
    "#add additional sources if desired\n",
    "sst_processed_option2 = global_vars['download_folder'] + 'SST/processed/SST_ECMWF_ERA5-monthly-reanalysis-1x1-SST_198201-202304.nc'\n",
    "sst_processed_option3 = global_vars['download_folder'] + 'SST/processed/SST_JMA_JRA55-do-monthly-reanalysis-SST_198201-202304.nc'\n",
    "mld_processed_option2 = global_vars['download_folder'] + 'MLD/processed/MLD_UCSD-Argo_MLD-dt-mean-1x1_198201-202304.nc'\n",
    "\n",
    "gobms = global_vars['download_folder'] + 'GOBM/processed/GOBM_GCB-2023_fco2-8-models_195901-202212.nc'\n",
    "netmask = global_vars['download_folder'] + 'Masks/processed/mask_LEAP_land-sea-network.nc'\n",
    "gobm_list = ['CNRM-ESM2-1', 'FESOM2-REcoM', 'IPSL', 'MOM6-Princeton', 'MRI-ESM2-2','NorESM-OC1.2', 'CESM-ETHZ', 'ACCESS']\n",
    "\n",
    "list_for_df = [sst_processed, sss_processed, mld_processed, chl_processed, pco2_processed, xco2_processed\n",
    "              ,sst_processed_option2, sst_processed_option3, mld_processed_option2\n",
    "              ,gobms, netmask\n",
    "              ] "
   ]
  },
  {
   "cell_type": "code",
   "execution_count": 27,
   "id": "ac0f8d76",
   "metadata": {},
   "outputs": [],
   "source": [
    "#This is where we set parameters for the ML algorithm for finding the long term pco2 mean feature\n",
    "\n",
    "#The next variable is for the XGBoost method for both pCO2 Residual and creating the long term pCo2 mean feature. They were determined via a grid search in previous iterations. \n",
    "best_params = {'max_depth': 9, 'n_estimators': 1000} \n",
    "random_seed = 47  #Set the random seeds used for training\n",
    "jobs = -1         #Number of cores you have access to for model training; -1 for all available ones\n",
    "\n",
    "#This variable is a list of features used for the Long Term pCO2 mean machine learning\n",
    "feature_sel = ['sst','sst_anomaly','sss','sss_anomaly','chl_log','chl_log_anomaly','mld_log','xco2_trend','A','B','C','T0','T1']\n",
    "target_sel = ['fco2']  #previously was pco2\n",
    "sst_variable_option = ['sst']  #the name of the SST variable to use for calculating the residual component of the target"
   ]
  },
  {
   "cell_type": "raw",
   "id": "cc9e1723-9136-47cf-b5bb-0ae7ff82b594",
   "metadata": {},
   "source": [
    "best_params = {'max_depth': 9, 'n_estimators': 3}  #just for debugging"
   ]
  },
  {
   "cell_type": "markdown",
   "id": "d4088967-beb7-411a-926c-3f2be9c02d1d",
   "metadata": {
    "tags": []
   },
   "source": [
    "## Full Set of Base Features"
   ]
  },
  {
   "cell_type": "code",
   "execution_count": 29,
   "id": "db345ccb-485b-4767-a42d-d9b719e7aa89",
   "metadata": {},
   "outputs": [],
   "source": [
    "xrfull = xr.merge([xr_open_dataset_custom(f) for f in list_for_df], compat='broadcast_equals')\n",
    "xrfull = xrfull.sel(time=slice(str(processed_start_yearmonth),str(processed_end_yearmonth)))\n",
    "xrfull.attrs = \"\" #just removing attribute details since wont be accurate anymore\n",
    "#xrfull"
   ]
  },
  {
   "cell_type": "code",
   "execution_count": 31,
   "id": "d3a80635-ae04-4a4e-8fbc-b7e13af83ed9",
   "metadata": {},
   "outputs": [],
   "source": [
    "#next add derived (logs)\n",
    "xrfull = xrfull.assign( mld_log = log_or_0_xr(xrfull.mld, 'mld_log') \n",
    "                       ,chl_log = log_or_0_xr(xrfull.chl, 'chl_log')\n",
    "                       ,mld_argo_log = log_or_0_xr(xrfull.mld_argo, 'mld_argo_log')\n",
    "                      )"
   ]
  },
  {
   "cell_type": "code",
   "execution_count": 32,
   "id": "cd848796-d979-472d-894b-cdac657d6f8e",
   "metadata": {},
   "outputs": [
    {
     "name": "stdout",
     "output_type": "stream",
     "text": [
      "CPU times: user 5.58 s, sys: 2.09 s, total: 7.68 s\n",
      "Wall time: 7.69 s\n"
     ]
    }
   ],
   "source": [
    "%%time\n",
    "#add anomalies fields\n",
    "anomalies = xrfull.groupby(\"time.month\") - xrfull.groupby(\"time.month\").mean(\"time\")\n",
    "anomalies = anomalies.get(['sst','sss','chl_log', 'sst_era5', 'sst_jra55']) #just need SST, SSS, CHL anomalies\n",
    "anomalies = anomalies.drop('month') \n",
    "anomalies = anomalies.rename({ 'sst': 'sst_anomaly'\n",
    "                              ,'sss':'sss_anomaly'\n",
    "                              ,'chl_log':'chl_log_anomaly'\n",
    "                              ,'sst_era5':'sst_era5_anomaly'\n",
    "                              ,'sst_jra55':'sst_jra55_anomaly'\n",
    "                             }) \n",
    "#anomalies\n",
    "xrfull = xrfull.merge(anomalies, compat='identical')"
   ]
  },
  {
   "cell_type": "code",
   "execution_count": 33,
   "id": "b2ed7631-8752-4f27-a459-f1dce1a9cc8c",
   "metadata": {},
   "outputs": [],
   "source": [
    "#add time and space derivations\n",
    "xrfull = xrfull.assign( days_idx = xrfull.time.dt.dayofyear \n",
    "                       ,lon_rad = np.radians(xrfull.xlon)\n",
    "                       ,lat_rad = np.radians(xrfull.ylat)\n",
    "                      )\n",
    "xrfull = xrfull.assign( T0 = np.cos(xrfull.days_idx * 2 * np.pi / 365)\n",
    "                       ,T1 = np.sin(xrfull.days_idx * 2 * np.pi / 365)\n",
    "                       ,A  = np.sin(xrfull.lat_rad)\n",
    "                       ,B  = np.cos(xrfull.lat_rad)*np.sin(xrfull.lon_rad)\n",
    "                       ,C  = -np.cos(xrfull.lat_rad)*np.cos(xrfull.lon_rad)\n",
    "                      )"
   ]
  },
  {
   "cell_type": "markdown",
   "id": "4a5ead1b-7110-404c-bda8-e91ba2290b07",
   "metadata": {},
   "source": [
    "## Learning Long Term pCO2 Mean"
   ]
  },
  {
   "cell_type": "markdown",
   "id": "dfe5e33e-a3f3-4f7f-b75f-eabc7e7d465b",
   "metadata": {},
   "source": [
    "#### Set Data Fields/Points For Learning Long Term Mean"
   ]
  },
  {
   "cell_type": "code",
   "execution_count": 34,
   "id": "5da2aec3-fd75-434e-84b4-6bef77a48168",
   "metadata": {},
   "outputs": [
    {
     "name": "stdout",
     "output_type": "stream",
     "text": [
      "Number of points in time/space for training: 312201\n",
      "Number of points in time/space available to reconstruct: 18198122\n",
      "CPU times: user 2.93 s, sys: 2.39 s, total: 5.31 s\n",
      "Wall time: 5.32 s\n"
     ]
    }
   ],
   "source": [
    "%%time\n",
    "xr_for_ocean_co2_mean = xrfull.get(feature_sel + target_sel)  #Note - we train on all available data (no time slice is used here)\n",
    "df_for_ocean_co2_mean = xr_for_ocean_co2_mean.to_dataframe() #expensive function; need lots of RAM \n",
    "df_for_ocean_co2_mean_to_train = df_for_ocean_co2_mean[(~df_for_ocean_co2_mean.isna().any(axis=1))]  #only keep points that are not null \n",
    "print(f'Number of points in time/space for training: {df_for_ocean_co2_mean_to_train.shape[0]}')\n",
    "#df_for_ocean_co2_mean_to_train\n",
    "\n",
    "df_for_ocean_co2_mean_to_predict_temp = df_for_ocean_co2_mean.loc[:,feature_sel]\n",
    "df_for_ocean_co2_mean_to_predict = df_for_ocean_co2_mean_to_predict_temp[(~df_for_ocean_co2_mean_to_predict_temp.isna().any(axis=1))]  #only predict on points with all variables globally\n",
    "print(f'Number of points in time/space available to reconstruct: {df_for_ocean_co2_mean_to_predict.shape[0]}')\n",
    "#df_for_ocean_co2_mean_to_predict"
   ]
  },
  {
   "cell_type": "markdown",
   "id": "208b8987-ae0a-440f-b5b9-5149dec9cdba",
   "metadata": {
    "tags": []
   },
   "source": [
    "#### ML for Ocean CO2_Long_Term_Mean Feature"
   ]
  },
  {
   "cell_type": "code",
   "execution_count": 35,
   "id": "73cf14e3-fc9d-460e-a176-4f2134f2044f",
   "metadata": {},
   "outputs": [
    {
     "name": "stdout",
     "output_type": "stream",
     "text": [
      "Training started on 2023-12-17 23:45...\n"
     ]
    },
    {
     "name": "stderr",
     "output_type": "stream",
     "text": [
      "/home/ds4114/.conda/envs/leap_test202310-4/lib/python3.11/site-packages/xgboost/data.py:312: FutureWarning: is_sparse is deprecated and will be removed in a future version. Check `isinstance(dtype, pd.SparseDtype)` instead.\n",
      "  if is_sparse(dtype):\n",
      "/home/ds4114/.conda/envs/leap_test202310-4/lib/python3.11/site-packages/xgboost/data.py:314: FutureWarning: is_categorical_dtype is deprecated and will be removed in a future version. Use isinstance(dtype, CategoricalDtype) instead\n",
      "  elif is_categorical_dtype(dtype) and enable_categorical:\n",
      "/home/ds4114/.conda/envs/leap_test202310-4/lib/python3.11/site-packages/xgboost/data.py:345: FutureWarning: is_categorical_dtype is deprecated and will be removed in a future version. Use isinstance(dtype, CategoricalDtype) instead\n",
      "  if is_categorical_dtype(dtype)\n",
      "/home/ds4114/.conda/envs/leap_test202310-4/lib/python3.11/site-packages/xgboost/data.py:336: FutureWarning: is_categorical_dtype is deprecated and will be removed in a future version. Use isinstance(dtype, CategoricalDtype) instead\n",
      "  return is_int or is_bool or is_float or is_categorical_dtype(dtype)\n",
      "/home/ds4114/.conda/envs/leap_test202310-4/lib/python3.11/site-packages/xgboost/data.py:345: FutureWarning: is_categorical_dtype is deprecated and will be removed in a future version. Use isinstance(dtype, CategoricalDtype) instead\n",
      "  if is_categorical_dtype(dtype)\n",
      "/home/ds4114/.conda/envs/leap_test202310-4/lib/python3.11/site-packages/xgboost/data.py:336: FutureWarning: is_categorical_dtype is deprecated and will be removed in a future version. Use isinstance(dtype, CategoricalDtype) instead\n",
      "  return is_int or is_bool or is_float or is_categorical_dtype(dtype)\n"
     ]
    },
    {
     "name": "stdout",
     "output_type": "stream",
     "text": [
      "Training completed on 2023-12-17 23:45. Predicting...\n"
     ]
    },
    {
     "name": "stderr",
     "output_type": "stream",
     "text": [
      "/home/ds4114/.conda/envs/leap_test202310-4/lib/python3.11/site-packages/xgboost/data.py:312: FutureWarning: is_sparse is deprecated and will be removed in a future version. Check `isinstance(dtype, pd.SparseDtype)` instead.\n",
      "  if is_sparse(dtype):\n",
      "/home/ds4114/.conda/envs/leap_test202310-4/lib/python3.11/site-packages/xgboost/data.py:314: FutureWarning: is_categorical_dtype is deprecated and will be removed in a future version. Use isinstance(dtype, CategoricalDtype) instead\n",
      "  elif is_categorical_dtype(dtype) and enable_categorical:\n",
      "/home/ds4114/.conda/envs/leap_test202310-4/lib/python3.11/site-packages/xgboost/data.py:345: FutureWarning: is_categorical_dtype is deprecated and will be removed in a future version. Use isinstance(dtype, CategoricalDtype) instead\n",
      "  if is_categorical_dtype(dtype)\n",
      "/home/ds4114/.conda/envs/leap_test202310-4/lib/python3.11/site-packages/xgboost/data.py:336: FutureWarning: is_categorical_dtype is deprecated and will be removed in a future version. Use isinstance(dtype, CategoricalDtype) instead\n",
      "  return is_int or is_bool or is_float or is_categorical_dtype(dtype)\n"
     ]
    },
    {
     "name": "stdout",
     "output_type": "stream",
     "text": [
      "Complete\n",
      "CPU times: user 56.2 s, sys: 450 ms, total: 56.6 s\n",
      "Wall time: 1.97 s\n"
     ]
    }
   ],
   "source": [
    "%%time\n",
    "X_train = df_for_ocean_co2_mean_to_train.loc[:,feature_sel]\n",
    "y_train = df_for_ocean_co2_mean_to_train.loc[:,target_sel]\n",
    "\n",
    "model = XGBRegressor(random_state=random_seed, **best_params, n_jobs=jobs)\n",
    "print(f'Training started on '+datetime.datetime.now().strftime('%Y-%m-%d %H:%M')+'...')\n",
    "model.fit(X_train, y_train)    #training on all data with no cross validation because we are only calculating a long term average\n",
    "                               #Model evalation for pco2 residual is in the next script\n",
    "print('Training completed on '+datetime.datetime.now().strftime('%Y-%m-%d %H:%M')+'. Predicting...')\n",
    "ocean_co2_for_mean_recon = model.predict(df_for_ocean_co2_mean_to_predict)\n",
    "print(\"Complete\")  #Training and predicting may take 15 minutes"
   ]
  },
  {
   "cell_type": "code",
   "execution_count": 36,
   "id": "d0e9041e-458b-44e8-a18e-dcd7c13ada24",
   "metadata": {},
   "outputs": [],
   "source": [
    "#average across time and add back to dataset \n",
    "ocean_co2_for_mean_recon_xr = pd.DataFrame(ocean_co2_for_mean_recon,index=df_for_ocean_co2_mean_to_predict.index,columns=['ocean_co2_recon_for_mean']).to_xarray()\n",
    "xrfull = xrfull.merge(ocean_co2_for_mean_recon_xr, compat='identical') #add back to full set\n",
    "xrfull = xrfull.assign(ocean_co2_mean = xrfull.ocean_co2_recon_for_mean.mean('time'))"
   ]
  },
  {
   "cell_type": "code",
   "execution_count": 22,
   "id": "2660d907-554f-4f8f-b6a4-ffdc51a0a4b4",
   "metadata": {},
   "outputs": [
    {
     "name": "stdout",
     "output_type": "stream",
     "text": [
      "Saved pCO2_LEAP_XGBoost-fco2-long-term-mean-from-198201-to-202303.nc to /data/artemis/workspace/ds4114/reconstructions/\n"
     ]
    }
   ],
   "source": [
    "#Export if desired. Some extra code to find the dates used\n",
    "if False:\n",
    "    min_yearmonth = str(ocean_co2_for_mean_recon_xr.time.min().data.astype('datetime64[s]').item().strftime('%Y%m')) #just gets the min date from the xarray in YYYYMM format\n",
    "    max_yearmonth = str(ocean_co2_for_mean_recon_xr.time.max().data.astype('datetime64[s]').item().strftime('%Y%m')) \n",
    "    ocean_co2_long_term_mean = ocean_co2_for_mean_recon_xr.mean('time')\n",
    "    ocean_co2_long_term_mean = ocean_co2_long_term_mean.rename({'ocean_co2_recon_for_mean': str(target_sel[0])+'_mean'})\n",
    "    ocean_co2_output_name = 'pCO2_LEAP_XGBoost-'+str(target_sel[0])+'-long-term-mean-from-'+min_yearmonth+'-to-'+max_yearmonth+'.nc'\n",
    "    output_xarray_with_date(ocean_co2_long_term_mean, global_vars['reconstruction_folder'], ocean_co2_output_name, with_date=False,  filetype=output_file_type)"
   ]
  },
  {
   "cell_type": "markdown",
   "id": "72909f3a-b666-48ff-9913-9018aabbaf60",
   "metadata": {},
   "source": [
    "## Residual (pCO2 T and NonT Features)"
   ]
  },
  {
   "cell_type": "code",
   "execution_count": 37,
   "id": "966d0ea9-48a7-4a46-a4bf-61e227c5c9a4",
   "metadata": {},
   "outputs": [],
   "source": [
    "xrfull = xrfull.assign(ocean_co2_T = xrfull['ocean_co2_mean'] * np.exp(0.0413 * (xrfull[sst_variable_option[0]] - xrfull[sst_variable_option[0]].mean(\"time\"))) ) # Wanninkhof et al. 2022\n",
    "    #previously: xrfull = xrfull.assign(ocean_co2_T = xrfull['ocean_co2_mean'] * np.exp(0.0423* (xrfull.sst - xrfull.sst.mean(\"time\"))) ) # Takahashia et al, 2004\n",
    "xrfull = xrfull.assign(ocean_co2_nonT = xrfull[target_sel[0]] - xrfull.ocean_co2_T)"
   ]
  },
  {
   "cell_type": "code",
   "execution_count": 38,
   "id": "dd476673-cc44-47bc-871d-e60ca62b3b59",
   "metadata": {},
   "outputs": [],
   "source": [
    "#Perform some clean up before exporting\n",
    "\n",
    "xrfull = xrfull.drop_vars(['ocean_co2_recon_for_mean'])  #optionally could keep/drop this variable\n",
    "xrfull = xrfull.rename({'ocean_co2_T': str(target_sel[0])+'_T'\n",
    "                        ,'ocean_co2_nonT': str(target_sel[0])+'_nonT'\n",
    "                        ,'ocean_co2_mean': str(target_sel[0])+'_mean'\n",
    "                        #,'ocean_co2_recon_for_mean': str(target_sel[0])+'_recon_for_mean'\n",
    "                       })\n",
    "\n",
    "#add attributes as needed here\n",
    "xrfull.attrs['description'] = \"fCO2-Residual dataset for machine learning\"\n",
    "xrfull.attrs['formula_for_co2_residual'] = 'uses 0.0413 factor from Wanninkhof et al. 2022 and temperature variable: '+ str(sst_variable_option[0])\n",
    "xrfull.attrs['training_features_for_co2_mean'] = str(feature_sel)\n",
    "xrfull.attrs['hyperparameters_for_co2_mean'] = str(best_params)\n",
    "xrfull.attrs['created'] = str(datetime.datetime.now())\n",
    "#xrfull.attrs['methodology'] = \"Bennington et al. (2022), JAMES\""
   ]
  },
  {
   "cell_type": "code",
   "execution_count": 50,
   "id": "f0fa8941-6746-48c9-90df-6fb679362bc2",
   "metadata": {},
   "outputs": [],
   "source": [
    "#filter variables, if desired\n",
    "xr_for_residual = xrfull.get(feature_sel + target_sel + ['days_idx','lon_rad','lat_rad','pco2','mld','chl','fco2_mean','sst_era5','sst_jra55','sst_era5_anomaly','sst_jra55_anomaly','mld_argo','mld_argo_log','fco2_T','fco2_nonT','net_mask'])\n",
    "xr_for_hpd = xrfull.get(feature_sel + target_sel + gobm_list + ['mld','chl','fco2_mean','net_mask', 'days_idx','lon_rad','lat_rad'])"
   ]
  },
  {
   "cell_type": "code",
   "execution_count": 24,
   "id": "74630fb9-ac77-411a-9111-6e383e6a6bce",
   "metadata": {},
   "outputs": [
    {
     "name": "stdout",
     "output_type": "stream",
     "text": [
      "Saved pCO2_LEAP_fco2-residual-full-dataset-preML_198201-202304.nc to /data/artemis/workspace/ds4114/reconstructions/\n"
     ]
    }
   ],
   "source": [
    "#export out (may be 3GB unless some variables dropped)\n",
    "#naming conventions may need updating\n",
    "if True:\n",
    "    output_xarray_with_date(xrfull, global_vars['reconstruction_folder']+'', 'pCO2-HPD_LEAP_'+str(target_sel[0])+'-full-dataset-preML', filetype=output_file_type)\n",
    "    output_xarray_with_date(xr_for_residual, global_vars['reconstruction_folder']+'', 'pCO2_LEAP_'+str(target_sel[0])+'-residual-dataset-preML', filetype=output_file_type)\n",
    "    output_xarray_with_date(xr_for_hpd, global_vars['reconstruction_folder']+'', 'HPD_LEAP_fco2-GOBM-dataset-preML', filetype=output_file_type)"
   ]
  },
  {
   "cell_type": "code",
   "execution_count": null,
   "id": "79d25e4e-5e84-4ece-9cfb-02f548ddf6cf",
   "metadata": {},
   "outputs": [],
   "source": []
  }
 ],
 "metadata": {
  "kernelspec": {
   "display_name": "leap_test202310-4",
   "language": "python",
   "name": "leap_test202310-4"
  },
  "language_info": {
   "codemirror_mode": {
    "name": "ipython",
    "version": 3
   },
   "file_extension": ".py",
   "mimetype": "text/x-python",
   "name": "python",
   "nbconvert_exporter": "python",
   "pygments_lexer": "ipython3",
   "version": "3.11.6"
  }
 },
 "nbformat": 4,
 "nbformat_minor": 5
}
