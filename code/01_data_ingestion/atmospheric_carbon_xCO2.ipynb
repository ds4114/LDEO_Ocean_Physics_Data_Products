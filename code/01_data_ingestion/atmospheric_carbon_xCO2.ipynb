{
 "cells": [
  {
   "cell_type": "markdown",
   "id": "c95a13ee-0fa8-46c8-9772-91e88713b04b",
   "metadata": {},
   "source": [
    "## Imports/Setup"
   ]
  },
  {
   "cell_type": "code",
   "execution_count": 1,
   "id": "4d96aa93-7ca4-45ae-adab-0e2081b7a0ca",
   "metadata": {},
   "outputs": [
    {
     "name": "stdout",
     "output_type": "stream",
     "text": [
      "env: ESMFMKFILE=/home/ds4114/.conda/envs/leap_test202308-3/lib/esmf.mk\n",
      "Files will be outputed as: .nc\n",
      "ECMWF CDS API key already installed\n"
     ]
    }
   ],
   "source": [
    "%run ../00_functions/00_custom_functions.ipynb\n",
    "standard_setup(extra_packages=True, verbose=False)\n",
    "data_ingestion_prep(start_yearmonth='1979-01', end_yearmonth='2022-12', verbose=False)"
   ]
  },
  {
   "cell_type": "markdown",
   "id": "3a6610b0-e380-49ee-80b5-304221e6ed20",
   "metadata": {
    "tags": []
   },
   "source": [
    "## Collection: Atmospheric Carbon (xCO2)"
   ]
  },
  {
   "cell_type": "markdown",
   "id": "2e575b40-44da-488c-8900-bbff89e97f19",
   "metadata": {},
   "source": [
    "#### NOAA (ESRL)"
   ]
  },
  {
   "cell_type": "code",
   "execution_count": 26,
   "id": "1bd3b29a-6c92-40d9-813c-8aa2effdbdd2",
   "metadata": {},
   "outputs": [
    {
     "name": "stdout",
     "output_type": "stream",
     "text": [
      "Attempting to transfer non-ARCO file extension to cloud...\n",
      "Saving https://gml.noaa.gov/webdata/ccgg/trends/co2/co2_mm_gl.csv to ../tmp/xCO2_NOAA_xCO2-mm-gl-monthly_197901-202308.csv...\n",
      "Complete\n",
      "Moved to GS gs://leap-persistent/ds4114/online_data/xCO2/originals/xCO2_NOAA_xCO2-mm-gl-monthly_197901-202308.csv.\n"
     ]
    }
   ],
   "source": [
    "#xCO2 comes from NOAA. More information: https://gml.noaa.gov/ccgg/trends/gl_data.html\n",
    "\n",
    "xco2_direct_url = \"https://gml.noaa.gov/webdata/ccgg/trends/co2/co2_mm_gl.csv\"\n",
    "xco2_destination_folder = global_vars['download_folder']+r'xCO2/originals/'\n",
    "lastmonth_yearmonth = (datetime.date.today().replace(day=1) - datetime.timedelta(days=1)).strftime('%Y%m') #assuming data is updated\n",
    "xco2_destination_filename = 'xCO2_NOAA_xCO2-mm-gl-monthly_197901-'+lastmonth_yearmonth+'.csv'\n",
    "download(xco2_direct_url, xco2_destination_folder, xco2_destination_filename) "
   ]
  },
  {
   "cell_type": "markdown",
   "id": "7510d706-628f-42d4-9198-113b01829142",
   "metadata": {},
   "source": [
    "#### NOAA (Mauna Loa)"
   ]
  },
  {
   "cell_type": "code",
   "execution_count": 12,
   "id": "4956ac30-6218-42a2-86e8-15ed14982488",
   "metadata": {},
   "outputs": [
    {
     "name": "stdout",
     "output_type": "stream",
     "text": [
      "Saving https://gml.noaa.gov/webdata/ccgg/trends/co2/co2_mm_mlo.csv to /data/artemis/workspace/ds4114/online_data/xCO2/originals/xCO2_NOAA_xCO2-mm-mlo-monthly_195803-202309.csv...\n",
      "Complete\n"
     ]
    }
   ],
   "source": [
    "#not sure where this file should come from exactly but likely the link below\n",
    "xco2_mauna_direct_url = \"https://gml.noaa.gov/webdata/ccgg/trends/co2/co2_mm_mlo.csv\"\n",
    "xco2_mauna_destination_folder = global_vars['download_folder']+r'xCO2/originals/'\n",
    "lastmonth_yearmonth = (datetime.date.today().replace(day=1) - datetime.timedelta(days=1)).strftime('%Y%m') #assuming data is updated\n",
    "xco2_mauna_destination_filename = 'xCO2_NOAA_xCO2-mm-mlo-monthly_195803-'+lastmonth_yearmonth+'.csv'\n",
    "download(xco2_mauna_direct_url, xco2_mauna_destination_folder, xco2_mauna_destination_filename) "
   ]
  },
  {
   "cell_type": "code",
   "execution_count": null,
   "id": "0481244d-6088-4621-81d5-072abb7ba11d",
   "metadata": {},
   "outputs": [],
   "source": []
  },
  {
   "cell_type": "markdown",
   "id": "9526d374-60b6-436a-9f25-dfc186f900a1",
   "metadata": {
    "tags": []
   },
   "source": [
    "## Processing: Atmospheric Carbon (xCO2)"
   ]
  },
  {
   "cell_type": "markdown",
   "id": "c468fa81-80bc-456d-9b8b-b4ab58bfa81e",
   "metadata": {},
   "source": [
    "#### NOAA (ESRL)"
   ]
  },
  {
   "cell_type": "code",
   "execution_count": 2,
   "id": "211e4adb-2baa-4a4c-b132-9d5d74a5c830",
   "metadata": {},
   "outputs": [],
   "source": [
    "#data was downloaded monthly as csv. Convert to a xarray\n",
    "#Note that the number of header rows (55) is hardcoded here\n",
    "xco2_df = pd.read_csv(global_vars['download_folder']+r'xCO2/originals/xCO2_NOAA_xCO2-mm-gl-monthly_197901-202308.csv', skiprows=55)  \n",
    "        #previously was xCO2_NOAA_xCO2-mm-gl-monthly_197901-202306.csv\n",
    "#xco2_df.head(3)"
   ]
  },
  {
   "cell_type": "code",
   "execution_count": 43,
   "id": "2fd5a102-b050-435d-b3fd-39d5d9cbfe7f",
   "metadata": {},
   "outputs": [],
   "source": [
    "#make time the index; drop unneeded columns; convert to xarray\n",
    "xco2_df['time'] = xco2_df.apply(lambda row: datetime.datetime(int(row.year), int(row.month), 15), axis=1) #putting as 15th of the month\n",
    "xco2_df['time'] = pd.to_datetime(xco2_df.time)\n",
    "xco2_df.index = pd.DatetimeIndex(xco2_df.time)\n",
    "\n",
    "xco2_xr = xco2_df[['trend']].to_xarray() #we only want the \"trend\" field because it matches historical work that did not factor seasonality \n",
    "xco2_xr_filtered = xco2_xr.sel(time=slice(str(processed_start_yearmonth),str(processed_end_yearmonth))) #filter for desired time\n",
    "xco2_xr_filtered = xco2_xr_filtered.rename({'trend': 'xco2_trend'})\n",
    "#xco2_xr_filtered"
   ]
  },
  {
   "cell_type": "code",
   "execution_count": 45,
   "id": "0f7e9c79-6f9a-481c-bc2c-ffa6bf198500",
   "metadata": {
    "scrolled": true
   },
   "outputs": [
    {
     "data": {
      "image/png": "[encoded data removed]",
      "text/plain": [
       "<Figure size 600x300 with 1 Axes>"
      ]
     },
     "metadata": {},
     "output_type": "display_data"
    }
   ],
   "source": [
    "fig = plt.figure(figsize=(figsizew,figsizeh))\n",
    "plt.plot(xco2_xr_filtered.time,xco2_xr_filtered.xco2_trend)\n",
    "plt.title('Atmospheric CO2 (trend)'); plt.xlabel('Year'); plt.ylabel('xCO2 (uatm)');"
   ]
  },
  {
   "cell_type": "code",
   "execution_count": 44,
   "id": "3ae4924c-1e48-46a5-b2ef-a9711c12e8bb",
   "metadata": {},
   "outputs": [
    {
     "name": "stdout",
     "output_type": "stream",
     "text": [
      "Cancelling output - xCO2_NOAA_xCO2-mm-gl-monthly_198201-202304.zarr already exists in gs://leap-persistent/ds4114/online_data/xCO2/processed/\n"
     ]
    }
   ],
   "source": [
    "output_xarray_with_date(xco2_xr_filtered, global_vars['download_folder']+'xCO2/processed/', 'xCO2_NOAA_xCO2-mm-gl-monthly', output_file_type)"
   ]
  },
  {
   "cell_type": "code",
   "execution_count": null,
   "id": "0d785da2-4ffc-472c-ba21-c14e64c4cb68",
   "metadata": {},
   "outputs": [],
   "source": []
  },
  {
   "cell_type": "markdown",
   "id": "0c3aead1-76a5-4e8d-be54-419aa7af1ca0",
   "metadata": {},
   "source": [
    "#### Mauna Loa - Back in Time"
   ]
  },
  {
   "cell_type": "markdown",
   "id": "2d8ccac3-b311-4d37-8a5e-8c89da742f3b",
   "metadata": {},
   "source": [
    "This requires SST, SLP, and SSS processed data back to 1959 to convert to fco2. I have not downloaded this data so this is just an example of the process/code using prior downloaded files"
   ]
  },
  {
   "cell_type": "code",
   "execution_count": 3,
   "id": "74424c4f-cb1c-4662-bc52-5e860d1b4843",
   "metadata": {},
   "outputs": [],
   "source": [
    "mauna = pd.read_csv(os.path.join(global_vars['download_folder'],'xCO2/originals/','xCO2_NOAA_xCO2-mm-mlo-monthly_195803-202309.csv'), skiprows=40) #hardcoded rows to skip\n",
    "esrl = pd.read_csv(os.path.join(global_vars['download_folder'],'xCO2/originals/','xCO2_NOAA_xCO2-mm-gl-monthly_197901-202309.csv'), skiprows=38) #hardcoded rows to skip"
   ]
  },
  {
   "cell_type": "code",
   "execution_count": 4,
   "id": "b558b6f5-978c-4caf-bbd9-03b209d03d93",
   "metadata": {},
   "outputs": [],
   "source": [
    "#To convert to fco2, requires 3 other datsets we should already have processed\n",
    "\n",
    "#load processed sst data \n",
    "if False: #should be updated to 1959 once but just not processing and downloading all that data so using different file instead\n",
    "    sst_xr = xr_open_dataset_custom(os.path.join(global_vars['download_folder'],'SST/processed/','SST_ECMWF_ERA5-monthly-reanalysis-1x1-SST_195901-202304.nc')).rename({'sst_era5':'sst'})\n",
    "else:\n",
    "    sst_xr = xr.open_dataset(f\"/data/artemis/observations/ERA5/processed/ERA5_SST_1x1_mon_1958-2022.nc\")\n",
    "sst = sst_xr.sel(time=slice(str(processed_start_yearmonth_back_in_time),str(processed_end_yearmonth))).sst\n",
    "\n",
    "#load processed sss data -\n",
    "if False: #should be updated to 1959 once but just not processing and downloading all that data so using different file instead\n",
    "    sss_xr = xr_open_dataset_custom(os.path.join(global_vars['download_folder'],'SSS/processed/','SSS_Met-Office-Hadley-Centre_EN422f-g10-analyses_198201-202304.nc'))        \n",
    "else:\n",
    "    sss_xr = xr.open_dataset(f\"/data/artemis/observations/EN422_salinity/processed/sss_1x1_mon_EN422_195901-202212.nc\").rename({'SSS':'sss'})\n",
    "sss = sss_xr.sel(time=slice(str(processed_start_yearmonth_back_in_time),str(processed_end_yearmonth))).sss\n",
    "\n",
    "#load processed mslp data\n",
    "if False: #actual data is very large (see data collection notes) so this is just an template using the prior processed dataset\n",
    "    mslp = xr_open_dataset_custom(os.path.join(global_vars['download_folder'],'SLP/processed/','SLP_ECMWF_ERA5-monthly-reanalysis-1x1-MSLP_195901-202304.nc')).mslp\n",
    "else:\n",
    "    #without downloading full data, we can just use prior version\n",
    "    mslp = xr.open_dataset(f'/data/artemis/observations/ERA5/processed/ERA5_MSLP_WS10_1x1_mon_1958-2022.nc').mslp / 100 # Pascals to hPa\n",
    "mslp = mslp.sel(time=slice(str(processed_start_yearmonth_back_in_time),str(processed_end_yearmonth)))"
   ]
  },
  {
   "cell_type": "code",
   "execution_count": 5,
   "id": "09f1ecf2-eff6-41ce-8836-99c72c4cf426",
   "metadata": {},
   "outputs": [],
   "source": [
    "# Create xarrays:\n",
    "#probably a better way to do the time slicing to organize but the start dates are fixed\n",
    "ml_dates   = ttime_back_in_time[(ttime_back_in_time >= '1958-03-01') ]\n",
    "esrl_dates = ttime_back_in_time[(ttime_back_in_time >= '1979-01-01') ] \n",
    "mauna_xr = xr.Dataset({ 'xco2':([\"time\"],mauna[(mauna.year >= 1959) & (mauna.year <= 2022)].average)},\n",
    "                        coords={'time': (['time'],ml_dates)})\n",
    "esrl_xr = xr.Dataset({  'xco2':([\"time\"],esrl[(esrl.year >= 1959) & (esrl.year <= 2022)].average)},\n",
    "                        coords={'time': (['time'],esrl_dates)})"
   ]
  },
  {
   "cell_type": "code",
   "execution_count": 6,
   "id": "c7d5a455-50bf-4cb8-a5dd-c16cc759ccff",
   "metadata": {},
   "outputs": [],
   "source": [
    "# Have years 1980/1982 to present directly from ESRL\n",
    "# Just use offset for prior to 1980 \n",
    "#UDPATE: using 1982 as cutoff not 1980 to be consistent with other processing (processed_start_yearmonth = '1982-01')\n",
    "\n",
    "diff_cycle = (mauna_xr.xco2.sel(time=slice(processed_start_yearmonth,processed_end_yearmonth)) \\\n",
    "            - esrl_xr.xco2.sel(time=slice(processed_start_yearmonth,processed_end_yearmonth))).groupby(\"time.month\").mean(\"time\")\n",
    "\n",
    "global_xco2 = np.empty(shape=(len(ttime_back_in_time))) #1959-2022 monthly\n",
    "\n",
    "#use difference between mauna loa and esrl for 1980-end to offset early years only available from mauna loa\n",
    "for yr in range(int(processed_start_yearmonth_back_in_time[0:4]),int(processed_start_yearmonth[0:4])):\n",
    "    global_xco2[(yr-int(processed_start_yearmonth_back_in_time[0:4]))*12:(yr-int(processed_start_yearmonth_back_in_time[0:4]))*12+12] = \\\n",
    "      mauna_xr.xco2.sel(time=slice(f\"01-01-{yr}\",f\"12-31-{yr}\")).values - diff_cycle.values \n",
    "\n",
    "#put in real values from esrl for global values\n",
    "global_xco2[(int(processed_start_yearmonth[0:4])-int(processed_start_yearmonth_back_in_time[0:4]))*12:(int(processed_end_yearmonth[0:4])-int(processed_start_yearmonth_back_in_time[0:4]))*12+12] = \\\n",
    "    esrl_xr.xco2.sel(time=slice(str(processed_start_yearmonth),str(processed_end_yearmonth))).values "
   ]
  },
  {
   "cell_type": "code",
   "execution_count": 7,
   "id": "15f843bb-c776-4cda-9be6-76910ebe22a9",
   "metadata": {},
   "outputs": [],
   "source": [
    "global_xco2_xr = xr.Dataset({'xco2':([\"time\"],global_xco2),\n",
    "                        'diff_cycle':([\"month\"],diff_cycle.values)},\n",
    "                        coords={'time': (['time'],ttime_back_in_time.values)})\n",
    "global_xco2_xr['xco2'].attrs['units'] = \"ppm\"\n",
    "global_xco2_xr['diff_cycle'].attrs['more info'] = \"Mean seasonal cycle of (Mauna Loa - ESRL) for 1982-2022\"\n",
    "global_xco2_xr['diff_cycle'].attrs['units'] = \"ppm\"\n",
    "global_xco2_xr.attrs['more_info'] = \"Prior to 1982, Global xCO2 estimated by Mauna Loa + Mean Seasonal Cycle of difference between Mauna Loa and ESRL for 1982-2022. After 1982, ESRL is used\"\n",
    "#global_xco2_xr.attrs['created_by'] = \"AFay, Mauna_ESRL.ipynb\"  "
   ]
  },
  {
   "cell_type": "code",
   "execution_count": 8,
   "id": "6e842d26-bf5f-48bb-9aa7-08dc862af6ba",
   "metadata": {},
   "outputs": [
    {
     "data": {
      "image/png": "[encoded data removed]",
      "text/plain": [
       "<Figure size 600x300 with 1 Axes>"
      ]
     },
     "metadata": {},
     "output_type": "display_data"
    }
   ],
   "source": [
    "fig = plt.figure(figsize=(figsizew,figsizeh))\n",
    "plt.plot(mauna_xr.time,mauna_xr.xco2,color='red',label=\"Mauna Loa\")\n",
    "plt.plot(esrl_xr.time,esrl_xr.xco2,color='black',label=\"ESRL Global\")\n",
    "plt.plot(ttime_back_in_time.values,global_xco2,'--',color='blue',label='Combined')\n",
    "plt.grid(True); plt.title(\"Global xCO2\"); plt.ylabel(\"ppm\"); plt.legend()\n",
    "plt.xlim(min(ttime_back_in_time.values),max(ttime_back_in_time.values));"
   ]
  },
  {
   "cell_type": "code",
   "execution_count": 9,
   "id": "e424063d-dea3-48aa-8669-a8fdfec44136",
   "metadata": {},
   "outputs": [
    {
     "name": "stderr",
     "output_type": "stream",
     "text": [
      "/tmp/ipykernel_142847/3375330731.py:60: Warning: There are 8 values that do not fall within the given limits (270, 318.5) of temperature (K)\n",
      "  warn(msg, Warning)\n"
     ]
    },
    {
     "name": "stdout",
     "output_type": "stream",
     "text": [
      "CPU times: user 19.5 s, sys: 13.7 s, total: 33.2 s\n",
      "Wall time: 33.3 s\n"
     ]
    }
   ],
   "source": [
    "%%time\n",
    "pco2 = calc_pco2_from_xco2(global_xco2_xr.xco2,mslp,sst,sss)\n",
    "mauna_pco2 = calc_pco2_from_xco2( (mauna_xr.xco2.sel(time=slice(processed_start_yearmonth_back_in_time,processed_end_yearmonth)))   ,mslp,sst,sss)\n",
    "fco2 = pCO2_to_fCO2(pco2, sst, mslp, tempEQ_C=None)\n",
    "mauna_fco2 = pCO2_to_fCO2(mauna_pco2, sst, mslp, tempEQ_C=None)"
   ]
  },
  {
   "cell_type": "code",
   "execution_count": 10,
   "id": "76c77855-0218-402b-a259-0a59bc6be750",
   "metadata": {},
   "outputs": [],
   "source": [
    "global_pco2_xr = xr.Dataset({\n",
    "                        'pco2':([\"time\",\"ylat\",\"xlon\"],pco2.data),\n",
    "                        'mauna_loa_pco2':([\"time\",\"ylat\",\"xlon\"],mauna_pco2.data),\n",
    "                        'fco2':([\"time\",\"ylat\",\"xlon\"],fco2),\n",
    "                        'mauna_loa_fco2':([\"time\",\"ylat\",\"xlon\"],mauna_fco2)},\n",
    "                        coords={'time': (['time'],global_xco2_xr.time.values),\n",
    "                               'lat':(['ylat'],sst.ylat.values),\n",
    "                               'lon':(['xlon'],sst.xlon.values)})\n",
    "\n",
    "global_pco2_xr['pco2'].attrs['units'] = \"micro atm\"\n",
    "global_pco2_xr['pco2'].attrs['more info'] = \"Water Vapor Corrected pCO2 using joined Mauna Loa (prior to 1982) and ESRL\"\n",
    "global_pco2_xr['fco2'].attrs['units'] = \"micro atm\"\n",
    "global_pco2_xr['fco2'].attrs['more info'] = \"Water Vapor Corrected fCO2 using joined Mauna Loa (prior to 1982) and ESRL, converted from pCO2\"\n",
    "global_pco2_xr['mauna_loa_pco2'].attrs['units'] = \"micro atm\"\n",
    "global_pco2_xr['mauna_loa_pco2'].attrs['more info'] = \"Water Vapor Corrected pCO2 using joined Mauna Loa entire time\"\n",
    "global_pco2_xr['mauna_loa_fco2'].attrs['units'] = \"micro atm\"\n",
    "global_pco2_xr['mauna_loa_fco2'].attrs['more info'] = \"Water Vapor Corrected fCO2 using joined Mauna Loa entire time\"\n",
    "global_pco2_xr.attrs['more_info'] = \"Prior to 1982, Global xCO2 estimated by Mauna Loa + Mean Seasonal Cycle of difference between Mauna Loa and ESRL for 1982-2022. After 1982, ESRL is used\"\n",
    "# global_pco2_xr.attrs['description'] = \"NOAA ERSST, EN4.2.1 SSS, ERA5 SLP used to get water vapor correction\"\n",
    "global_pco2_xr.attrs['description'] = \"ERA5 SST, EN4.2.1 SSS, ERA5 SLP used to get water vapor correction\" #previously val might have used NOAA SST but here she had it set up to ERA.\n",
    "global_pco2_xr.attrs['created_by'] = \"A Fay, Mauna_ESRL.ipynb\"  "
   ]
  },
  {
   "cell_type": "code",
   "execution_count": 11,
   "id": "f6013455-3bb2-4176-a8e2-fa00d44c7236",
   "metadata": {},
   "outputs": [
    {
     "name": "stdout",
     "output_type": "stream",
     "text": [
      "Cancelling output - xCO2_NOAA_pCO2-fCO2-corrected-ESRL-Mauna_195901-202212.nc already exists in /data/artemis/workspace/ds4114/online_data/xCO2/processed/\n"
     ]
    }
   ],
   "source": [
    "output_xarray_with_date(global_pco2_xr, os.path.join(global_vars['download_folder'],'xCO2/processed/'), 'xCO2_NOAA_pCO2-fCO2-corrected-ESRL-Mauna', filetype=output_file_type, overwrite=False)"
   ]
  },
  {
   "cell_type": "code",
   "execution_count": null,
   "id": "7cbf4de8-5a32-422b-b58f-ba10ab0070f5",
   "metadata": {},
   "outputs": [],
   "source": []
  }
 ],
 "metadata": {
  "kernelspec": {
   "display_name": "leap_test202310-4",
   "language": "python",
   "name": "leap_test202310-4"
  },
  "language_info": {
   "codemirror_mode": {
    "name": "ipython",
    "version": 3
   },
   "file_extension": ".py",
   "mimetype": "text/x-python",
   "name": "python",
   "nbconvert_exporter": "python",
   "pygments_lexer": "ipython3",
   "version": "3.11.6"
  }
 },
 "nbformat": 4,
 "nbformat_minor": 5
}
