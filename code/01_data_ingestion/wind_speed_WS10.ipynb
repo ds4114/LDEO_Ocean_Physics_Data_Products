{
 "cells": [
  {
   "cell_type": "markdown",
   "id": "c95a13ee-0fa8-46c8-9772-91e88713b04b",
   "metadata": {},
   "source": [
    "## Imports/Setup"
   ]
  },
  {
   "cell_type": "code",
   "execution_count": 5,
   "id": "4d96aa93-7ca4-45ae-adab-0e2081b7a0ca",
   "metadata": {},
   "outputs": [
    {
     "name": "stdout",
     "output_type": "stream",
     "text": [
      "env: ESMFMKFILE=/home/ds4114/.conda/envs/leap_test202308-3/lib/esmf.mk\n",
      "Files will be outputed as: .nc\n",
      "ECMWF CDS API key already installed\n"
     ]
    }
   ],
   "source": [
    "%run ../00_functions/00_custom_functions.ipynb\n",
    "standard_setup(extra_packages=True, verbose=False)\n",
    "data_ingestion_prep(start_yearmonth='1979-01', end_yearmonth='2022-12', verbose=False)"
   ]
  },
  {
   "cell_type": "markdown",
   "id": "3a6610b0-e380-49ee-80b5-304221e6ed20",
   "metadata": {
    "tags": []
   },
   "source": [
    "## Collection: Wind Speed"
   ]
  },
  {
   "cell_type": "markdown",
   "id": "2e575b40-44da-488c-8900-bbff89e97f19",
   "metadata": {},
   "source": [
    "#### ECMWF ERA5 Wind"
   ]
  },
  {
   "cell_type": "markdown",
   "id": "ff551744-d8a9-47d5-8a52-35b7a8129db9",
   "metadata": {},
   "source": [
    "In order to get the wind standard deviation, we need to download hourly data so it is very large. I have only done shown one example here because we already have the data downloaded/processed."
   ]
  },
  {
   "cell_type": "code",
   "execution_count": 19,
   "id": "f19034bb-330e-4355-be6e-14c8687a6b9e",
   "metadata": {},
   "outputs": [
    {
     "name": "stderr",
     "output_type": "stream",
     "text": [
      "2023-12-17 15:21:12,017 INFO Welcome to the CDS\n",
      "2023-12-17 15:21:12,018 INFO Sending request to https://cds.climate.copernicus.eu/api/v2/resources/reanalysis-era5-single-levels-monthly-means\n",
      "2023-12-17 15:21:12,145 INFO Request is queued\n",
      "2023-12-17 15:21:13,249 INFO Request is running\n",
      "2023-12-17 15:21:20,687 INFO Request is completed\n",
      "2023-12-17 15:21:20,689 INFO Downloading https://download-0009-clone.copernicus-climate.eu/cache-compute-0009/cache/data0/adaptor.mars.internal-1702844476.0123901-17563-1-d985df94-8350-41b8-b83e-99a57ae019e6.nc to ../tmp/Wind_ECMWF_ERA5-monthly-reanalysis-10m-uv-wind_2000.nc (47.5M)\n",
      "2023-12-17 15:21:23,501 INFO Download rate 16.9M/s  \n"
     ]
    },
    {
     "name": "stdout",
     "output_type": "stream",
     "text": [
      "Transferring to Destination /data/artemis/workspace/ds4114/online_data/Wind/originals/Wind_ECMWF_ERA5-monthly-reanalysis-10m-uv-wind_2000.nc...\n",
      "Complete\n"
     ]
    }
   ],
   "source": [
    "variable_list = ['10m_u_component_of_wind', '10m_v_component_of_wind']\n",
    "wind_destination_folder = global_vars['download_folder']+r'Wind/originals/'\n",
    "for year in range(2000, 2000+1, 1):  #just one year as an example\n",
    "    wind_destination_filename = ''\n",
    "    months = []\n",
    "    if year == datetime.datetime.now().year:   #if a partial year; this prevents erorrs trying to use the API to get future/non-existant data    \n",
    "        months = [i for i in range(1,datetime.datetime.now().month -1)]  \n",
    "        wind_destination_filename = 'Wind_ECMWF_ERA5-monthly-reanalysis-10m-uv-wind_'+str(year)+'.nc'  \n",
    "        #Note, partial years will not automatically be overwritten so you must manually clean up unneeded files\n",
    "    else:\n",
    "        wind_destination_filename = 'Wind_ECMWF_ERA5-monthly-reanalysis-10m-uv-wind_'+str(year)+'.nc'\n",
    "        months = [i for i in range(1,12+1)]\n",
    "\n",
    "    cdsapi_custom_download(year, months, variable_list, wind_destination_folder, wind_destination_filename, overwrite=False, create_dest=False)\n",
    "\n",
    "print('Wind Complete')"
   ]
  },
  {
   "cell_type": "code",
   "execution_count": 2,
   "id": "eade4013-97b7-4d20-8164-3b3654add57d",
   "metadata": {},
   "outputs": [],
   "source": [
    "#example from before: xr.open_dataset('/data/artemis/observations/ERA5/Winds_2020-01.nc')"
   ]
  },
  {
   "cell_type": "code",
   "execution_count": null,
   "id": "0481244d-6088-4621-81d5-072abb7ba11d",
   "metadata": {},
   "outputs": [],
   "source": []
  },
  {
   "cell_type": "markdown",
   "id": "9526d374-60b6-436a-9f25-dfc186f900a1",
   "metadata": {
    "tags": []
   },
   "source": [
    "## Processing: Wind Speeed"
   ]
  },
  {
   "cell_type": "markdown",
   "id": "c468fa81-80bc-456d-9b8b-b4ab58bfa81e",
   "metadata": {},
   "source": [
    "#### ECMWF ERA5 Wind"
   ]
  },
  {
   "cell_type": "markdown",
   "id": "e04272a8-7391-4da8-a111-1df31467d736",
   "metadata": {},
   "source": [
    "To get aggregate speed and wind std. Again, this is just an example because we dont have all the data downloaded"
   ]
  },
  {
   "cell_type": "code",
   "execution_count": 7,
   "id": "148e352e-77ed-488a-9e25-75917d00aa26",
   "metadata": {},
   "outputs": [],
   "source": [
    "wind = xr_open_mfdataset_custom(os.path.join(global_vars['download_folder'],'Wind/originals/','Wind_ECMWF_ERA5-monthly-reanalysis-10m-uv-wind_*.nc'))"
   ]
  },
  {
   "cell_type": "code",
   "execution_count": null,
   "id": "99a1107f-8c7f-4239-9968-3a8188d77f56",
   "metadata": {},
   "outputs": [],
   "source": [
    "wind_cut = wind.sel(time=slice(str(processed_start_yearmonth_back_in_time),str(processed_end_yearmonth))) #already monthly so select desired years\n",
    "\n",
    "#regrid to flip longitude\n",
    "wind_regridder = xesmf.Regridder(wind_cut, ideal_grid_back_in_time, 'bilinear', periodic=True) \n",
    "wind_cut_out = wind_regridder(wind_cut, keep_attrs=True)\n",
    "wind_cut_out = wind_cut_out.rename({'latitude': 'ylat','longitude': 'xlon'}) \n",
    "wind_cut_out = wind_cut_out.assign_coords(time=ttime_back_in_time)  #will break if we dont have all months downloaded\n",
    "\n",
    "#mabye combine u and v components here\n",
    "ws10 = (wind_cut_out.u10**2+wind_cut_out.v10**2)**0.5\n",
    "wind_out = ws10.to_dataset(name='ws10')"
   ]
  },
  {
   "cell_type": "raw",
   "id": "933d8fd4-1484-4ce3-82de-68105f0ea8c5",
   "metadata": {},
   "source": [
    "#to get stdev of wind, we need hourly data; something like this but may need modification\n",
    "if False:\n",
    "    wind_std = np.empty(shape=(len(ideal_grid_back_in_time.time),180,360))\n",
    "    i=0\n",
    "    for year in range(processed_start_yearmonth_back_in_time, processed_end_yearmonth+1, 1):\n",
    "        for month in ['01','02','03','04','05','06','07','08','09','10','11','12']:\n",
    "            wstd = ((wind_cut_out.u10**2 + wind_cut_out.v10**2)**0.5).sel(time=slice(str(year)+'-'+str(month))).std(\"time\")\n",
    "            wind_std[i,:,:] = wstd\n",
    "            i=i+1\n",
    "    wind_std_out = wstd.to_dataset(name='ws_std')"
   ]
  },
  {
   "cell_type": "code",
   "execution_count": null,
   "id": "7939aac2-0207-4186-a422-3743396f7e8c",
   "metadata": {},
   "outputs": [],
   "source": [
    "#merge wind_out and wind_std_out - TBD\n",
    "#output after\n",
    "    #output_xarray_with_date(wind_out, os.path.join(data_folder_root,'Wind/processed/'), 'Wind_ECMWF_ERA5-monthly-10m-uv-wind-1x1', filetype=output_file_type, overwrite=False)"
   ]
  }
 ],
 "metadata": {
  "kernelspec": {
   "display_name": "leap_test202310-4",
   "language": "python",
   "name": "leap_test202310-4"
  },
  "language_info": {
   "codemirror_mode": {
    "name": "ipython",
    "version": 3
   },
   "file_extension": ".py",
   "mimetype": "text/x-python",
   "name": "python",
   "nbconvert_exporter": "python",
   "pygments_lexer": "ipython3",
   "version": "3.11.6"
  }
 },
 "nbformat": 4,
 "nbformat_minor": 5
}
