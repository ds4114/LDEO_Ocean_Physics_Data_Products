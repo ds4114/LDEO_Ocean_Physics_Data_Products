{
 "cells": [
  {
   "cell_type": "markdown",
   "id": "c95a13ee-0fa8-46c8-9772-91e88713b04b",
   "metadata": {},
   "source": [
    "## Imports/Setup"
   ]
  },
  {
   "cell_type": "code",
   "execution_count": 33,
   "id": "4d96aa93-7ca4-45ae-adab-0e2081b7a0ca",
   "metadata": {},
   "outputs": [
    {
     "name": "stdout",
     "output_type": "stream",
     "text": [
      "env: ESMFMKFILE=/home/ds4114/.conda/envs/leap_test202308-3/lib/esmf.mk\n",
      "Files will be outputed as: .nc\n",
      "ECMWF CDS API key already installed\n"
     ]
    }
   ],
   "source": [
    "%run ../00_functions/00_custom_functions.ipynb\n",
    "standard_setup(extra_packages=True, verbose=False)\n",
    "data_ingestion_prep(start_yearmonth='1979-01', end_yearmonth='2022-12', verbose=False)"
   ]
  },
  {
   "cell_type": "markdown",
   "id": "3a6610b0-e380-49ee-80b5-304221e6ed20",
   "metadata": {
    "tags": []
   },
   "source": [
    "## Collection: Temperature (SST)"
   ]
  },
  {
   "cell_type": "markdown",
   "id": "59216ec5-970b-4281-8d09-dc23c2b7eaab",
   "metadata": {
    "tags": []
   },
   "source": [
    "#### NOAA"
   ]
  },
  {
   "cell_type": "code",
   "execution_count": null,
   "id": "16520bc1-bb0c-41d7-833a-58bd8e53f4e5",
   "metadata": {},
   "outputs": [],
   "source": [
    "#NOAA SST is easy because NOAA uses the same URL for all data across time periods (1981-09 to present only)\n",
    "#More info found on https://psl.noaa.gov/data/gridded/data.noaa.oisst.v2.highres.html\n",
    "sst_direct_url = 'https://downloads.psl.noaa.gov/Datasets/noaa.oisst.v2.highres/sst.mon.mean.nc' \n",
    "sst_destination_folder = global_vars['download_folder']+r'SST/originals/'\n",
    "sst_destination_filename = 'SST_NOAA_OI-V2-HighRes_198109-'+today_yearmonth+'.nc'  #data is only from 1981\n",
    "download(sst_direct_url, sst_destination_folder, sst_destination_filename)"
   ]
  },
  {
   "cell_type": "markdown",
   "id": "95ceab96-8130-4c51-874c-c5bbaf40dd8f",
   "metadata": {
    "jp-MarkdownHeadingCollapsed": true,
    "tags": []
   },
   "source": [
    "#### ECMWF"
   ]
  },
  {
   "cell_type": "code",
   "execution_count": 15,
   "id": "53cad2ab-8657-4391-a7a6-fc9148bffb17",
   "metadata": {},
   "outputs": [
    {
     "name": "stdout",
     "output_type": "stream",
     "text": [
      "File SST_ECMWF_ERA5-monthly-reanalysis-SST_1979.nc already exists - (skipping download from 1979 )\n",
      "File SST_ECMWF_ERA5-monthly-reanalysis-SST_1980.nc already exists - (skipping download from 1980 )\n",
      "File SST_ECMWF_ERA5-monthly-reanalysis-SST_1981.nc already exists - (skipping download from 1981 )\n",
      "File SST_ECMWF_ERA5-monthly-reanalysis-SST_1982.nc already exists - (skipping download from 1982 )\n",
      "File SST_ECMWF_ERA5-monthly-reanalysis-SST_1983.nc already exists - (skipping download from 1983 )\n",
      "File SST_ECMWF_ERA5-monthly-reanalysis-SST_1984.nc already exists - (skipping download from 1984 )\n",
      "File SST_ECMWF_ERA5-monthly-reanalysis-SST_1985.nc already exists - (skipping download from 1985 )\n",
      "File SST_ECMWF_ERA5-monthly-reanalysis-SST_1986.nc already exists - (skipping download from 1986 )\n",
      "File SST_ECMWF_ERA5-monthly-reanalysis-SST_1987.nc already exists - (skipping download from 1987 )\n",
      "File SST_ECMWF_ERA5-monthly-reanalysis-SST_1988.nc already exists - (skipping download from 1988 )\n",
      "File SST_ECMWF_ERA5-monthly-reanalysis-SST_1989.nc already exists - (skipping download from 1989 )\n",
      "File SST_ECMWF_ERA5-monthly-reanalysis-SST_1990.nc already exists - (skipping download from 1990 )\n",
      "File SST_ECMWF_ERA5-monthly-reanalysis-SST_1991.nc already exists - (skipping download from 1991 )\n",
      "File SST_ECMWF_ERA5-monthly-reanalysis-SST_1992.nc already exists - (skipping download from 1992 )\n",
      "File SST_ECMWF_ERA5-monthly-reanalysis-SST_1993.nc already exists - (skipping download from 1993 )\n",
      "File SST_ECMWF_ERA5-monthly-reanalysis-SST_1994.nc already exists - (skipping download from 1994 )\n",
      "File SST_ECMWF_ERA5-monthly-reanalysis-SST_1995.nc already exists - (skipping download from 1995 )\n",
      "File SST_ECMWF_ERA5-monthly-reanalysis-SST_1996.nc already exists - (skipping download from 1996 )\n",
      "File SST_ECMWF_ERA5-monthly-reanalysis-SST_1997.nc already exists - (skipping download from 1997 )\n",
      "File SST_ECMWF_ERA5-monthly-reanalysis-SST_1998.nc already exists - (skipping download from 1998 )\n",
      "File SST_ECMWF_ERA5-monthly-reanalysis-SST_1999.nc already exists - (skipping download from 1999 )\n",
      "File SST_ECMWF_ERA5-monthly-reanalysis-SST_2000.nc already exists - (skipping download from 2000 )\n",
      "File SST_ECMWF_ERA5-monthly-reanalysis-SST_2001.nc already exists - (skipping download from 2001 )\n",
      "File SST_ECMWF_ERA5-monthly-reanalysis-SST_2002.nc already exists - (skipping download from 2002 )\n",
      "File SST_ECMWF_ERA5-monthly-reanalysis-SST_2003.nc already exists - (skipping download from 2003 )\n",
      "File SST_ECMWF_ERA5-monthly-reanalysis-SST_2004.nc already exists - (skipping download from 2004 )\n",
      "File SST_ECMWF_ERA5-monthly-reanalysis-SST_2005.nc already exists - (skipping download from 2005 )\n",
      "File SST_ECMWF_ERA5-monthly-reanalysis-SST_2006.nc already exists - (skipping download from 2006 )\n",
      "File SST_ECMWF_ERA5-monthly-reanalysis-SST_2007.nc already exists - (skipping download from 2007 )\n",
      "File SST_ECMWF_ERA5-monthly-reanalysis-SST_2008.nc already exists - (skipping download from 2008 )\n",
      "File SST_ECMWF_ERA5-monthly-reanalysis-SST_2009.nc already exists - (skipping download from 2009 )\n",
      "File SST_ECMWF_ERA5-monthly-reanalysis-SST_2010.nc already exists - (skipping download from 2010 )\n",
      "File SST_ECMWF_ERA5-monthly-reanalysis-SST_2011.nc already exists - (skipping download from 2011 )\n",
      "File SST_ECMWF_ERA5-monthly-reanalysis-SST_2012.nc already exists - (skipping download from 2012 )\n",
      "File SST_ECMWF_ERA5-monthly-reanalysis-SST_2013.nc already exists - (skipping download from 2013 )\n",
      "File SST_ECMWF_ERA5-monthly-reanalysis-SST_2014.nc already exists - (skipping download from 2014 )\n",
      "File SST_ECMWF_ERA5-monthly-reanalysis-SST_2015.nc already exists - (skipping download from 2015 )\n",
      "File SST_ECMWF_ERA5-monthly-reanalysis-SST_2016.nc already exists - (skipping download from 2016 )\n",
      "File SST_ECMWF_ERA5-monthly-reanalysis-SST_2017.nc already exists - (skipping download from 2017 )\n",
      "File SST_ECMWF_ERA5-monthly-reanalysis-SST_2018.nc already exists - (skipping download from 2018 )\n",
      "File SST_ECMWF_ERA5-monthly-reanalysis-SST_2019.nc already exists - (skipping download from 2019 )\n",
      "File SST_ECMWF_ERA5-monthly-reanalysis-SST_2020.nc already exists - (skipping download from 2020 )\n",
      "File SST_ECMWF_ERA5-monthly-reanalysis-SST_2021.nc already exists - (skipping download from 2021 )\n",
      "File SST_ECMWF_ERA5-monthly-reanalysis-SST_2022.nc already exists - (skipping download from 2022 )\n"
     ]
    },
    {
     "name": "stderr",
     "output_type": "stream",
     "text": [
      "2023-08-28 14:05:43,444 INFO Welcome to the CDS\n",
      "2023-08-28 14:05:43,446 INFO Sending request to https://cds.climate.copernicus.eu/api/v2/resources/reanalysis-era5-single-levels-monthly-means\n",
      "2023-08-28 14:05:43,772 INFO Request is completed\n",
      "2023-08-28 14:05:43,774 INFO Downloading https://download-0020.copernicus-climate.eu/cache-compute-0020/cache/data7/adaptor.mars.internal-1693231843.3536522-7842-17-244bef39-e605-4dd6-ab69-958c74f39fae.nc to ../tmp/SST_ECMWF_ERA5-monthly-reanalysis-SST_2023.nc (11.9M)\n",
      "2023-08-28 14:05:53,632 INFO Download rate 1.2M/s   \n"
     ]
    },
    {
     "name": "stdout",
     "output_type": "stream",
     "text": [
      "Transferring to Destination /data/artemis/workspace/ds4114/online_data/SST/originals/SST_ECMWF_ERA5-monthly-reanalysis-SST_2023.nc...\n",
      "ERA5 SST Complete\n"
     ]
    }
   ],
   "source": [
    "#This SST dataset comes from European Centre for Medium-Range Weather Forecasts (1940-01 to present only). It is the same as the one used for SLP below.\n",
    "#More info can be found on https://cds.climate.copernicus.eu/cdsapp#!/dataset/reanalysis-era5-single-levels-monthly-means?tab=form\n",
    "#We installed the API and have an account, so now we can download the ERA5 data via a loop (yearly)\n",
    "#While this data can be downloaded together with SLP, we have chosen to break up the downloads for clarity and organization\n",
    "sst_destination_folder = global_vars['download_folder']+r'SST/originals/'\n",
    "for year in range(acquisition_start_year, acquisition_end_year+1, 1):\n",
    "    sst_destination_filename = ''\n",
    "    months = []\n",
    "    if year == datetime.datetime.now().year:   #if a partial year; this prevents erorrs trying to use the API to get future/non-existant data    \n",
    "        months = [i for i in range(1,datetime.datetime.now().month -1)]  \n",
    "        sst_destination_filename = 'SST_ECMWF_ERA5-monthly-reanalysis-SST_'+str(year)+'.nc'  \n",
    "        #Note, partial years will not automatically be overwritten so you must manually clean up unneeded files\n",
    "    else:\n",
    "        sst_destination_filename = 'SST_ECMWF_ERA5-monthly-reanalysis-SST_'+str(year)+'.nc'\n",
    "        months = [i for i in range(1,12+1)]\n",
    "\n",
    "    cdsapi_custom_download(year, months, 'sea_surface_temperature', sst_destination_folder, sst_destination_filename, overwrite=False, create_dest=False)\n",
    "    \n",
    "print(\"ERA5 SST Complete\")"
   ]
  },
  {
   "cell_type": "markdown",
   "id": "af24ff5f-af13-4fa2-b4a8-7abb3a535f0d",
   "metadata": {
    "jp-MarkdownHeadingCollapsed": true,
    "tags": []
   },
   "source": [
    "#### JRA55"
   ]
  },
  {
   "cell_type": "code",
   "execution_count": 12,
   "id": "91d6e0e7-8184-4f43-a2a8-0b5449550a1c",
   "metadata": {},
   "outputs": [
    {
     "name": "stdout",
     "output_type": "stream",
     "text": [
      "File SST_JMA_JRA55-do-daily-reanalysis-SST_1979.zarr already exists at gs://leap-persistent/ds4114/online_data/SST/originals/ - (skipping download from https://esgf-data2.llnl.gov/thredds/fileServer/user_pub_work/input4MIPs/CMIP6/OMIP/MRI/MRI-JRA55-do-1-5-0/ocean/day/tos/gn/v20200916/tos_input4MIPs_atmosphericState_OMIP_MRI-JRA55-do-1-5-0_gn_19790101-19791231.nc )\n",
      "File SST_JMA_JRA55-do-daily-reanalysis-SST_1980.zarr already exists at gs://leap-persistent/ds4114/online_data/SST/originals/ - (skipping download from https://esgf-data2.llnl.gov/thredds/fileServer/user_pub_work/input4MIPs/CMIP6/OMIP/MRI/MRI-JRA55-do-1-5-0/ocean/day/tos/gn/v20200916/tos_input4MIPs_atmosphericState_OMIP_MRI-JRA55-do-1-5-0_gn_19800101-19801231.nc )\n",
      "File SST_JMA_JRA55-do-daily-reanalysis-SST_1981.zarr already exists at gs://leap-persistent/ds4114/online_data/SST/originals/ - (skipping download from https://esgf-data2.llnl.gov/thredds/fileServer/user_pub_work/input4MIPs/CMIP6/OMIP/MRI/MRI-JRA55-do-1-5-0/ocean/day/tos/gn/v20200916/tos_input4MIPs_atmosphericState_OMIP_MRI-JRA55-do-1-5-0_gn_19810101-19811231.nc )\n",
      "File SST_JMA_JRA55-do-daily-reanalysis-SST_1982.zarr already exists at gs://leap-persistent/ds4114/online_data/SST/originals/ - (skipping download from https://esgf-data2.llnl.gov/thredds/fileServer/user_pub_work/input4MIPs/CMIP6/OMIP/MRI/MRI-JRA55-do-1-5-0/ocean/day/tos/gn/v20200916/tos_input4MIPs_atmosphericState_OMIP_MRI-JRA55-do-1-5-0_gn_19820101-19821231.nc )\n",
      "File SST_JMA_JRA55-do-daily-reanalysis-SST_1983.zarr already exists at gs://leap-persistent/ds4114/online_data/SST/originals/ - (skipping download from https://esgf-data2.llnl.gov/thredds/fileServer/user_pub_work/input4MIPs/CMIP6/OMIP/MRI/MRI-JRA55-do-1-5-0/ocean/day/tos/gn/v20200916/tos_input4MIPs_atmosphericState_OMIP_MRI-JRA55-do-1-5-0_gn_19830101-19831231.nc )\n",
      "File SST_JMA_JRA55-do-daily-reanalysis-SST_1984.zarr already exists at gs://leap-persistent/ds4114/online_data/SST/originals/ - (skipping download from https://esgf-data2.llnl.gov/thredds/fileServer/user_pub_work/input4MIPs/CMIP6/OMIP/MRI/MRI-JRA55-do-1-5-0/ocean/day/tos/gn/v20200916/tos_input4MIPs_atmosphericState_OMIP_MRI-JRA55-do-1-5-0_gn_19840101-19841231.nc )\n",
      "File SST_JMA_JRA55-do-daily-reanalysis-SST_1985.zarr already exists at gs://leap-persistent/ds4114/online_data/SST/originals/ - (skipping download from https://esgf-data2.llnl.gov/thredds/fileServer/user_pub_work/input4MIPs/CMIP6/OMIP/MRI/MRI-JRA55-do-1-5-0/ocean/day/tos/gn/v20200916/tos_input4MIPs_atmosphericState_OMIP_MRI-JRA55-do-1-5-0_gn_19850101-19851231.nc )\n",
      "File SST_JMA_JRA55-do-daily-reanalysis-SST_1986.zarr already exists at gs://leap-persistent/ds4114/online_data/SST/originals/ - (skipping download from https://esgf-data2.llnl.gov/thredds/fileServer/user_pub_work/input4MIPs/CMIP6/OMIP/MRI/MRI-JRA55-do-1-5-0/ocean/day/tos/gn/v20200916/tos_input4MIPs_atmosphericState_OMIP_MRI-JRA55-do-1-5-0_gn_19860101-19861231.nc )\n",
      "File SST_JMA_JRA55-do-daily-reanalysis-SST_1987.zarr already exists at gs://leap-persistent/ds4114/online_data/SST/originals/ - (skipping download from https://esgf-data2.llnl.gov/thredds/fileServer/user_pub_work/input4MIPs/CMIP6/OMIP/MRI/MRI-JRA55-do-1-5-0/ocean/day/tos/gn/v20200916/tos_input4MIPs_atmosphericState_OMIP_MRI-JRA55-do-1-5-0_gn_19870101-19871231.nc )\n",
      "File SST_JMA_JRA55-do-daily-reanalysis-SST_1988.zarr already exists at gs://leap-persistent/ds4114/online_data/SST/originals/ - (skipping download from https://esgf-data2.llnl.gov/thredds/fileServer/user_pub_work/input4MIPs/CMIP6/OMIP/MRI/MRI-JRA55-do-1-5-0/ocean/day/tos/gn/v20200916/tos_input4MIPs_atmosphericState_OMIP_MRI-JRA55-do-1-5-0_gn_19880101-19881231.nc )\n",
      "File SST_JMA_JRA55-do-daily-reanalysis-SST_1989.zarr already exists at gs://leap-persistent/ds4114/online_data/SST/originals/ - (skipping download from https://esgf-data2.llnl.gov/thredds/fileServer/user_pub_work/input4MIPs/CMIP6/OMIP/MRI/MRI-JRA55-do-1-5-0/ocean/day/tos/gn/v20200916/tos_input4MIPs_atmosphericState_OMIP_MRI-JRA55-do-1-5-0_gn_19890101-19891231.nc )\n",
      "File SST_JMA_JRA55-do-daily-reanalysis-SST_1990.zarr already exists at gs://leap-persistent/ds4114/online_data/SST/originals/ - (skipping download from https://esgf-data2.llnl.gov/thredds/fileServer/user_pub_work/input4MIPs/CMIP6/OMIP/MRI/MRI-JRA55-do-1-5-0/ocean/day/tos/gn/v20200916/tos_input4MIPs_atmosphericState_OMIP_MRI-JRA55-do-1-5-0_gn_19900101-19901231.nc )\n",
      "File SST_JMA_JRA55-do-daily-reanalysis-SST_1991.zarr already exists at gs://leap-persistent/ds4114/online_data/SST/originals/ - (skipping download from https://esgf-data2.llnl.gov/thredds/fileServer/user_pub_work/input4MIPs/CMIP6/OMIP/MRI/MRI-JRA55-do-1-5-0/ocean/day/tos/gn/v20200916/tos_input4MIPs_atmosphericState_OMIP_MRI-JRA55-do-1-5-0_gn_19910101-19911231.nc )\n",
      "File SST_JMA_JRA55-do-daily-reanalysis-SST_1992.zarr already exists at gs://leap-persistent/ds4114/online_data/SST/originals/ - (skipping download from https://esgf-data2.llnl.gov/thredds/fileServer/user_pub_work/input4MIPs/CMIP6/OMIP/MRI/MRI-JRA55-do-1-5-0/ocean/day/tos/gn/v20200916/tos_input4MIPs_atmosphericState_OMIP_MRI-JRA55-do-1-5-0_gn_19920101-19921231.nc )\n",
      "File SST_JMA_JRA55-do-daily-reanalysis-SST_1993.zarr already exists at gs://leap-persistent/ds4114/online_data/SST/originals/ - (skipping download from https://esgf-data2.llnl.gov/thredds/fileServer/user_pub_work/input4MIPs/CMIP6/OMIP/MRI/MRI-JRA55-do-1-5-0/ocean/day/tos/gn/v20200916/tos_input4MIPs_atmosphericState_OMIP_MRI-JRA55-do-1-5-0_gn_19930101-19931231.nc )\n",
      "File SST_JMA_JRA55-do-daily-reanalysis-SST_1994.zarr already exists at gs://leap-persistent/ds4114/online_data/SST/originals/ - (skipping download from https://esgf-data2.llnl.gov/thredds/fileServer/user_pub_work/input4MIPs/CMIP6/OMIP/MRI/MRI-JRA55-do-1-5-0/ocean/day/tos/gn/v20200916/tos_input4MIPs_atmosphericState_OMIP_MRI-JRA55-do-1-5-0_gn_19940101-19941231.nc )\n",
      "File SST_JMA_JRA55-do-daily-reanalysis-SST_1995.zarr already exists at gs://leap-persistent/ds4114/online_data/SST/originals/ - (skipping download from https://esgf-data2.llnl.gov/thredds/fileServer/user_pub_work/input4MIPs/CMIP6/OMIP/MRI/MRI-JRA55-do-1-5-0/ocean/day/tos/gn/v20200916/tos_input4MIPs_atmosphericState_OMIP_MRI-JRA55-do-1-5-0_gn_19950101-19951231.nc )\n",
      "File SST_JMA_JRA55-do-daily-reanalysis-SST_1996.zarr already exists at gs://leap-persistent/ds4114/online_data/SST/originals/ - (skipping download from https://esgf-data2.llnl.gov/thredds/fileServer/user_pub_work/input4MIPs/CMIP6/OMIP/MRI/MRI-JRA55-do-1-5-0/ocean/day/tos/gn/v20200916/tos_input4MIPs_atmosphericState_OMIP_MRI-JRA55-do-1-5-0_gn_19960101-19961231.nc )\n",
      "File SST_JMA_JRA55-do-daily-reanalysis-SST_1997.zarr already exists at gs://leap-persistent/ds4114/online_data/SST/originals/ - (skipping download from https://esgf-data2.llnl.gov/thredds/fileServer/user_pub_work/input4MIPs/CMIP6/OMIP/MRI/MRI-JRA55-do-1-5-0/ocean/day/tos/gn/v20200916/tos_input4MIPs_atmosphericState_OMIP_MRI-JRA55-do-1-5-0_gn_19970101-19971231.nc )\n",
      "File SST_JMA_JRA55-do-daily-reanalysis-SST_1998.zarr already exists at gs://leap-persistent/ds4114/online_data/SST/originals/ - (skipping download from https://esgf-data2.llnl.gov/thredds/fileServer/user_pub_work/input4MIPs/CMIP6/OMIP/MRI/MRI-JRA55-do-1-5-0/ocean/day/tos/gn/v20200916/tos_input4MIPs_atmosphericState_OMIP_MRI-JRA55-do-1-5-0_gn_19980101-19981231.nc )\n",
      "File SST_JMA_JRA55-do-daily-reanalysis-SST_1999.zarr already exists at gs://leap-persistent/ds4114/online_data/SST/originals/ - (skipping download from https://esgf-data2.llnl.gov/thredds/fileServer/user_pub_work/input4MIPs/CMIP6/OMIP/MRI/MRI-JRA55-do-1-5-0/ocean/day/tos/gn/v20200916/tos_input4MIPs_atmosphericState_OMIP_MRI-JRA55-do-1-5-0_gn_19990101-19991231.nc )\n",
      "File SST_JMA_JRA55-do-daily-reanalysis-SST_2000.zarr already exists at gs://leap-persistent/ds4114/online_data/SST/originals/ - (skipping download from https://esgf-data2.llnl.gov/thredds/fileServer/user_pub_work/input4MIPs/CMIP6/OMIP/MRI/MRI-JRA55-do-1-5-0/ocean/day/tos/gn/v20200916/tos_input4MIPs_atmosphericState_OMIP_MRI-JRA55-do-1-5-0_gn_20000101-20001231.nc )\n",
      "File SST_JMA_JRA55-do-daily-reanalysis-SST_2001.zarr already exists at gs://leap-persistent/ds4114/online_data/SST/originals/ - (skipping download from https://esgf-data2.llnl.gov/thredds/fileServer/user_pub_work/input4MIPs/CMIP6/OMIP/MRI/MRI-JRA55-do-1-5-0/ocean/day/tos/gn/v20200916/tos_input4MIPs_atmosphericState_OMIP_MRI-JRA55-do-1-5-0_gn_20010101-20011231.nc )\n",
      "File SST_JMA_JRA55-do-daily-reanalysis-SST_2002.zarr already exists at gs://leap-persistent/ds4114/online_data/SST/originals/ - (skipping download from https://esgf-data2.llnl.gov/thredds/fileServer/user_pub_work/input4MIPs/CMIP6/OMIP/MRI/MRI-JRA55-do-1-5-0/ocean/day/tos/gn/v20200916/tos_input4MIPs_atmosphericState_OMIP_MRI-JRA55-do-1-5-0_gn_20020101-20021231.nc )\n",
      "File SST_JMA_JRA55-do-daily-reanalysis-SST_2003.zarr already exists at gs://leap-persistent/ds4114/online_data/SST/originals/ - (skipping download from https://esgf-data2.llnl.gov/thredds/fileServer/user_pub_work/input4MIPs/CMIP6/OMIP/MRI/MRI-JRA55-do-1-5-0/ocean/day/tos/gn/v20200916/tos_input4MIPs_atmosphericState_OMIP_MRI-JRA55-do-1-5-0_gn_20030101-20031231.nc )\n",
      "File SST_JMA_JRA55-do-daily-reanalysis-SST_2004.zarr already exists at gs://leap-persistent/ds4114/online_data/SST/originals/ - (skipping download from https://esgf-data2.llnl.gov/thredds/fileServer/user_pub_work/input4MIPs/CMIP6/OMIP/MRI/MRI-JRA55-do-1-5-0/ocean/day/tos/gn/v20200916/tos_input4MIPs_atmosphericState_OMIP_MRI-JRA55-do-1-5-0_gn_20040101-20041231.nc )\n",
      "File SST_JMA_JRA55-do-daily-reanalysis-SST_2005.zarr already exists at gs://leap-persistent/ds4114/online_data/SST/originals/ - (skipping download from https://esgf-data2.llnl.gov/thredds/fileServer/user_pub_work/input4MIPs/CMIP6/OMIP/MRI/MRI-JRA55-do-1-5-0/ocean/day/tos/gn/v20200916/tos_input4MIPs_atmosphericState_OMIP_MRI-JRA55-do-1-5-0_gn_20050101-20051231.nc )\n",
      "File SST_JMA_JRA55-do-daily-reanalysis-SST_2006.zarr already exists at gs://leap-persistent/ds4114/online_data/SST/originals/ - (skipping download from https://esgf-data2.llnl.gov/thredds/fileServer/user_pub_work/input4MIPs/CMIP6/OMIP/MRI/MRI-JRA55-do-1-5-0/ocean/day/tos/gn/v20200916/tos_input4MIPs_atmosphericState_OMIP_MRI-JRA55-do-1-5-0_gn_20060101-20061231.nc )\n",
      "File SST_JMA_JRA55-do-daily-reanalysis-SST_2007.zarr already exists at gs://leap-persistent/ds4114/online_data/SST/originals/ - (skipping download from https://esgf-data2.llnl.gov/thredds/fileServer/user_pub_work/input4MIPs/CMIP6/OMIP/MRI/MRI-JRA55-do-1-5-0/ocean/day/tos/gn/v20200916/tos_input4MIPs_atmosphericState_OMIP_MRI-JRA55-do-1-5-0_gn_20070101-20071231.nc )\n",
      "File SST_JMA_JRA55-do-daily-reanalysis-SST_2008.zarr already exists at gs://leap-persistent/ds4114/online_data/SST/originals/ - (skipping download from https://esgf-data2.llnl.gov/thredds/fileServer/user_pub_work/input4MIPs/CMIP6/OMIP/MRI/MRI-JRA55-do-1-5-0/ocean/day/tos/gn/v20200916/tos_input4MIPs_atmosphericState_OMIP_MRI-JRA55-do-1-5-0_gn_20080101-20081231.nc )\n",
      "File SST_JMA_JRA55-do-daily-reanalysis-SST_2009.zarr already exists at gs://leap-persistent/ds4114/online_data/SST/originals/ - (skipping download from https://esgf-data2.llnl.gov/thredds/fileServer/user_pub_work/input4MIPs/CMIP6/OMIP/MRI/MRI-JRA55-do-1-5-0/ocean/day/tos/gn/v20200916/tos_input4MIPs_atmosphericState_OMIP_MRI-JRA55-do-1-5-0_gn_20090101-20091231.nc )\n",
      "File SST_JMA_JRA55-do-daily-reanalysis-SST_2010.zarr already exists at gs://leap-persistent/ds4114/online_data/SST/originals/ - (skipping download from https://esgf-data2.llnl.gov/thredds/fileServer/user_pub_work/input4MIPs/CMIP6/OMIP/MRI/MRI-JRA55-do-1-5-0/ocean/day/tos/gn/v20200916/tos_input4MIPs_atmosphericState_OMIP_MRI-JRA55-do-1-5-0_gn_20100101-20101231.nc )\n",
      "File SST_JMA_JRA55-do-daily-reanalysis-SST_2011.zarr already exists at gs://leap-persistent/ds4114/online_data/SST/originals/ - (skipping download from https://esgf-data2.llnl.gov/thredds/fileServer/user_pub_work/input4MIPs/CMIP6/OMIP/MRI/MRI-JRA55-do-1-5-0/ocean/day/tos/gn/v20200916/tos_input4MIPs_atmosphericState_OMIP_MRI-JRA55-do-1-5-0_gn_20110101-20111231.nc )\n",
      "File SST_JMA_JRA55-do-daily-reanalysis-SST_2012.zarr already exists at gs://leap-persistent/ds4114/online_data/SST/originals/ - (skipping download from https://esgf-data2.llnl.gov/thredds/fileServer/user_pub_work/input4MIPs/CMIP6/OMIP/MRI/MRI-JRA55-do-1-5-0/ocean/day/tos/gn/v20200916/tos_input4MIPs_atmosphericState_OMIP_MRI-JRA55-do-1-5-0_gn_20120101-20121231.nc )\n",
      "File SST_JMA_JRA55-do-daily-reanalysis-SST_2013.zarr already exists at gs://leap-persistent/ds4114/online_data/SST/originals/ - (skipping download from https://esgf-data2.llnl.gov/thredds/fileServer/user_pub_work/input4MIPs/CMIP6/OMIP/MRI/MRI-JRA55-do-1-5-0/ocean/day/tos/gn/v20200916/tos_input4MIPs_atmosphericState_OMIP_MRI-JRA55-do-1-5-0_gn_20130101-20131231.nc )\n",
      "File SST_JMA_JRA55-do-daily-reanalysis-SST_2014.zarr already exists at gs://leap-persistent/ds4114/online_data/SST/originals/ - (skipping download from https://esgf-data2.llnl.gov/thredds/fileServer/user_pub_work/input4MIPs/CMIP6/OMIP/MRI/MRI-JRA55-do-1-5-0/ocean/day/tos/gn/v20200916/tos_input4MIPs_atmosphericState_OMIP_MRI-JRA55-do-1-5-0_gn_20140101-20141231.nc )\n",
      "File SST_JMA_JRA55-do-daily-reanalysis-SST_2015.zarr already exists at gs://leap-persistent/ds4114/online_data/SST/originals/ - (skipping download from https://esgf-data2.llnl.gov/thredds/fileServer/user_pub_work/input4MIPs/CMIP6/OMIP/MRI/MRI-JRA55-do-1-5-0/ocean/day/tos/gn/v20200916/tos_input4MIPs_atmosphericState_OMIP_MRI-JRA55-do-1-5-0_gn_20150101-20151231.nc )\n",
      "File SST_JMA_JRA55-do-daily-reanalysis-SST_2016.zarr already exists at gs://leap-persistent/ds4114/online_data/SST/originals/ - (skipping download from https://esgf-data2.llnl.gov/thredds/fileServer/user_pub_work/input4MIPs/CMIP6/OMIP/MRI/MRI-JRA55-do-1-5-0/ocean/day/tos/gn/v20200916/tos_input4MIPs_atmosphericState_OMIP_MRI-JRA55-do-1-5-0_gn_20160101-20161231.nc )\n",
      "File SST_JMA_JRA55-do-daily-reanalysis-SST_2017.zarr already exists at gs://leap-persistent/ds4114/online_data/SST/originals/ - (skipping download from https://esgf-data2.llnl.gov/thredds/fileServer/user_pub_work/input4MIPs/CMIP6/OMIP/MRI/MRI-JRA55-do-1-5-0/ocean/day/tos/gn/v20200916/tos_input4MIPs_atmosphericState_OMIP_MRI-JRA55-do-1-5-0_gn_20170101-20171231.nc )\n",
      "File SST_JMA_JRA55-do-daily-reanalysis-SST_2018.zarr already exists at gs://leap-persistent/ds4114/online_data/SST/originals/ - (skipping download from https://esgf-data2.llnl.gov/thredds/fileServer/user_pub_work/input4MIPs/CMIP6/OMIP/MRI/MRI-JRA55-do-1-5-0/ocean/day/tos/gn/v20200916/tos_input4MIPs_atmosphericState_OMIP_MRI-JRA55-do-1-5-0_gn_20180101-20181231.nc )\n",
      "File SST_JMA_JRA55-do-daily-reanalysis-SST_2019.zarr already exists at gs://leap-persistent/ds4114/online_data/SST/originals/ - (skipping download from https://esgf-data2.llnl.gov/thredds/fileServer/user_pub_work/input4MIPs/CMIP6/OMIP/MRI/MRI-JRA55-do-1-5-0/ocean/day/tos/gn/v20200916/tos_input4MIPs_atmosphericState_OMIP_MRI-JRA55-do-1-5-0_gn_20190101-20191231.nc )\n",
      "File SST_JMA_JRA55-do-daily-reanalysis-SST_2020.zarr already exists at gs://leap-persistent/ds4114/online_data/SST/originals/ - (skipping download from https://climate.mri-jma.go.jp/pub/ocean/JRA55-do/ocean/day/tos/gn/v20210315/tos_input4MIPs_atmosphericState_OMIP_MRI-JRA55-do-1-5-0-1_gn_20200101-20201231.nc )\n",
      "File SST_JMA_JRA55-do-daily-reanalysis-SST_2021.zarr already exists at gs://leap-persistent/ds4114/online_data/SST/originals/ - (skipping download from https://climate.mri-jma.go.jp/pub/ocean/JRA55-do/ocean/day/tos/gn/latest/tos_input4MIPs_atmosphericState_OMIP_MRI-JRA55-do-1-5-0-1_gn_20210101-20211231.nc )\n",
      "File SST_JMA_JRA55-do-daily-reanalysis-SST_2022.zarr already exists at gs://leap-persistent/ds4114/online_data/SST/originals/ - (skipping download from https://climate.mri-jma.go.jp/pub/ocean/JRA55-do/ocean/day/tos/gn/latest/tos_input4MIPs_atmosphericState_OMIP_MRI-JRA55-do-1-5-0-1_gn_20220101-20221231.nc )\n",
      "Downloading to ../tmp/...\n",
      "Saving https://climate.mri-jma.go.jp/pub/ocean/JRA55-do/ocean/day/tos/gn/latest/tos_input4MIPs_atmosphericState_OMIP_MRI-JRA55-do-1-5-0-1_gn_20230101-20230824.nc to ../tmp/SST_JMA_JRA55-do-daily-reanalysis-SST_2023.nc...\n",
      "Complete\n",
      "Transferring to GS gs://leap-persistent/ds4114/online_data/SST/originals/SST_JMA_JRA55-do-daily-reanalysis-SST_2023.zarr...\n",
      "Complete\n",
      "JRA55 SST Complete\n"
     ]
    }
   ],
   "source": [
    "#This SST data source comes from Japan Meteorological Agency (JMA) (195801 - to 2023 only)\n",
    "#JRA55-do (Tsujino et al., 2018)  corrects the atmospheric reanalysis product JRA-55 (Kobayashi et al., 2015) \n",
    "#More info can be found on https://climate.mri-jma.go.jp/pub/ocean/JRA55-do/\n",
    "\n",
    "sst_destination_folder = global_vars['download_folder']+r'SST/originals/'\n",
    "for year in range(acquisition_start_year, acquisition_end_year+1, 1):\n",
    "    sst_jra55_destination_filename = 'SST_JMA_JRA55-do-daily-reanalysis-SST_'+str(year)+'.nc'\n",
    "    direct_link = None\n",
    "    \n",
    "    #downloading via direct links. Recent data (2020+) is hosted on a different site\n",
    "    if year == 2020:\n",
    "        direct_link = 'https://climate.mri-jma.go.jp/pub/ocean/JRA55-do/ocean/day/tos/gn/v20210315/tos_input4MIPs_atmosphericState_OMIP_MRI-JRA55-do-1-5-0-1_gn_20200101-20201231.nc'\n",
    "    elif year == 2021:\n",
    "        direct_link = 'https://climate.mri-jma.go.jp/pub/ocean/JRA55-do/ocean/day/tos/gn/latest/tos_input4MIPs_atmosphericState_OMIP_MRI-JRA55-do-1-5-0-1_gn_20210101-20211231.nc'\n",
    "    elif year == 2022:\n",
    "        direct_link = 'https://climate.mri-jma.go.jp/pub/ocean/JRA55-do/ocean/day/tos/gn/latest/tos_input4MIPs_atmosphericState_OMIP_MRI-JRA55-do-1-5-0-1_gn_20220101-20221231.nc'\n",
    "    elif year == 2023:\n",
    "        direct_link = 'https://climate.mri-jma.go.jp/pub/ocean/JRA55-do/ocean/day/tos/gn/latest/tos_input4MIPs_atmosphericState_OMIP_MRI-JRA55-do-1-5-0-1_gn_20230101-20230824.nc'\n",
    "            #previously: #direct_link = 'https://climate.mri-jma.go.jp/pub/ocean/JRA55-do/ocean/day/tos/gn/latest/tos_input4MIPs_atmosphericState_OMIP_MRI-JRA55-do-1-5-0-1_gn_20230101-20230629.nc'\n",
    "        sst_jra55_destination_filename = 'SST_JMA_JRA55-do-daily-reanalysis-SST_'+str(year)+'.nc' #rename if desired since only part of the year available\n",
    "    else:\n",
    "        base = 'https://esgf-data2.llnl.gov/thredds/fileServer/user_pub_work/input4MIPs/CMIP6/OMIP/MRI/MRI-JRA55-do-1-5-0/ocean/day/tos/gn/v20200916/tos_input4MIPs_atmosphericState_OMIP_MRI-JRA55-do-1-5-0_gn_'\n",
    "        end = str(year)+'0101-'+str(year)+'1231.nc'\n",
    "        direct_link = base + end  #ex: #https://esgf-data2.llnl.gov/thredds/fileServer/user_pub_work/input4MIPs/CMIP6/OMIP/MRI/MRI-JRA55-do-1-5-0/ocean/day/tos/gn/v20200916/tos_input4MIPs_atmosphericState_OMIP_MRI-JRA55-do-1-5-0_gn_19580101-19581231.nc\n",
    "    \n",
    "    download(direct_link, sst_destination_folder, sst_jra55_destination_filename)\n",
    "print(\"JRA55 SST Complete\")"
   ]
  },
  {
   "cell_type": "markdown",
   "id": "9526d374-60b6-436a-9f25-dfc186f900a1",
   "metadata": {
    "tags": []
   },
   "source": [
    "## Processing: Temperature (SST)"
   ]
  },
  {
   "cell_type": "markdown",
   "id": "61976aa2-1986-4ee9-adad-978706222df2",
   "metadata": {
    "jp-MarkdownHeadingCollapsed": true,
    "tags": []
   },
   "source": [
    "#### NOAA"
   ]
  },
  {
   "cell_type": "code",
   "execution_count": 10,
   "id": "af7f1174-f5ba-47af-87ae-cf746cfe6aec",
   "metadata": {},
   "outputs": [
    {
     "name": "stdout",
     "output_type": "stream",
     "text": [
      "Encountered an error - trying with gs://leap-persistent/ds4114/online_data/SST/originals/SST_NOAA_OI-V2-HighRes_198109-202308.zarr...\n",
      "Success.\n"
     ]
    }
   ],
   "source": [
    "sst = xr_open_dataset_custom(data_folder_root+r'SST/originals/SST_NOAA_OI-V2-HighRes_198109-202308.nc')  \n",
    "        #previously SST_NOAA_OI-V2-HighRes_198109-202306.nc\n",
    "#sst"
   ]
  },
  {
   "cell_type": "code",
   "execution_count": 11,
   "id": "1613fd4b-c940-4a36-b1d1-b05dc22f776e",
   "metadata": {},
   "outputs": [
    {
     "name": "stdout",
     "output_type": "stream",
     "text": [
      "CPU times: user 28.8 s, sys: 993 ms, total: 29.8 s\n",
      "Wall time: 29.8 s\n"
     ]
    }
   ],
   "source": [
    "%%time\n",
    "sst_filtered = sst.sel(time=slice(str(processed_start_yearmonth),str(processed_end_yearmonth))) #already monthly so select desired years\n",
    "sst_regridder = xesmf.Regridder(sst_filtered, ideal_grid, 'conservative', periodic=True)  #see notes above on why conservative over bilinear\n",
    "sst_out = sst_regridder(sst_filtered.chunk(-1) , keep_attrs=True)\n",
    "#sst_out"
   ]
  },
  {
   "cell_type": "code",
   "execution_count": 12,
   "id": "e4ae551e-7c35-4b0f-b528-3573602b432f",
   "metadata": {},
   "outputs": [],
   "source": [
    "sst_out = sst_out.rename({'latitude': 'ylat','longitude': 'xlon'}) #rename to be consistent with prior work\n",
    "sst_out = sst_out.assign_coords(time=ttime) #overwrite time dimension to be midmonth"
   ]
  },
  {
   "cell_type": "code",
   "execution_count": 13,
   "id": "31c7bb19-ffb5-4034-8daf-16763458fb80",
   "metadata": {},
   "outputs": [
    {
     "name": "stdout",
     "output_type": "stream",
     "text": [
      "Cancelling output - SST_NOAA_OI-V2-1x1_198201-202304.zarr already exists in gs://leap-persistent/ds4114/online_data/SST/processed/\n"
     ]
    }
   ],
   "source": [
    "output_xarray_with_date(sst_out, data_folder_root+'SST/processed/', 'SST_NOAA_OI-V2-1x1', output_file_type)"
   ]
  },
  {
   "cell_type": "code",
   "execution_count": 14,
   "id": "5c443464-ccb9-4661-86bd-d53549184ed7",
   "metadata": {},
   "outputs": [
    {
     "data": {
      "image/png": "[encoded data removed]",
      "text/plain": [
       "<Figure size 600x300 with 2 Axes>"
      ]
     },
     "metadata": {},
     "output_type": "display_data"
    }
   ],
   "source": [
    "fig = plt.figure(figsize=(figsizew,figsizeh))\n",
    "plt.contourf(ideal_grid.longitude,ideal_grid.latitude,sst_out.sst.sel(time='2022-06-15')) #just choosing latest time slice\n",
    "plt.title('NOAA SST (latest month)'); plt.xlabel('Lon'); plt.ylabel('Lat')\n",
    "plt.colorbar().set_label('deg C');"
   ]
  },
  {
   "cell_type": "markdown",
   "id": "eebb1236-0707-4961-b349-11f0c0356c65",
   "metadata": {
    "jp-MarkdownHeadingCollapsed": true,
    "tags": []
   },
   "source": [
    "#### ECMWF"
   ]
  },
  {
   "cell_type": "code",
   "execution_count": 15,
   "id": "5cb0b296-5dae-4694-acd2-95133f20b120",
   "metadata": {},
   "outputs": [
    {
     "name": "stdout",
     "output_type": "stream",
     "text": [
      "Encountered an error - trying with gs://leap-persistent/ds4114/online_data/SST/originals/SST_ECMWF_ERA5-monthly-reanalysis-SST_*.zarr\n",
      "Success.\n"
     ]
    }
   ],
   "source": [
    "#sst_era5 = xr.open_mfdataset(data_folder_root+r'SST/originals/SST_ECMWF_ERA5-monthly-reanalysis-SST_*.nc') \n",
    "sst_era5 = xr_open_mfdataset_custom(data_folder_root+r'SST/originals/SST_ECMWF_ERA5-monthly-reanalysis-SST_*.nc') "
   ]
  },
  {
   "cell_type": "code",
   "execution_count": 18,
   "id": "b2a18c65-c4d7-4855-a8cc-d5b046b8d3e4",
   "metadata": {},
   "outputs": [
    {
     "name": "stdout",
     "output_type": "stream",
     "text": [
      "CPU times: user 13.6 s, sys: 75.7 ms, total: 13.7 s\n",
      "Wall time: 13.7 s\n"
     ]
    }
   ],
   "source": [
    "%%time\n",
    "#Regrid sst_era5\n",
    "sst_era5_highres = sst_era5 #previously required sst_era5.sel(expver=1) to remove the experimental/recent data but dimension is not included now\n",
    "sst_era5_highres = sst_era5_highres.sst - 273.15  #Also convert deg K to deg C.\n",
    "    #Note the expver variable in era5 indicates new experimental data: #https://confluence.ecmwf.int/pages/viewpage.action?pageId=173385064\n",
    "sst_era5_highres = sst_era5_highres.sel(time=slice(str(processed_start_yearmonth),str(processed_end_yearmonth))) #already monthly so select desired years\n",
    "sst_era5_highres = xr.Dataset({'sst_era5':(['time','latitude','longitude'],sst_era5_highres.data),'time':(['time'],sst_era5_highres.time.data),'latitude':(['latitude'],sst_era5_highres.latitude.data),'longitude':(['longitude'],sst_era5_highres.longitude.data)})\n",
    "sst_era5_highres_regridder = xesmf.Regridder(sst_era5_highres, ideal_grid, 'bilinear', periodic=True) #See note above about bilinear vs conservative\n",
    "sst_era5_out = sst_era5_highres_regridder(sst_era5_highres.chunk(-1), keep_attrs=False)\n",
    "#sst_era5_out"
   ]
  },
  {
   "cell_type": "code",
   "execution_count": 19,
   "id": "602b5057-2ee9-41df-aaae-1357ecd558b4",
   "metadata": {},
   "outputs": [],
   "source": [
    "sst_era5_out = sst_era5_out.rename({'latitude': 'ylat','longitude': 'xlon'}) #rename to be consistent with prior work\n",
    "sst_era5_out = sst_era5_out.assign_coords(time=ttime) #overwrite time dimension to be midmonth\n",
    "sst_era5_out.sst_era5.attrs['units'] = 'deg C'"
   ]
  },
  {
   "cell_type": "code",
   "execution_count": 21,
   "id": "851eed91-d2c6-4944-82c6-6dd9b6da33e2",
   "metadata": {},
   "outputs": [
    {
     "name": "stdout",
     "output_type": "stream",
     "text": [
      "Saved SST_ECMWF_ERA5-monthly-reanalysis-1x1-SST_198201-202304.zarr to gs://leap-persistent/ds4114/online_data/SST/processed/\n"
     ]
    }
   ],
   "source": [
    "output_xarray_with_date(sst_era5_out, data_folder_root+'SST/processed/', 'SST_ECMWF_ERA5-monthly-reanalysis-1x1-SST', output_file_type)"
   ]
  },
  {
   "cell_type": "code",
   "execution_count": 20,
   "id": "0d9fcd01-29dd-4bc8-9ba9-6b66c2bc75ed",
   "metadata": {},
   "outputs": [
    {
     "data": {
      "image/png": "[encoded data removed]",
      "text/plain": [
       "<Figure size 600x300 with 2 Axes>"
      ]
     },
     "metadata": {},
     "output_type": "display_data"
    }
   ],
   "source": [
    "fig = plt.figure(figsize=(figsizew,figsizeh))\n",
    "plt.contourf(ideal_grid.longitude,ideal_grid.latitude,sst_era5_out.sst_era5.sel(time='2022-06-15').data) #just choosing one time slice\n",
    "plt.title('ERA5 SST (last summer)'); plt.xlabel('Lon'); plt.ylabel('Lat')\n",
    "plt.colorbar().set_label('deg C');"
   ]
  },
  {
   "cell_type": "markdown",
   "id": "518000fa-8278-46f9-aadb-3f6027de6b73",
   "metadata": {
    "jp-MarkdownHeadingCollapsed": true,
    "tags": []
   },
   "source": [
    "#### JRA55"
   ]
  },
  {
   "cell_type": "code",
   "execution_count": 22,
   "id": "a9ec9f81-50a5-4a55-b3d9-991537afbfba",
   "metadata": {},
   "outputs": [
    {
     "name": "stdout",
     "output_type": "stream",
     "text": [
      "Encountered an error - trying with gs://leap-persistent/ds4114/online_data/SST/originals/SST_JMA_JRA55-do-daily-reanalysis-SST_*.zarr\n",
      "Success.\n"
     ]
    }
   ],
   "source": [
    "sst_jra55 = xr_open_mfdataset_custom(data_folder_root+r'SST/originals/SST_JMA_JRA55-do-daily-reanalysis-SST_*.nc')\n",
    "#There is a lot of metadata in these files"
   ]
  },
  {
   "cell_type": "code",
   "execution_count": 33,
   "id": "52536be0-c7b2-4acf-9017-6ffb18bb9b75",
   "metadata": {},
   "outputs": [
    {
     "data": {
      "text/html": [
       "<div><svg style=\"position: absolute; width: 0; height: 0; overflow: hidden\">\n",
       "<defs>\n",
       "<symbol id=\"icon-database\" viewBox=\"0 0 32 32\">\n",
       "<path d=\"M16 0c-8.837 0-16 2.239-16 5v4c0 2.761 7.163 5 16 5s16-2.239 16-5v-4c0-2.761-7.163-5-16-5z\"></path>\n",
       "<path d=\"M16 17c-8.837 0-16-2.239-16-5v6c0 2.761 7.163 5 16 5s16-2.239 16-5v-6c0 2.761-7.163 5-16 5z\"></path>\n",
       "<path d=\"M16 26c-8.837 0-16-2.239-16-5v6c0 2.761 7.163 5 16 5s16-2.239 16-5v-6c0 2.761-7.163 5-16 5z\"></path>\n",
       "</symbol>\n",
       "<symbol id=\"icon-file-text2\" viewBox=\"0 0 32 32\">\n",
       "<path d=\"M28.681 7.159c-0.694-0.947-1.662-2.053-2.724-3.116s-2.169-2.030-3.116-2.724c-1.612-1.182-2.393-1.319-2.841-1.319h-15.5c-1.378 0-2.5 1.121-2.5 2.5v27c0 1.378 1.122 2.5 2.5 2.5h23c1.378 0 2.5-1.122 2.5-2.5v-19.5c0-0.448-0.137-1.23-1.319-2.841zM24.543 5.457c0.959 0.959 1.712 1.825 2.268 2.543h-4.811v-4.811c0.718 0.556 1.584 1.309 2.543 2.268zM28 29.5c0 0.271-0.229 0.5-0.5 0.5h-23c-0.271 0-0.5-0.229-0.5-0.5v-27c0-0.271 0.229-0.5 0.5-0.5 0 0 15.499-0 15.5 0v7c0 0.552 0.448 1 1 1h7v19.5z\"></path>\n",
       "<path d=\"M23 26h-14c-0.552 0-1-0.448-1-1s0.448-1 1-1h14c0.552 0 1 0.448 1 1s-0.448 1-1 1z\"></path>\n",
       "<path d=\"M23 22h-14c-0.552 0-1-0.448-1-1s0.448-1 1-1h14c0.552 0 1 0.448 1 1s-0.448 1-1 1z\"></path>\n",
       "<path d=\"M23 18h-14c-0.552 0-1-0.448-1-1s0.448-1 1-1h14c0.552 0 1 0.448 1 1s-0.448 1-1 1z\"></path>\n",
       "</symbol>\n",
       "</defs>\n",
       "</svg>\n",
       "<style>/* CSS stylesheet for displaying xarray objects in jupyterlab.\n",
       " *\n",
       " */\n",
       "\n",
       ":root {\n",
       "  --xr-font-color0: var(--jp-content-font-color0, rgba(0, 0, 0, 1));\n",
       "  --xr-font-color2: var(--jp-content-font-color2, rgba(0, 0, 0, 0.54));\n",
       "  --xr-font-color3: var(--jp-content-font-color3, rgba(0, 0, 0, 0.38));\n",
       "  --xr-border-color: var(--jp-border-color2, #e0e0e0);\n",
       "  --xr-disabled-color: var(--jp-layout-color3, #bdbdbd);\n",
       "  --xr-background-color: var(--jp-layout-color0, white);\n",
       "  --xr-background-color-row-even: var(--jp-layout-color1, white);\n",
       "  --xr-background-color-row-odd: var(--jp-layout-color2, #eeeeee);\n",
       "}\n",
       "\n",
       "html[theme=dark],\n",
       "body[data-theme=dark],\n",
       "body.vscode-dark {\n",
       "  --xr-font-color0: rgba(255, 255, 255, 1);\n",
       "  --xr-font-color2: rgba(255, 255, 255, 0.54);\n",
       "  --xr-font-color3: rgba(255, 255, 255, 0.38);\n",
       "  --xr-border-color: #1F1F1F;\n",
       "  --xr-disabled-color: #515151;\n",
       "  --xr-background-color: #111111;\n",
       "  --xr-background-color-row-even: #111111;\n",
       "  --xr-background-color-row-odd: #313131;\n",
       "}\n",
       "\n",
       ".xr-wrap {\n",
       "  display: block !important;\n",
       "  min-width: 300px;\n",
       "  max-width: 700px;\n",
       "}\n",
       "\n",
       ".xr-text-repr-fallback {\n",
       "  /* fallback to plain text repr when CSS is not injected (untrusted notebook) */\n",
       "  display: none;\n",
       "}\n",
       "\n",
       ".xr-header {\n",
       "  padding-top: 6px;\n",
       "  padding-bottom: 6px;\n",
       "  margin-bottom: 4px;\n",
       "  border-bottom: solid 1px var(--xr-border-color);\n",
       "}\n",
       "\n",
       ".xr-header > div,\n",
       ".xr-header > ul {\n",
       "  display: inline;\n",
       "  margin-top: 0;\n",
       "  margin-bottom: 0;\n",
       "}\n",
       "\n",
       ".xr-obj-type,\n",
       ".xr-array-name {\n",
       "  margin-left: 2px;\n",
       "  margin-right: 10px;\n",
       "}\n",
       "\n",
       ".xr-obj-type {\n",
       "  color: var(--xr-font-color2);\n",
       "}\n",
       "\n",
       ".xr-sections {\n",
       "  padding-left: 0 !important;\n",
       "  display: grid;\n",
       "  grid-template-columns: 150px auto auto 1fr 20px 20px;\n",
       "}\n",
       "\n",
       ".xr-section-item {\n",
       "  display: contents;\n",
       "}\n",
       "\n",
       ".xr-section-item input {\n",
       "  display: none;\n",
       "}\n",
       "\n",
       ".xr-section-item input + label {\n",
       "  color: var(--xr-disabled-color);\n",
       "}\n",
       "\n",
       ".xr-section-item input:enabled + label {\n",
       "  cursor: pointer;\n",
       "  color: var(--xr-font-color2);\n",
       "}\n",
       "\n",
       ".xr-section-item input:enabled + label:hover {\n",
       "  color: var(--xr-font-color0);\n",
       "}\n",
       "\n",
       ".xr-section-summary {\n",
       "  grid-column: 1;\n",
       "  color: var(--xr-font-color2);\n",
       "  font-weight: 500;\n",
       "}\n",
       "\n",
       ".xr-section-summary > span {\n",
       "  display: inline-block;\n",
       "  padding-left: 0.5em;\n",
       "}\n",
       "\n",
       ".xr-section-summary-in:disabled + label {\n",
       "  color: var(--xr-font-color2);\n",
       "}\n",
       "\n",
       ".xr-section-summary-in + label:before {\n",
       "  display: inline-block;\n",
       "  content: '►';\n",
       "  font-size: 11px;\n",
       "  width: 15px;\n",
       "  text-align: center;\n",
       "}\n",
       "\n",
       ".xr-section-summary-in:disabled + label:before {\n",
       "  color: var(--xr-disabled-color);\n",
       "}\n",
       "\n",
       ".xr-section-summary-in:checked + label:before {\n",
       "  content: '▼';\n",
       "}\n",
       "\n",
       ".xr-section-summary-in:checked + label > span {\n",
       "  display: none;\n",
       "}\n",
       "\n",
       ".xr-section-summary,\n",
       ".xr-section-inline-details {\n",
       "  padding-top: 4px;\n",
       "  padding-bottom: 4px;\n",
       "}\n",
       "\n",
       ".xr-section-inline-details {\n",
       "  grid-column: 2 / -1;\n",
       "}\n",
       "\n",
       ".xr-section-details {\n",
       "  display: none;\n",
       "  grid-column: 1 / -1;\n",
       "  margin-bottom: 5px;\n",
       "}\n",
       "\n",
       ".xr-section-summary-in:checked ~ .xr-section-details {\n",
       "  display: contents;\n",
       "}\n",
       "\n",
       ".xr-array-wrap {\n",
       "  grid-column: 1 / -1;\n",
       "  display: grid;\n",
       "  grid-template-columns: 20px auto;\n",
       "}\n",
       "\n",
       ".xr-array-wrap > label {\n",
       "  grid-column: 1;\n",
       "  vertical-align: top;\n",
       "}\n",
       "\n",
       ".xr-preview {\n",
       "  color: var(--xr-font-color3);\n",
       "}\n",
       "\n",
       ".xr-array-preview,\n",
       ".xr-array-data {\n",
       "  padding: 0 5px !important;\n",
       "  grid-column: 2;\n",
       "}\n",
       "\n",
       ".xr-array-data,\n",
       ".xr-array-in:checked ~ .xr-array-preview {\n",
       "  display: none;\n",
       "}\n",
       "\n",
       ".xr-array-in:checked ~ .xr-array-data,\n",
       ".xr-array-preview {\n",
       "  display: inline-block;\n",
       "}\n",
       "\n",
       ".xr-dim-list {\n",
       "  display: inline-block !important;\n",
       "  list-style: none;\n",
       "  padding: 0 !important;\n",
       "  margin: 0;\n",
       "}\n",
       "\n",
       ".xr-dim-list li {\n",
       "  display: inline-block;\n",
       "  padding: 0;\n",
       "  margin: 0;\n",
       "}\n",
       "\n",
       ".xr-dim-list:before {\n",
       "  content: '(';\n",
       "}\n",
       "\n",
       ".xr-dim-list:after {\n",
       "  content: ')';\n",
       "}\n",
       "\n",
       ".xr-dim-list li:not(:last-child):after {\n",
       "  content: ',';\n",
       "  padding-right: 5px;\n",
       "}\n",
       "\n",
       ".xr-has-index {\n",
       "  font-weight: bold;\n",
       "}\n",
       "\n",
       ".xr-var-list,\n",
       ".xr-var-item {\n",
       "  display: contents;\n",
       "}\n",
       "\n",
       ".xr-var-item > div,\n",
       ".xr-var-item label,\n",
       ".xr-var-item > .xr-var-name span {\n",
       "  background-color: var(--xr-background-color-row-even);\n",
       "  margin-bottom: 0;\n",
       "}\n",
       "\n",
       ".xr-var-item > .xr-var-name:hover span {\n",
       "  padding-right: 5px;\n",
       "}\n",
       "\n",
       ".xr-var-list > li:nth-child(odd) > div,\n",
       ".xr-var-list > li:nth-child(odd) > label,\n",
       ".xr-var-list > li:nth-child(odd) > .xr-var-name span {\n",
       "  background-color: var(--xr-background-color-row-odd);\n",
       "}\n",
       "\n",
       ".xr-var-name {\n",
       "  grid-column: 1;\n",
       "}\n",
       "\n",
       ".xr-var-dims {\n",
       "  grid-column: 2;\n",
       "}\n",
       "\n",
       ".xr-var-dtype {\n",
       "  grid-column: 3;\n",
       "  text-align: right;\n",
       "  color: var(--xr-font-color2);\n",
       "}\n",
       "\n",
       ".xr-var-preview {\n",
       "  grid-column: 4;\n",
       "}\n",
       "\n",
       ".xr-index-preview {\n",
       "  grid-column: 2 / 5;\n",
       "  color: var(--xr-font-color2);\n",
       "}\n",
       "\n",
       ".xr-var-name,\n",
       ".xr-var-dims,\n",
       ".xr-var-dtype,\n",
       ".xr-preview,\n",
       ".xr-attrs dt {\n",
       "  white-space: nowrap;\n",
       "  overflow: hidden;\n",
       "  text-overflow: ellipsis;\n",
       "  padding-right: 10px;\n",
       "}\n",
       "\n",
       ".xr-var-name:hover,\n",
       ".xr-var-dims:hover,\n",
       ".xr-var-dtype:hover,\n",
       ".xr-attrs dt:hover {\n",
       "  overflow: visible;\n",
       "  width: auto;\n",
       "  z-index: 1;\n",
       "}\n",
       "\n",
       ".xr-var-attrs,\n",
       ".xr-var-data,\n",
       ".xr-index-data {\n",
       "  display: none;\n",
       "  background-color: var(--xr-background-color) !important;\n",
       "  padding-bottom: 5px !important;\n",
       "}\n",
       "\n",
       ".xr-var-attrs-in:checked ~ .xr-var-attrs,\n",
       ".xr-var-data-in:checked ~ .xr-var-data,\n",
       ".xr-index-data-in:checked ~ .xr-index-data {\n",
       "  display: block;\n",
       "}\n",
       "\n",
       ".xr-var-data > table {\n",
       "  float: right;\n",
       "}\n",
       "\n",
       ".xr-var-name span,\n",
       ".xr-var-data,\n",
       ".xr-index-name div,\n",
       ".xr-index-data,\n",
       ".xr-attrs {\n",
       "  padding-left: 25px !important;\n",
       "}\n",
       "\n",
       ".xr-attrs,\n",
       ".xr-var-attrs,\n",
       ".xr-var-data,\n",
       ".xr-index-data {\n",
       "  grid-column: 1 / -1;\n",
       "}\n",
       "\n",
       "dl.xr-attrs {\n",
       "  padding: 0;\n",
       "  margin: 0;\n",
       "  display: grid;\n",
       "  grid-template-columns: 125px auto;\n",
       "}\n",
       "\n",
       ".xr-attrs dt,\n",
       ".xr-attrs dd {\n",
       "  padding: 0;\n",
       "  margin: 0;\n",
       "  float: left;\n",
       "  padding-right: 10px;\n",
       "  width: auto;\n",
       "}\n",
       "\n",
       ".xr-attrs dt {\n",
       "  font-weight: normal;\n",
       "  grid-column: 1;\n",
       "}\n",
       "\n",
       ".xr-attrs dt:hover span {\n",
       "  display: inline-block;\n",
       "  background: var(--xr-background-color);\n",
       "  padding-right: 10px;\n",
       "}\n",
       "\n",
       ".xr-attrs dd {\n",
       "  grid-column: 2;\n",
       "  white-space: pre-wrap;\n",
       "  word-break: break-all;\n",
       "}\n",
       "\n",
       ".xr-icon-database,\n",
       ".xr-icon-file-text2,\n",
       ".xr-no-icon {\n",
       "  display: inline-block;\n",
       "  vertical-align: middle;\n",
       "  width: 1em;\n",
       "  height: 1.5em !important;\n",
       "  stroke-width: 0;\n",
       "  stroke: currentColor;\n",
       "  fill: currentColor;\n",
       "}\n",
       "</style><pre class='xr-text-repr-fallback'>&lt;xarray.Dataset&gt;\n",
       "Dimensions:    (time: 496, latitude: 180, longitude: 360)\n",
       "Coordinates:\n",
       "  * time       (time) datetime64[ns] 1982-01-31 1982-02-28 ... 2023-04-30\n",
       "  * latitude   (latitude) float64 -89.5 -88.5 -87.5 -86.5 ... 87.5 88.5 89.5\n",
       "  * longitude  (longitude) float64 -179.5 -178.5 -177.5 ... 177.5 178.5 179.5\n",
       "Data variables:\n",
       "    sst_jra55  (time, latitude, longitude) float32 dask.array&lt;chunksize=(496, 180, 360), meta=np.ndarray&gt;\n",
       "Attributes:\n",
       "    regrid_method:  bilinear</pre><div class='xr-wrap' style='display:none'><div class='xr-header'><div class='xr-obj-type'>xarray.Dataset</div></div><ul class='xr-sections'><li class='xr-section-item'><input id='section-75dcf645-0a73-4914-963a-55cc68b4cbbc' class='xr-section-summary-in' type='checkbox' disabled ><label for='section-75dcf645-0a73-4914-963a-55cc68b4cbbc' class='xr-section-summary'  title='Expand/collapse section'>Dimensions:</label><div class='xr-section-inline-details'><ul class='xr-dim-list'><li><span class='xr-has-index'>time</span>: 496</li><li><span class='xr-has-index'>latitude</span>: 180</li><li><span class='xr-has-index'>longitude</span>: 360</li></ul></div><div class='xr-section-details'></div></li><li class='xr-section-item'><input id='section-76126469-fbec-4a1f-a5ef-b314b5ed68e6' class='xr-section-summary-in' type='checkbox'  checked><label for='section-76126469-fbec-4a1f-a5ef-b314b5ed68e6' class='xr-section-summary' >Coordinates: <span>(3)</span></label><div class='xr-section-inline-details'></div><div class='xr-section-details'><ul class='xr-var-list'><li class='xr-var-item'><div class='xr-var-name'><span class='xr-has-index'>time</span></div><div class='xr-var-dims'>(time)</div><div class='xr-var-dtype'>datetime64[ns]</div><div class='xr-var-preview xr-preview'>1982-01-31 ... 2023-04-30</div><input id='attrs-974c956f-2a3b-4f3b-a2e6-9d7824979f67' class='xr-var-attrs-in' type='checkbox' disabled><label for='attrs-974c956f-2a3b-4f3b-a2e6-9d7824979f67' title='Show/Hide attributes'><svg class='icon xr-icon-file-text2'><use xlink:href='#icon-file-text2'></use></svg></label><input id='data-2aa8df71-aaf0-444d-8771-b010fb11daf2' class='xr-var-data-in' type='checkbox'><label for='data-2aa8df71-aaf0-444d-8771-b010fb11daf2' title='Show/Hide data repr'><svg class='icon xr-icon-database'><use xlink:href='#icon-database'></use></svg></label><div class='xr-var-attrs'><dl class='xr-attrs'></dl></div><div class='xr-var-data'><pre>array([&#x27;1982-01-31T00:00:00.000000000&#x27;, &#x27;1982-02-28T00:00:00.000000000&#x27;,\n",
       "       &#x27;1982-03-31T00:00:00.000000000&#x27;, ..., &#x27;2023-02-28T00:00:00.000000000&#x27;,\n",
       "       &#x27;2023-03-31T00:00:00.000000000&#x27;, &#x27;2023-04-30T00:00:00.000000000&#x27;],\n",
       "      dtype=&#x27;datetime64[ns]&#x27;)</pre></div></li><li class='xr-var-item'><div class='xr-var-name'><span class='xr-has-index'>latitude</span></div><div class='xr-var-dims'>(latitude)</div><div class='xr-var-dtype'>float64</div><div class='xr-var-preview xr-preview'>-89.5 -88.5 -87.5 ... 88.5 89.5</div><input id='attrs-9637ea69-f9e7-42d7-8b0e-83f169630751' class='xr-var-attrs-in' type='checkbox' disabled><label for='attrs-9637ea69-f9e7-42d7-8b0e-83f169630751' title='Show/Hide attributes'><svg class='icon xr-icon-file-text2'><use xlink:href='#icon-file-text2'></use></svg></label><input id='data-14df568a-f86e-4f97-a636-0ff93e997a06' class='xr-var-data-in' type='checkbox'><label for='data-14df568a-f86e-4f97-a636-0ff93e997a06' title='Show/Hide data repr'><svg class='icon xr-icon-database'><use xlink:href='#icon-database'></use></svg></label><div class='xr-var-attrs'><dl class='xr-attrs'></dl></div><div class='xr-var-data'><pre>array([-89.5, -88.5, -87.5, -86.5, -85.5, -84.5, -83.5, -82.5, -81.5, -80.5,\n",
       "       -79.5, -78.5, -77.5, -76.5, -75.5, -74.5, -73.5, -72.5, -71.5, -70.5,\n",
       "       -69.5, -68.5, -67.5, -66.5, -65.5, -64.5, -63.5, -62.5, -61.5, -60.5,\n",
       "       -59.5, -58.5, -57.5, -56.5, -55.5, -54.5, -53.5, -52.5, -51.5, -50.5,\n",
       "       -49.5, -48.5, -47.5, -46.5, -45.5, -44.5, -43.5, -42.5, -41.5, -40.5,\n",
       "       -39.5, -38.5, -37.5, -36.5, -35.5, -34.5, -33.5, -32.5, -31.5, -30.5,\n",
       "       -29.5, -28.5, -27.5, -26.5, -25.5, -24.5, -23.5, -22.5, -21.5, -20.5,\n",
       "       -19.5, -18.5, -17.5, -16.5, -15.5, -14.5, -13.5, -12.5, -11.5, -10.5,\n",
       "        -9.5,  -8.5,  -7.5,  -6.5,  -5.5,  -4.5,  -3.5,  -2.5,  -1.5,  -0.5,\n",
       "         0.5,   1.5,   2.5,   3.5,   4.5,   5.5,   6.5,   7.5,   8.5,   9.5,\n",
       "        10.5,  11.5,  12.5,  13.5,  14.5,  15.5,  16.5,  17.5,  18.5,  19.5,\n",
       "        20.5,  21.5,  22.5,  23.5,  24.5,  25.5,  26.5,  27.5,  28.5,  29.5,\n",
       "        30.5,  31.5,  32.5,  33.5,  34.5,  35.5,  36.5,  37.5,  38.5,  39.5,\n",
       "        40.5,  41.5,  42.5,  43.5,  44.5,  45.5,  46.5,  47.5,  48.5,  49.5,\n",
       "        50.5,  51.5,  52.5,  53.5,  54.5,  55.5,  56.5,  57.5,  58.5,  59.5,\n",
       "        60.5,  61.5,  62.5,  63.5,  64.5,  65.5,  66.5,  67.5,  68.5,  69.5,\n",
       "        70.5,  71.5,  72.5,  73.5,  74.5,  75.5,  76.5,  77.5,  78.5,  79.5,\n",
       "        80.5,  81.5,  82.5,  83.5,  84.5,  85.5,  86.5,  87.5,  88.5,  89.5])</pre></div></li><li class='xr-var-item'><div class='xr-var-name'><span class='xr-has-index'>longitude</span></div><div class='xr-var-dims'>(longitude)</div><div class='xr-var-dtype'>float64</div><div class='xr-var-preview xr-preview'>-179.5 -178.5 ... 178.5 179.5</div><input id='attrs-75dc3b6e-53af-444f-b979-7d27efce8698' class='xr-var-attrs-in' type='checkbox' disabled><label for='attrs-75dc3b6e-53af-444f-b979-7d27efce8698' title='Show/Hide attributes'><svg class='icon xr-icon-file-text2'><use xlink:href='#icon-file-text2'></use></svg></label><input id='data-c2fd04a3-c4db-4d3b-b376-670cb9a1f51e' class='xr-var-data-in' type='checkbox'><label for='data-c2fd04a3-c4db-4d3b-b376-670cb9a1f51e' title='Show/Hide data repr'><svg class='icon xr-icon-database'><use xlink:href='#icon-database'></use></svg></label><div class='xr-var-attrs'><dl class='xr-attrs'></dl></div><div class='xr-var-data'><pre>array([-179.5, -178.5, -177.5, ...,  177.5,  178.5,  179.5])</pre></div></li></ul></div></li><li class='xr-section-item'><input id='section-4af87ee0-a183-449a-bdff-3002972e1875' class='xr-section-summary-in' type='checkbox'  checked><label for='section-4af87ee0-a183-449a-bdff-3002972e1875' class='xr-section-summary' >Data variables: <span>(1)</span></label><div class='xr-section-inline-details'></div><div class='xr-section-details'><ul class='xr-var-list'><li class='xr-var-item'><div class='xr-var-name'><span>sst_jra55</span></div><div class='xr-var-dims'>(time, latitude, longitude)</div><div class='xr-var-dtype'>float32</div><div class='xr-var-preview xr-preview'>dask.array&lt;chunksize=(496, 180, 360), meta=np.ndarray&gt;</div><input id='attrs-07e1d9fd-a135-40cb-b925-20d691535291' class='xr-var-attrs-in' type='checkbox' disabled><label for='attrs-07e1d9fd-a135-40cb-b925-20d691535291' title='Show/Hide attributes'><svg class='icon xr-icon-file-text2'><use xlink:href='#icon-file-text2'></use></svg></label><input id='data-5bc38ceb-f454-450b-8ee1-508c99eaa79f' class='xr-var-data-in' type='checkbox'><label for='data-5bc38ceb-f454-450b-8ee1-508c99eaa79f' title='Show/Hide data repr'><svg class='icon xr-icon-database'><use xlink:href='#icon-database'></use></svg></label><div class='xr-var-attrs'><dl class='xr-attrs'></dl></div><div class='xr-var-data'><table>\n",
       "    <tr>\n",
       "        <td>\n",
       "            <table style=\"border-collapse: collapse;\">\n",
       "                <thead>\n",
       "                    <tr>\n",
       "                        <td> </td>\n",
       "                        <th> Array </th>\n",
       "                        <th> Chunk </th>\n",
       "                    </tr>\n",
       "                </thead>\n",
       "                <tbody>\n",
       "                    \n",
       "                    <tr>\n",
       "                        <th> Bytes </th>\n",
       "                        <td> 122.61 MiB </td>\n",
       "                        <td> 122.61 MiB </td>\n",
       "                    </tr>\n",
       "                    \n",
       "                    <tr>\n",
       "                        <th> Shape </th>\n",
       "                        <td> (496, 180, 360) </td>\n",
       "                        <td> (496, 180, 360) </td>\n",
       "                    </tr>\n",
       "                    <tr>\n",
       "                        <th> Dask graph </th>\n",
       "                        <td colspan=\"2\"> 1 chunks in 507 graph layers </td>\n",
       "                    </tr>\n",
       "                    <tr>\n",
       "                        <th> Data type </th>\n",
       "                        <td colspan=\"2\"> float32 numpy.ndarray </td>\n",
       "                    </tr>\n",
       "                </tbody>\n",
       "            </table>\n",
       "        </td>\n",
       "        <td>\n",
       "        <svg width=\"217\" height=\"164\" style=\"stroke:rgb(0,0,0);stroke-width:1\" >\n",
       "\n",
       "  <!-- Horizontal lines -->\n",
       "  <line x1=\"10\" y1=\"0\" x2=\"80\" y2=\"70\" style=\"stroke-width:2\" />\n",
       "  <line x1=\"10\" y1=\"44\" x2=\"80\" y2=\"114\" style=\"stroke-width:2\" />\n",
       "\n",
       "  <!-- Vertical lines -->\n",
       "  <line x1=\"10\" y1=\"0\" x2=\"10\" y2=\"44\" style=\"stroke-width:2\" />\n",
       "  <line x1=\"80\" y1=\"70\" x2=\"80\" y2=\"114\" style=\"stroke-width:2\" />\n",
       "\n",
       "  <!-- Colored Rectangle -->\n",
       "  <polygon points=\"10.0,0.0 80.58823529411765,70.58823529411765 80.58823529411765,114.73238234289896 10.0,44.144147048781306\" style=\"fill:#ECB172A0;stroke-width:0\"/>\n",
       "\n",
       "  <!-- Horizontal lines -->\n",
       "  <line x1=\"10\" y1=\"0\" x2=\"97\" y2=\"0\" style=\"stroke-width:2\" />\n",
       "  <line x1=\"80\" y1=\"70\" x2=\"167\" y2=\"70\" style=\"stroke-width:2\" />\n",
       "\n",
       "  <!-- Vertical lines -->\n",
       "  <line x1=\"10\" y1=\"0\" x2=\"80\" y2=\"70\" style=\"stroke-width:2\" />\n",
       "  <line x1=\"97\" y1=\"0\" x2=\"167\" y2=\"70\" style=\"stroke-width:2\" />\n",
       "\n",
       "  <!-- Colored Rectangle -->\n",
       "  <polygon points=\"10.0,0.0 97.09677419354838,0.0 167.68500948766604,70.58823529411765 80.58823529411765,70.58823529411765\" style=\"fill:#ECB172A0;stroke-width:0\"/>\n",
       "\n",
       "  <!-- Horizontal lines -->\n",
       "  <line x1=\"80\" y1=\"70\" x2=\"167\" y2=\"70\" style=\"stroke-width:2\" />\n",
       "  <line x1=\"80\" y1=\"114\" x2=\"167\" y2=\"114\" style=\"stroke-width:2\" />\n",
       "\n",
       "  <!-- Vertical lines -->\n",
       "  <line x1=\"80\" y1=\"70\" x2=\"80\" y2=\"114\" style=\"stroke-width:2\" />\n",
       "  <line x1=\"167\" y1=\"70\" x2=\"167\" y2=\"114\" style=\"stroke-width:2\" />\n",
       "\n",
       "  <!-- Colored Rectangle -->\n",
       "  <polygon points=\"80.58823529411765,70.58823529411765 167.68500948766604,70.58823529411765 167.68500948766604,114.73238234289896 80.58823529411765,114.73238234289896\" style=\"fill:#ECB172A0;stroke-width:0\"/>\n",
       "\n",
       "  <!-- Text -->\n",
       "  <text x=\"124.136622\" y=\"134.732382\" font-size=\"1.0rem\" font-weight=\"100\" text-anchor=\"middle\" >360</text>\n",
       "  <text x=\"187.685009\" y=\"92.660309\" font-size=\"1.0rem\" font-weight=\"100\" text-anchor=\"middle\" transform=\"rotate(-90,187.685009,92.660309)\">180</text>\n",
       "  <text x=\"35.294118\" y=\"99.438265\" font-size=\"1.0rem\" font-weight=\"100\" text-anchor=\"middle\" transform=\"rotate(45,35.294118,99.438265)\">496</text>\n",
       "</svg>\n",
       "        </td>\n",
       "    </tr>\n",
       "</table></div></li></ul></div></li><li class='xr-section-item'><input id='section-6358db40-8bd9-4951-97ed-a116e17132f1' class='xr-section-summary-in' type='checkbox'  ><label for='section-6358db40-8bd9-4951-97ed-a116e17132f1' class='xr-section-summary' >Indexes: <span>(3)</span></label><div class='xr-section-inline-details'></div><div class='xr-section-details'><ul class='xr-var-list'><li class='xr-var-item'><div class='xr-index-name'><div>time</div></div><div class='xr-index-preview'>PandasIndex</div><div></div><input id='index-a5e3802f-c53d-4556-9250-3470070ceae2' class='xr-index-data-in' type='checkbox'/><label for='index-a5e3802f-c53d-4556-9250-3470070ceae2' title='Show/Hide index repr'><svg class='icon xr-icon-database'><use xlink:href='#icon-database'></use></svg></label><div class='xr-index-data'><pre>PandasIndex(DatetimeIndex([&#x27;1982-01-31&#x27;, &#x27;1982-02-28&#x27;, &#x27;1982-03-31&#x27;, &#x27;1982-04-30&#x27;,\n",
       "               &#x27;1982-05-31&#x27;, &#x27;1982-06-30&#x27;, &#x27;1982-07-31&#x27;, &#x27;1982-08-31&#x27;,\n",
       "               &#x27;1982-09-30&#x27;, &#x27;1982-10-31&#x27;,\n",
       "               ...\n",
       "               &#x27;2022-07-31&#x27;, &#x27;2022-08-31&#x27;, &#x27;2022-09-30&#x27;, &#x27;2022-10-31&#x27;,\n",
       "               &#x27;2022-11-30&#x27;, &#x27;2022-12-31&#x27;, &#x27;2023-01-31&#x27;, &#x27;2023-02-28&#x27;,\n",
       "               &#x27;2023-03-31&#x27;, &#x27;2023-04-30&#x27;],\n",
       "              dtype=&#x27;datetime64[ns]&#x27;, name=&#x27;time&#x27;, length=496, freq=None))</pre></div></li><li class='xr-var-item'><div class='xr-index-name'><div>latitude</div></div><div class='xr-index-preview'>PandasIndex</div><div></div><input id='index-99b1ff20-484c-421a-ba94-8f87ccabd7e4' class='xr-index-data-in' type='checkbox'/><label for='index-99b1ff20-484c-421a-ba94-8f87ccabd7e4' title='Show/Hide index repr'><svg class='icon xr-icon-database'><use xlink:href='#icon-database'></use></svg></label><div class='xr-index-data'><pre>PandasIndex(Float64Index([-89.5, -88.5, -87.5, -86.5, -85.5, -84.5, -83.5, -82.5, -81.5,\n",
       "              -80.5,\n",
       "              ...\n",
       "               80.5,  81.5,  82.5,  83.5,  84.5,  85.5,  86.5,  87.5,  88.5,\n",
       "               89.5],\n",
       "             dtype=&#x27;float64&#x27;, name=&#x27;latitude&#x27;, length=180))</pre></div></li><li class='xr-var-item'><div class='xr-index-name'><div>longitude</div></div><div class='xr-index-preview'>PandasIndex</div><div></div><input id='index-adae4971-5ae2-4b70-b1c4-4721aab157c2' class='xr-index-data-in' type='checkbox'/><label for='index-adae4971-5ae2-4b70-b1c4-4721aab157c2' title='Show/Hide index repr'><svg class='icon xr-icon-database'><use xlink:href='#icon-database'></use></svg></label><div class='xr-index-data'><pre>PandasIndex(Float64Index([-179.5, -178.5, -177.5, -176.5, -175.5, -174.5, -173.5, -172.5,\n",
       "              -171.5, -170.5,\n",
       "              ...\n",
       "               170.5,  171.5,  172.5,  173.5,  174.5,  175.5,  176.5,  177.5,\n",
       "               178.5,  179.5],\n",
       "             dtype=&#x27;float64&#x27;, name=&#x27;longitude&#x27;, length=360))</pre></div></li></ul></div></li><li class='xr-section-item'><input id='section-b5f3d07f-64d8-4ffe-9fcf-7607833ed81a' class='xr-section-summary-in' type='checkbox'  checked><label for='section-b5f3d07f-64d8-4ffe-9fcf-7607833ed81a' class='xr-section-summary' >Attributes: <span>(1)</span></label><div class='xr-section-inline-details'></div><div class='xr-section-details'><dl class='xr-attrs'><dt><span>regrid_method :</span></dt><dd>bilinear</dd></dl></div></li></ul></div></div>"
      ],
      "text/plain": [
       "<xarray.Dataset>\n",
       "Dimensions:    (time: 496, latitude: 180, longitude: 360)\n",
       "Coordinates:\n",
       "  * time       (time) datetime64[ns] 1982-01-31 1982-02-28 ... 2023-04-30\n",
       "  * latitude   (latitude) float64 -89.5 -88.5 -87.5 -86.5 ... 87.5 88.5 89.5\n",
       "  * longitude  (longitude) float64 -179.5 -178.5 -177.5 ... 177.5 178.5 179.5\n",
       "Data variables:\n",
       "    sst_jra55  (time, latitude, longitude) float32 dask.array<chunksize=(496, 180, 360), meta=np.ndarray>\n",
       "Attributes:\n",
       "    regrid_method:  bilinear"
      ]
     },
     "execution_count": 33,
     "metadata": {},
     "output_type": "execute_result"
    }
   ],
   "source": [
    "#Data is on a dialy basis so we need to average to get a monthly SST\n",
    "sst_jra55_monthly = sst_jra55.tos.resample({'time':'1m'}).mean()\n",
    "    #np.array(test.sel(time='2018-01-31',lat=0.5,lon=.5)) #28.461128\n",
    "\n",
    "#Next, regrid\n",
    "sst_jra55_monthly = sst_jra55_monthly.sel(time=slice(str(processed_start_yearmonth),str(processed_end_yearmonth))) #to select desired years\n",
    "sst_jra55_monthly = sst_jra55_monthly.to_dataset(name='sst_jra55')\n",
    "sst_jra55_monthly_regridder = xesmf.Regridder(sst_jra55_monthly, ideal_grid, 'bilinear', periodic=True) #See note above about bilinear vs conservative\n",
    "sst_jra55_out = sst_jra55_monthly_regridder(sst_jra55_monthly.chunk(-1), keep_attrs=False)\n",
    "#sst_jra55_out"
   ]
  },
  {
   "cell_type": "code",
   "execution_count": 34,
   "id": "2576fcea-3a44-4bfd-a74a-bf488237b609",
   "metadata": {},
   "outputs": [],
   "source": [
    "sst_jra55_out = sst_jra55_out.rename({'latitude': 'ylat','longitude': 'xlon'}) #rename to be consistent with prior work\n",
    "sst_jra55_out = sst_jra55_out.transpose('time','ylat','xlon')\n",
    "sst_jra55_out = sst_jra55_out.assign_coords(time=ttime) #overwrite time dimension to be midmonth\n",
    "sst_jra55_out.attrs['units'] = 'deg C'"
   ]
  },
  {
   "cell_type": "code",
   "execution_count": 36,
   "id": "2c58935f-4901-4154-a85c-f7d0df0e530b",
   "metadata": {},
   "outputs": [
    {
     "name": "stdout",
     "output_type": "stream",
     "text": [
      "Saved SST_JMA_JRA55-do-monthly-reanalysis-SST_198201-202304.zarr to gs://leap-persistent/ds4114/online_data/SST/processed/\n"
     ]
    }
   ],
   "source": [
    "output_xarray_with_date(sst_jra55_out, data_folder_root+'SST/processed/', 'SST_JMA_JRA55-do-monthly-reanalysis-SST', output_file_type)"
   ]
  },
  {
   "cell_type": "code",
   "execution_count": 35,
   "id": "e7acc911-3fcc-477d-b5ca-69f6703d7f62",
   "metadata": {},
   "outputs": [
    {
     "data": {
      "image/png": "[encoded data removed]",
      "text/plain": [
       "<Figure size 600x300 with 2 Axes>"
      ]
     },
     "metadata": {},
     "output_type": "display_data"
    }
   ],
   "source": [
    "fig = plt.figure(figsize=(figsizew,figsizeh))\n",
    "plt.contourf(ideal_grid.longitude,ideal_grid.latitude,sst_jra55_out.sst_jra55.sel(time='2022-06-15').data) #just choosing one time slice\n",
    "plt.title('JRA55 SST (last summer)'); plt.xlabel('Lon'); plt.ylabel('Lat')\n",
    "plt.colorbar().set_label('deg C');"
   ]
  }
 ],
 "metadata": {
  "kernelspec": {
   "display_name": "leap_test202310-4",
   "language": "python",
   "name": "leap_test202310-4"
  },
  "language_info": {
   "codemirror_mode": {
    "name": "ipython",
    "version": 3
   },
   "file_extension": ".py",
   "mimetype": "text/x-python",
   "name": "python",
   "nbconvert_exporter": "python",
   "pygments_lexer": "ipython3",
   "version": "3.11.6"
  }
 },
 "nbformat": 4,
 "nbformat_minor": 5
}
