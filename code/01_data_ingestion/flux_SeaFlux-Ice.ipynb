{
 "cells": [
  {
   "cell_type": "markdown",
   "id": "c95a13ee-0fa8-46c8-9772-91e88713b04b",
   "metadata": {},
   "source": [
    "## Imports/Setup"
   ]
  },
  {
   "cell_type": "code",
   "execution_count": 4,
   "id": "4d96aa93-7ca4-45ae-adab-0e2081b7a0ca",
   "metadata": {},
   "outputs": [
    {
     "name": "stdout",
     "output_type": "stream",
     "text": [
      "env: ESMFMKFILE=/home/ds4114/.conda/envs/leap_test202308-3/lib/esmf.mk\n",
      "Files will be outputed as: .nc\n",
      "ECMWF CDS API key already installed\n"
     ]
    }
   ],
   "source": [
    "%run ../00_functions/00_custom_functions.ipynb\n",
    "standard_setup(extra_packages=True, verbose=False)\n",
    "data_ingestion_prep(start_yearmonth='1979-01', end_yearmonth='2022-12', verbose=False)"
   ]
  },
  {
   "cell_type": "markdown",
   "id": "3a6610b0-e380-49ee-80b5-304221e6ed20",
   "metadata": {
    "tags": []
   },
   "source": [
    "## Collection: Flux Variables"
   ]
  },
  {
   "cell_type": "markdown",
   "id": "d1234d2e-6175-4a3b-a315-b33aaa61e84f",
   "metadata": {},
   "source": [
    "#### SeaFlux - All (Wind, Ice, Ocean Area)"
   ]
  },
  {
   "cell_type": "code",
   "execution_count": 28,
   "id": "4cb6f850-db04-4547-8fbc-27635ee94471",
   "metadata": {},
   "outputs": [
    {
     "name": "stdout",
     "output_type": "stream",
     "text": [
      "File SeaFlux_LDEO_SeaFlux-v202301-all_1982-2022.nc already exists - (skipping download from https://zenodo.org/record/8099928/files/SeaFlux.v2023.01_all_1982-2022.nc )\n"
     ]
    }
   ],
   "source": [
    "#This data is is not required for pCO2 reconstruction but is used for calculating flux\n",
    "#LDEO product is updated through the end of the previous year\n",
    "#More information can be found https://zenodo.org/record/8099928\n",
    "\n",
    "seaflux_all_direct = 'https://zenodo.org/record/8099928/files/SeaFlux.v2023.01_all_1982-2022.nc'\n",
    "seaflux_destination_folder = global_vars['download_folder']+r'SeaFlux/originals/'\n",
    "seaflux_destination_filename = 'SeaFlux_LDEO_SeaFlux-v202301-all_1982-2022.nc'\n",
    "download(seaflux_all_direct, seaflux_destination_folder, seaflux_destination_filename)"
   ]
  },
  {
   "cell_type": "markdown",
   "id": "2c12cc2e-99fb-46fd-96ff-c01729251ad5",
   "metadata": {},
   "source": [
    "#### Hadley Office - Ice"
   ]
  },
  {
   "cell_type": "code",
   "execution_count": 6,
   "id": "d24f1497-892e-464c-8495-0d07eee45b6e",
   "metadata": {},
   "outputs": [],
   "source": [
    "#Ice from Hadley (starts in Jan 1870 and can get updated versions at https://www.metoffice.gov.uk/hadobs/hadisst/data/download.html to extend)\n",
    "#better to download to tmp first and then move\n",
    "tmp_folder = '../../tmp/'\n",
    "download(r'https://www.metoffice.gov.uk/hadobs/hadisst/data/HadISST_ice.nc.gz', tmp_folder,'HadISST_ice.nc.gz') "
   ]
  },
  {
   "cell_type": "code",
   "execution_count": null,
   "id": "4a505166-d31c-4159-9593-1d39ec374778",
   "metadata": {},
   "outputs": [],
   "source": [
    "with gzip.open(os.path.join(tmp_folder,'HadISST_ice.nc.gz'), 'rb') as f_in:\n",
    "        ice_xr = xr.open_dataset(f_in)\n",
    "output_xarray_with_date(ice_xr, os.path.join(global_vars['download_folder'],'Ice/originals/'), 'Ice_Met-Office-Hadley-Centre_HadISST', filetype=output_file_type)\n",
    "os.remove(os.path.join(tmp_folder,'HadISST_ice.nc.gz')) #remove tmp file"
   ]
  },
  {
   "cell_type": "code",
   "execution_count": null,
   "id": "0481244d-6088-4621-81d5-072abb7ba11d",
   "metadata": {},
   "outputs": [],
   "source": []
  },
  {
   "cell_type": "markdown",
   "id": "9526d374-60b6-436a-9f25-dfc186f900a1",
   "metadata": {
    "tags": []
   },
   "source": [
    "## Processing: Flux Variables"
   ]
  },
  {
   "cell_type": "markdown",
   "id": "c468fa81-80bc-456d-9b8b-b4ab58bfa81e",
   "metadata": {},
   "source": [
    "These files do not need individual regridding; more processing is done when combining with additional datasets in the subsequent folder\n",
    "Prep_Gas_Transfer_v2.ipynb - can combine here as desired"
   ]
  },
  {
   "cell_type": "code",
   "execution_count": null,
   "id": "6d4fc762-ebc3-4d37-8a56-6cb350de26cc",
   "metadata": {},
   "outputs": [],
   "source": []
  }
 ],
 "metadata": {
  "kernelspec": {
   "display_name": "leap_test202310-4",
   "language": "python",
   "name": "leap_test202310-4"
  },
  "language_info": {
   "codemirror_mode": {
    "name": "ipython",
    "version": 3
   },
   "file_extension": ".py",
   "mimetype": "text/x-python",
   "name": "python",
   "nbconvert_exporter": "python",
   "pygments_lexer": "ipython3",
   "version": "3.11.6"
  }
 },
 "nbformat": 4,
 "nbformat_minor": 5
}
