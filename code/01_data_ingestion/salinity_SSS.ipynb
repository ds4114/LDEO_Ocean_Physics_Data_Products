{
 "cells": [
  {
   "cell_type": "markdown",
   "id": "c95a13ee-0fa8-46c8-9772-91e88713b04b",
   "metadata": {},
   "source": [
    "## Imports/Setup"
   ]
  },
  {
   "cell_type": "code",
   "execution_count": 1,
   "id": "4d96aa93-7ca4-45ae-adab-0e2081b7a0ca",
   "metadata": {},
   "outputs": [
    {
     "name": "stdout",
     "output_type": "stream",
     "text": [
      "env: ESMFMKFILE=/home/ds4114/.conda/envs/leap_test202308-3/lib/esmf.mk\n",
      "Files will be outputed as: .nc\n",
      "ECMWF CDS API key already installed\n"
     ]
    }
   ],
   "source": [
    "%run ../00_functions/00_custom_functions.ipynb\n",
    "standard_setup(extra_packages=True, verbose=False)\n",
    "data_ingestion_prep(start_yearmonth='1979-01', end_yearmonth='2022-12', verbose=False)"
   ]
  },
  {
   "cell_type": "markdown",
   "id": "3a6610b0-e380-49ee-80b5-304221e6ed20",
   "metadata": {
    "tags": []
   },
   "source": [
    "## Collection: Salinity (SSS)"
   ]
  },
  {
   "cell_type": "markdown",
   "id": "dcaeb32c-0724-4164-8dfa-b04eb76342f9",
   "metadata": {},
   "source": [
    "#### Met Office Hadley"
   ]
  },
  {
   "cell_type": "code",
   "execution_count": null,
   "id": "304e855f-25fd-4217-bf14-7fc5f15d6a27",
   "metadata": {},
   "outputs": [],
   "source": [
    "#SST requires downloading yearly zip files and extracting each month from each  (1900-01 to present only)\n",
    "#More info found on https://www.metoffice.gov.uk/hadobs/en4/download-en4-2-2.html\n",
    "#Note: because the file names in the zip are not known until extracting, this cell will execute even if the data already has been downloaded\n",
    "\n",
    "sss_direct_url_base = 'https://www.metoffice.gov.uk/hadobs/en4/data/en4-2-1/EN.4.2.2/'\n",
    "sss_destination_filename_base = 'SSS_Met-Office-Hadley-Centre_EN422f-g10-analyses_' #_197901+\n",
    "sss_destination_folder = global_vars['download_folder']+r'SSS/originals/'\n",
    "for year in range(acquisition_start_year, acquisition_end_year+1, 1):\n",
    "    if year >= 2021: sss_direct_url_base = 'https://www.metoffice.gov.uk/hadobs/en4/data/en4-2-1/' #2021 and onward the URL changes, though both URL zips exists. Not clear why.\n",
    "    url_file = 'EN.4.2.2.analyses.g10.'+str(year)+'.zip'\n",
    "    sss_direct_url = sss_direct_url_base + url_file\n",
    "    sss_destination_filename = sss_destination_filename_base+str(year)+'.zip'\n",
    "    \n",
    "    #download to tmp, extract a year, then transfer all to destination\n",
    "    tmp_folder = '../../tmp/'\n",
    "    download_to_folder(sss_direct_url, tmp_folder, sss_destination_filename,overwrite=False, create_dest=True)\n",
    "    ZipFile(tmp_folder+sss_destination_filename).extractall(tmp_folder)\n",
    "    files = glob.glob(tmp_folder+'EN.4.2.2.f.analysis.g10.*.nc')\n",
    "    for f in files:  #for each file extracted\n",
    "        basename = os.path.basename(f)\n",
    "        tmp_xr = xr.open_dataset(tmp_folder + basename)\n",
    "        output_xarray_with_date(tmp_xr, sss_destination_folder, basename, filetype=output_file_type, with_date=False) \n",
    "            #Note the filename is kept as the original from the .zip here to be compatible with other work. To output the file with a different name, edit the dest_file string parameter.\n",
    "        os.remove(os.path.join(tmp_folder,f)) #remove tmp file\n",
    "    \n",
    "    #remove zip file too\n",
    "    os.remove(os.path.join(tmp_folder,sss_destination_filename)) #remove tmp file\n",
    "print(\"SSS Complete\")"
   ]
  },
  {
   "cell_type": "markdown",
   "id": "9526d374-60b6-436a-9f25-dfc186f900a1",
   "metadata": {
    "tags": []
   },
   "source": [
    "## Processing: Salinity (SSS)"
   ]
  },
  {
   "cell_type": "markdown",
   "id": "5ddc3905-4c95-4838-81b2-92d4fcccc022",
   "metadata": {},
   "source": [
    "#### Met Office Hadley"
   ]
  },
  {
   "cell_type": "code",
   "execution_count": 46,
   "id": "d469c531",
   "metadata": {},
   "outputs": [
    {
     "name": "stdout",
     "output_type": "stream",
     "text": [
      "Encountered an error - trying with gs://leap-persistent/ds4114/online_data/SSS/originals/EN.4.2.2.f.analysis.g10.*.zarr\n",
      "Success.\n"
     ]
    }
   ],
   "source": [
    "sss = xr_open_mfdataset_custom(global_vars['download_folder']+'SSS/originals/EN.4.2.2.f.analysis.g10.*.nc') \n",
    "#sss"
   ]
  },
  {
   "cell_type": "code",
   "execution_count": 48,
   "id": "bbb0879e",
   "metadata": {},
   "outputs": [
    {
     "name": "stdout",
     "output_type": "stream",
     "text": [
      "CPU times: user 14.7 s, sys: 1.02 s, total: 15.7 s\n",
      "Wall time: 1min 25s\n"
     ]
    }
   ],
   "source": [
    "%%time\n",
    "#effectively ignore the depth dimension because we dont need it\n",
    "sss_nodepth = xr.Dataset({'sss':(['time','lat','lon'],sss.salinity[:,0,:,:].values),'time':(['time'],sss.time.data),'lat':(['lat'],sss.lat.data),'lon':(['lon'],sss.lon.data)})\n",
    "#Note this removes attributes from SSS raw data so we lose some metadata but this is OK for this analysis\n",
    "sss_filtered = sss_nodepth.sel(time=slice(str(processed_start_yearmonth),str(processed_end_yearmonth))) #filter years\n",
    "\n",
    "#Regrid lat/lon\n",
    "sss_regridder = xesmf.Regridder(sss_filtered, ideal_grid, 'bilinear', periodic=True)  #data is already 1x1 but we want to shift coordinates\n",
    "sss_out = sss_regridder(sss_filtered.chunk(-1), keep_attrs=True)\n",
    "#sss_out"
   ]
  },
  {
   "cell_type": "code",
   "execution_count": 49,
   "id": "3065324b",
   "metadata": {},
   "outputs": [],
   "source": [
    "sss_out = sss_out.rename({'latitude': 'ylat','longitude': 'xlon'}) #rename to be consistent with prior work\n",
    "sss_out = sss_out.assign_coords(time=ttime) #overwrite time dimension to be midmonth\n",
    "#sss_out = sss_out.assign_coords(time=ttime[:-1]) #you can use this line if SSS hasnt updated and we are missing the last month."
   ]
  },
  {
   "cell_type": "code",
   "execution_count": 51,
   "id": "e4064d4b",
   "metadata": {},
   "outputs": [
    {
     "name": "stdout",
     "output_type": "stream",
     "text": [
      "Cancelling output - SSS_Met-Office-Hadley-Centre_EN422f-g10-analyses_198201-202304.zarr already exists in gs://leap-persistent/ds4114/online_data/SSS/processed/\n"
     ]
    }
   ],
   "source": [
    "output_xarray_with_date(sss_out, global_vars['download_folder']+'SSS/processed/', 'SSS_Met-Office-Hadley-Centre_EN422f-g10-analyses', output_file_type)"
   ]
  },
  {
   "cell_type": "code",
   "execution_count": 50,
   "id": "4021d932",
   "metadata": {},
   "outputs": [
    {
     "data": {
      "image/png": "[encoded data removed]",
      "text/plain": [
       "<Figure size 600x300 with 2 Axes>"
      ]
     },
     "metadata": {},
     "output_type": "display_data"
    }
   ],
   "source": [
    "fig = plt.figure(figsize=(figsizew,figsizeh))\n",
    "plt.contourf(ideal_grid.longitude,ideal_grid.latitude,sss_out.sss[-1,:,:]) #just choosing latest time slice\n",
    "plt.title('SSS (latest month)'); plt.xlabel('Lon'); plt.ylabel('Lat')\n",
    "plt.colorbar().set_label('g/kg');"
   ]
  }
 ],
 "metadata": {
  "kernelspec": {
   "display_name": "leap_test202310-4",
   "language": "python",
   "name": "leap_test202310-4"
  },
  "language_info": {
   "codemirror_mode": {
    "name": "ipython",
    "version": 3
   },
   "file_extension": ".py",
   "mimetype": "text/x-python",
   "name": "python",
   "nbconvert_exporter": "python",
   "pygments_lexer": "ipython3",
   "version": "3.11.6"
  }
 },
 "nbformat": 4,
 "nbformat_minor": 5
}
