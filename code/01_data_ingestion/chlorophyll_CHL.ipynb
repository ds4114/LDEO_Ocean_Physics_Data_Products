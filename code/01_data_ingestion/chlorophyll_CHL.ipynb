{
 "cells": [
  {
   "cell_type": "markdown",
   "id": "c95a13ee-0fa8-46c8-9772-91e88713b04b",
   "metadata": {},
   "source": [
    "## Imports/Setup"
   ]
  },
  {
   "cell_type": "code",
   "execution_count": 1,
   "id": "4d96aa93-7ca4-45ae-adab-0e2081b7a0ca",
   "metadata": {},
   "outputs": [
    {
     "name": "stdout",
     "output_type": "stream",
     "text": [
      "env: ESMFMKFILE=/home/ds4114/.conda/envs/leap_test202308-3/lib/esmf.mk\n",
      "Files will be outputed as: .nc\n",
      "ECMWF CDS API key already installed\n"
     ]
    }
   ],
   "source": [
    "%run ../00_functions/00_custom_functions.ipynb\n",
    "standard_setup(extra_packages=True, verbose=False)\n",
    "data_ingestion_prep(start_yearmonth='1979-01', end_yearmonth='2022-12', verbose=False)"
   ]
  },
  {
   "cell_type": "markdown",
   "id": "3a6610b0-e380-49ee-80b5-304221e6ed20",
   "metadata": {
    "tags": []
   },
   "source": [
    "## Collection: Chlorophyll (CHL)"
   ]
  },
  {
   "cell_type": "markdown",
   "id": "e88794c3-6b41-4d46-9c42-74719a475d09",
   "metadata": {},
   "source": [
    "#### Glob Colour"
   ]
  },
  {
   "cell_type": "code",
   "execution_count": 3,
   "id": "2e653dfb-4de4-4ce4-b6b5-965f70b4426c",
   "metadata": {},
   "outputs": [
    {
     "data": {
      "text/plain": [
       "'230 User ftp_gc_VBennington logged in'"
      ]
     },
     "execution_count": 3,
     "metadata": {},
     "output_type": "execute_result"
    }
   ],
   "source": [
    "#CHL data needs to be downloaded via FTP in monthly files (1997-09 to present only)\n",
    "#According to https://www.globcolour.info/products_description_mermet.html, we want to use GSM data only\n",
    "#Note that the product changes over the years and the file names can vary. However there is a common pattern in naming used below.\n",
    "#More info found on https://hermes.acri.fr/index.php?class=archive\n",
    "\n",
    "#FTP requires an account and login:\n",
    "chl_direct_ftp = 'ftp.hermes.acri.fr'\n",
    "chl_destination_folder = global_vars['download_folder']+r'CHL/originals/'\n",
    "chl_acquisition_start_year = acquisition_start_year if acquisition_start_year >= 1997 else 1997 #earliest we have is 1997-09 so set it here to prevent errors getting nonexistant data\n",
    "usr = global_vars['chl_user'] \n",
    "psw = global_vars['chl_psw'] \n",
    "\n",
    "ftp_server = ftplib.FTP(chl_direct_ftp)\n",
    "ftp_server.set_pasv(True)\n",
    "ftp_server.login(usr, psw)"
   ]
  },
  {
   "cell_type": "code",
   "execution_count": null,
   "id": "216dd0b5-e25e-4bed-895e-178ead6b75d4",
   "metadata": {},
   "outputs": [],
   "source": [
    "#Note the nlst command used below may throw a [WinError 10060] message after logging in. This may be due to how the FTP server is configured or how the local computer is configured. \n",
    "#If the following command does not work, there is a broader issue with the connection.\n",
    "ftp_server.dir()"
   ]
  },
  {
   "cell_type": "code",
   "execution_count": null,
   "id": "f91dba21-a1c0-478d-b8fc-ef5aeb287db8",
   "metadata": {},
   "outputs": [],
   "source": [
    "#Note, when using Google cloud storage, this cell will download data even if it already exists at the destination. This may be updated in a future version.\n",
    "\n",
    "for year in range(chl_acquisition_start_year, acquisition_end_year+1, 1):\n",
    "    chl_destination_filename = ''\n",
    "    months = [i for i in range(1,12+1)]\n",
    "     #if a partial year, reduce available months\n",
    "    if year == datetime.datetime.now().year: months = [i for i in range(1,datetime.datetime.now().month)]\n",
    "    elif year == 1997: months = [i for i in range(9,12+1)] #data only available part of 1997\n",
    "    for month in months:\n",
    "        chl_destination_filename = 'CHL_ARI-ST-GlobColour_L3m-GLOB-100-merged-GSM-CHL1_'+str(year)+str(month).zfill(2)+'.nc'\n",
    "        ftp_server.cwd(f'/GLOB/merged/month/{year}/{str(month).zfill(2)}/01') #ex. '/GLOB/merged/month/2022/02/01' for Feb 2022\n",
    "        f = ftp_server.nlst('L3m*GLOB*100*GSM*CHL1*.nc')[0]    #Global view, 100 km resolution, GSM product, CHL1 data\n",
    "        \n",
    "        if (os.path.isfile(chl_destination_folder + chl_destination_filename):\n",
    "            print(f\"File {chl_destination_filename} already exists at {chl_destination_folder} - (skipping download from {url} )\")\n",
    "        else:\n",
    "            #download to tmp folder first, then check and transfer to destination\n",
    "            tmp_folder = '../../tmp/'\n",
    "            if not os.path.exists(tmp_folder): os.makedirs(tmp_folder)\n",
    "            print(f'Downloading {f} as {chl_destination_filename}')\n",
    "            ftp_server.retrbinary(\"RETR \" + f, open(tmp_folder + chl_destination_filename, 'wb').write)\n",
    "            tmp_xr = xr.open_dataset(tmp_folder + chl_destination_filename)\n",
    "            output_xarray_with_date(tmp_xr, chl_destination_folder, chl_destination_filename, filetype=output_file_type, with_date=False)\n",
    "            del tmp_xr\n",
    "            os.remove(os.path.join(tmp_folder , chl_destination_filename)) #remove tmp file\n",
    "            \n",
    "print(\"CHL Complete\")"
   ]
  },
  {
   "cell_type": "code",
   "execution_count": 4,
   "id": "a14ae364-542d-43ca-8940-c89b2b90ce99",
   "metadata": {},
   "outputs": [
    {
     "data": {
      "text/plain": [
       "'221 Goodbye.'"
      ]
     },
     "execution_count": 4,
     "metadata": {},
     "output_type": "execute_result"
    }
   ],
   "source": [
    "ftp_server.quit()"
   ]
  },
  {
   "cell_type": "code",
   "execution_count": null,
   "id": "0481244d-6088-4621-81d5-072abb7ba11d",
   "metadata": {},
   "outputs": [],
   "source": []
  },
  {
   "cell_type": "markdown",
   "id": "9526d374-60b6-436a-9f25-dfc186f900a1",
   "metadata": {
    "tags": []
   },
   "source": [
    "## Processing: Chlorophyll (CHL)"
   ]
  },
  {
   "cell_type": "markdown",
   "id": "a522af86-45b4-4391-90ff-ae7f3e49377e",
   "metadata": {},
   "source": [
    "#### Glob Colour"
   ]
  },
  {
   "cell_type": "raw",
   "id": "3fcd42dc-0918-44f9-9945-96c564af403e",
   "metadata": {},
   "source": [
    "#According to the CO2 Residual Bennington paper, we fill the missing winter months at the poles by linearly interpolating between the last month observed prior to the winter and the first month observed after winter. Also, for prior to 1998, we use the climatology of Chlorophyll-a calculated from observations we do have.\n",
    "\n",
    "#General Process: \n",
    "#0) combine data and filter time to relevant period\n",
    "#1) group by month to get an 'average' year\n",
    "#2) loop that year into two years so that we can linearly interpolate without boundary issues in Jan/Dec. Only need the middle 12 months.\n",
    "#3) fill in 1982 to 1997 with that averaged year\n",
    "#4) combine with the 1998+ data to get full set and interpolate on full set again to fill missing\n",
    "#5) fill remaining missing with the averaged year \n",
    "#6) regrid\n"
   ]
  },
  {
   "cell_type": "code",
   "execution_count": 6,
   "id": "cbb490ce-1e02-4da9-ae69-db9d6053f3c4",
   "metadata": {},
   "outputs": [],
   "source": [
    "#0) First acquire a full list of relevant files. \n",
    "files = glob.glob(global_vars['download_folder']+'CHL/originals/*.nc')\n",
    "if global_vars['download_folder'][0:5] == 'gs://':\n",
    "    import gcsfs\n",
    "    fs = gcsfs.GCSFileSystem()\n",
    "    files = fs.glob(global_vars['download_folder']+'CHL/originals/*.zarr')\n",
    "    files = ['gs://'+f for f in files]"
   ]
  },
  {
   "cell_type": "code",
   "execution_count": 61,
   "id": "e9fb0509-00af-4535-97e1-2d99e398d086",
   "metadata": {},
   "outputs": [],
   "source": [
    "#0 continued) Then combine data and filter for the relevant time period. Because CHL data does not have a time dimension in raw data, we need to add it to each file before/during concatenation \n",
    "chl = xr.concat([add_time_to_globcolour(fl) for fl in files], dim='time')\n",
    "#chl\n",
    "chl_filter = chl.sortby('time').sel(time=slice(str(processed_start_yearmonth),str(processed_end_yearmonth))) "
   ]
  },
  {
   "cell_type": "code",
   "execution_count": 62,
   "id": "12056c54-0785-43b6-a522-d6c127d5bdc7",
   "metadata": {},
   "outputs": [],
   "source": [
    "#1) Next we group by month to get and 'average' year\n",
    "    #Note that we are using data from the desired time frame to calculate an average year. This means past data will change when more years are added.\n",
    "chl_avg_by_month = chl_filter.CHL1_mean.groupby(\"time.month\").mean(\"time\")  #only need the mean variable\n",
    "#2) Then we loop that year (duplicate) into two years so that we can linearly interpolate without boundary issues in Jan/Dec. We will only need the middle 12 months.\n",
    "chl_looped = np.empty(shape=(24,180,360))  #2 years of data.\n",
    "chl_looped[0:6,:,:] = chl_avg_by_month[6:12,:,:]  #set start of loop to be July to Dec. Winter at the north pole is at the end/start of the year\n",
    "chl_looped[6:18,:,:] = chl_avg_by_month\n",
    "chl_looped[18:24,:,:] = chl_avg_by_month[0:6,:,:]  #set end of loop to be Jan to Jun\n",
    "chl_looped_xr = xr.Dataset({'chl':(['time','lat','lon'],chl_looped)},\n",
    "                       coords={'time':(['time'],range(0,24)),'lat':(['lat'],chl_avg_by_month.lat.values),'lon':(['lon'],chl_avg_by_month.lon.values)})\n",
    "chl_looped_interpolated = chl_looped_xr.chl.interpolate_na(dim='time',method='linear',limit=7)\n",
    "chl_avg_year = chl_looped_interpolated[6:18,:,:]   #the full year we interpolated is in the middle. Starts in Jan."
   ]
  },
  {
   "cell_type": "code",
   "execution_count": 63,
   "id": "2013044c-bad0-440e-9c17-a71189555e64",
   "metadata": {},
   "outputs": [],
   "source": [
    "#3) Now we fill in 1982 to 1997 with that averaged year\n",
    "earliest_chl_date = chl.time.min().data.astype('datetime64[s]').item()\n",
    "chl_missing_years = np.empty(shape=(sum(ttime < earliest_chl_date),180,360))  #create empty array of size equal to number of missing months\n",
    "chl_missing_years = xr.DataArray(chl_missing_years, coords=dict(time=ttime[ttime < earliest_chl_date], lat=chl_avg_year.lat, lon=chl_avg_year.lon), dims=[\"time\", \"lat\", \"lon\"]) #make it an xr\n",
    "chl_avg_fullset = np.empty(shape=(len(ttime),180,360))   #this is just the average which we will use later to fill missing holes from interpolation\n",
    "#now fill array with averaged year\n",
    "for i, m in enumerate(ttime):   #loop through months between start and end date\n",
    "    chl_avg_fullset[i,:,:] = chl_avg_year[m.month-1,:,:]\n",
    "    if m < earliest_chl_date: \n",
    "        chl_missing_years[i,:,:] = chl_avg_year[m.month-1,:,:]\n",
    "#chl_missing_years.shape"
   ]
  },
  {
   "cell_type": "code",
   "execution_count": 64,
   "id": "d417fded-27fe-411b-80f2-67ed898444e0",
   "metadata": {},
   "outputs": [],
   "source": [
    "#4) Next, combine the pre-1997 set with the 1998+ data to get a full set. Then interpolate on full set again to fill missing points.\n",
    "chl_filter_with_missing = xr.concat([chl_missing_years, chl_filter.CHL1_mean], dim='time')\n",
    "chl_filter_interpolate = chl_filter_with_missing.chunk(-1).interpolate_na(dim='time',method='linear',limit=7)"
   ]
  },
  {
   "cell_type": "code",
   "execution_count": 65,
   "id": "a9787970-3918-4771-9e2a-4030a189c0ff",
   "metadata": {},
   "outputs": [],
   "source": [
    "#5) For any remaining missing values that could not be interpolated, we fill with the averaged climatology\n",
    "chl_filter_interpolate_xr = xr.Dataset({'chl':(['time','lat','lon'],chl_filter_interpolate.data)  #make as a dataset so we can use fillna\n",
    "                                       #,'clim_repeat':(['time','lat','lon'], chl_avg_fullset)    #This field was used in a prior version of code but is not required\n",
    "                            }, coords={'time':(['time'],chl_filter_interpolate.time.values),'lat':(['lat'],chl_filter_interpolate.lat.values),'lon':(['lon'],chl_filter_interpolate.lon.values)})\n",
    "chl_filter_final = chl_filter_interpolate_xr.fillna(chl_avg_fullset) "
   ]
  },
  {
   "cell_type": "code",
   "execution_count": 66,
   "id": "80f63b1b-77d0-4e17-bfb7-fc2b035cffd8",
   "metadata": {},
   "outputs": [],
   "source": [
    "#6) Regrid \n",
    "chl_regridder = xesmf.Regridder(chl_filter_final, ideal_grid, 'bilinear', periodic=True)\n",
    "chl_out = chl_regridder(chl_filter_final.chunk(-1), keep_attrs=True)\n",
    "chl_out = chl_out.rename({'latitude': 'ylat','longitude': 'xlon'}) \n",
    "chl_out['chl'].attrs['description'] = \"Interpolated linearly between months, climatology prior to 1998-01\"  \n",
    "chl_out['chl'].attrs['units'] = \"mg / m3\"\n",
    "#chl_out"
   ]
  },
  {
   "cell_type": "code",
   "execution_count": 68,
   "id": "9705dc19-d827-4d9c-a92e-9a5857c78c81",
   "metadata": {},
   "outputs": [
    {
     "name": "stdout",
     "output_type": "stream",
     "text": [
      "Cancelling output - CHL_ARI-ST-GlobColour_L3m-GLOB-100-merged-GSM-CHL1_198201-202304.nc already exists in /data/artemis/workspace/ds4114/online_data/CHL/processed/\n"
     ]
    }
   ],
   "source": [
    "output_xarray_with_date(chl_out, data_folder_root+'CHL/processed/', 'CHL_ARI-ST-GlobColour_L3m-GLOB-100-merged-GSM-CHL1', output_file_type)"
   ]
  },
  {
   "cell_type": "code",
   "execution_count": 67,
   "id": "80836d96-8f99-4f98-8406-b262ff2b8a2e",
   "metadata": {},
   "outputs": [
    {
     "data": {
      "image/png": "[encoded data removed]",
      "text/plain": [
       "<Figure size 600x300 with 2 Axes>"
      ]
     },
     "metadata": {},
     "output_type": "display_data"
    }
   ],
   "source": [
    "fig = plt.figure(figsize=(figsizew,figsizeh))\n",
    "plt.contourf(ideal_grid.longitude,ideal_grid.latitude,np.ma.log10(chl_out.chl[12*20+6,:,:]))  #just one summer month; log scale to make more readable\n",
    "plt.title('CHL (July)'); plt.xlabel('Lon'); plt.ylabel('Lat')\n",
    "plt.colorbar().set_label('mg/m3 log scale');"
   ]
  },
  {
   "cell_type": "code",
   "execution_count": null,
   "id": "fc3369af-3bc2-4178-8b76-acf188c2043b",
   "metadata": {},
   "outputs": [],
   "source": []
  },
  {
   "cell_type": "code",
   "execution_count": null,
   "id": "6d4fc762-ebc3-4d37-8a56-6cb350de26cc",
   "metadata": {},
   "outputs": [],
   "source": []
  }
 ],
 "metadata": {
  "kernelspec": {
   "display_name": "leap_test202310-4",
   "language": "python",
   "name": "leap_test202310-4"
  },
  "language_info": {
   "codemirror_mode": {
    "name": "ipython",
    "version": 3
   },
   "file_extension": ".py",
   "mimetype": "text/x-python",
   "name": "python",
   "nbconvert_exporter": "python",
   "pygments_lexer": "ipython3",
   "version": "3.11.6"
  }
 },
 "nbformat": 4,
 "nbformat_minor": 5
}
