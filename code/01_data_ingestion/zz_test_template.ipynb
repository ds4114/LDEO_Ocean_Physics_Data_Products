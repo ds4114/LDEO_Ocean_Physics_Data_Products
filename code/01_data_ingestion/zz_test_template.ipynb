{
 "cells": [
  {
   "cell_type": "markdown",
   "id": "c95a13ee-0fa8-46c8-9772-91e88713b04b",
   "metadata": {},
   "source": [
    "## Imports/Setup"
   ]
  },
  {
   "cell_type": "code",
   "execution_count": 33,
   "id": "4d96aa93-7ca4-45ae-adab-0e2081b7a0ca",
   "metadata": {},
   "outputs": [
    {
     "name": "stdout",
     "output_type": "stream",
     "text": [
      "env: ESMFMKFILE=/home/ds4114/.conda/envs/leap_test202308-3/lib/esmf.mk\n",
      "Files will be outputed as: .nc\n",
      "ECMWF CDS API key already installed\n"
     ]
    }
   ],
   "source": [
    "%run ../00_functions/00_custom_functions.ipynb\n",
    "standard_setup(extra_packages=True, verbose=False)\n",
    "data_ingestion_prep(start_yearmonth='1979-01', end_yearmonth='2022-12', verbose=False)"
   ]
  },
  {
   "cell_type": "markdown",
   "id": "3a6610b0-e380-49ee-80b5-304221e6ed20",
   "metadata": {
    "tags": []
   },
   "source": [
    "## Collection: Salinity (SSS)"
   ]
  },
  {
   "cell_type": "markdown",
   "id": "2e575b40-44da-488c-8900-bbff89e97f19",
   "metadata": {},
   "source": [
    "#### temp"
   ]
  },
  {
   "cell_type": "code",
   "execution_count": null,
   "id": "0481244d-6088-4621-81d5-072abb7ba11d",
   "metadata": {},
   "outputs": [],
   "source": []
  },
  {
   "cell_type": "markdown",
   "id": "9526d374-60b6-436a-9f25-dfc186f900a1",
   "metadata": {
    "tags": []
   },
   "source": [
    "## Processing: Salinity (SST)"
   ]
  },
  {
   "cell_type": "markdown",
   "id": "c468fa81-80bc-456d-9b8b-b4ab58bfa81e",
   "metadata": {},
   "source": [
    "#### root global_vars['download_folder']"
   ]
  },
  {
   "cell_type": "code",
   "execution_count": null,
   "id": "6d4fc762-ebc3-4d37-8a56-6cb350de26cc",
   "metadata": {},
   "outputs": [],
   "source": []
  }
 ],
 "metadata": {
  "kernelspec": {
   "display_name": "leap_test202310-4",
   "language": "python",
   "name": "leap_test202310-4"
  },
  "language_info": {
   "codemirror_mode": {
    "name": "ipython",
    "version": 3
   },
   "file_extension": ".py",
   "mimetype": "text/x-python",
   "name": "python",
   "nbconvert_exporter": "python",
   "pygments_lexer": "ipython3",
   "version": "3.11.6"
  }
 },
 "nbformat": 4,
 "nbformat_minor": 5
}
