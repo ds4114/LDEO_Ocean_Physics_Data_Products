{
 "cells": [
  {
   "cell_type": "markdown",
   "id": "c95a13ee-0fa8-46c8-9772-91e88713b04b",
   "metadata": {},
   "source": [
    "## Imports/Setup"
   ]
  },
  {
   "cell_type": "code",
   "execution_count": 33,
   "id": "4d96aa93-7ca4-45ae-adab-0e2081b7a0ca",
   "metadata": {},
   "outputs": [
    {
     "name": "stdout",
     "output_type": "stream",
     "text": [
      "env: ESMFMKFILE=/home/ds4114/.conda/envs/leap_test202308-3/lib/esmf.mk\n",
      "Files will be outputed as: .nc\n",
      "ECMWF CDS API key already installed\n"
     ]
    }
   ],
   "source": [
    "%run ../00_functions/00_custom_functions.ipynb\n",
    "standard_setup(extra_packages=True, verbose=False)\n",
    "data_ingestion_prep(start_yearmonth='1979-01', end_yearmonth='2022-12', verbose=False)"
   ]
  },
  {
   "cell_type": "markdown",
   "id": "3a6610b0-e380-49ee-80b5-304221e6ed20",
   "metadata": {
    "tags": []
   },
   "source": [
    "## Collection: Sea Level Pressure (SLP)"
   ]
  },
  {
   "cell_type": "markdown",
   "id": "2e575b40-44da-488c-8900-bbff89e97f19",
   "metadata": {
    "tags": []
   },
   "source": [
    "#### ECMWF ERA5 SLP"
   ]
  },
  {
   "cell_type": "code",
   "execution_count": 10,
   "id": "3f033446-5c1f-41c1-aae9-bd3bfcefe6ea",
   "metadata": {},
   "outputs": [
    {
     "name": "stdout",
     "output_type": "stream",
     "text": [
      "File SLP_ECMWF_ERA5-monthly-reanalysis-MSLP_1979.zarr already exists - (skipping download for 1979 )\n",
      "File SLP_ECMWF_ERA5-monthly-reanalysis-MSLP_1980.zarr already exists - (skipping download for 1980 )\n",
      "File SLP_ECMWF_ERA5-monthly-reanalysis-MSLP_1981.zarr already exists - (skipping download for 1981 )\n",
      "File SLP_ECMWF_ERA5-monthly-reanalysis-MSLP_1982.zarr already exists - (skipping download for 1982 )\n",
      "File SLP_ECMWF_ERA5-monthly-reanalysis-MSLP_1983.zarr already exists - (skipping download for 1983 )\n",
      "File SLP_ECMWF_ERA5-monthly-reanalysis-MSLP_1984.zarr already exists - (skipping download for 1984 )\n",
      "File SLP_ECMWF_ERA5-monthly-reanalysis-MSLP_1985.zarr already exists - (skipping download for 1985 )\n",
      "File SLP_ECMWF_ERA5-monthly-reanalysis-MSLP_1986.zarr already exists - (skipping download for 1986 )\n",
      "File SLP_ECMWF_ERA5-monthly-reanalysis-MSLP_1987.zarr already exists - (skipping download for 1987 )\n",
      "File SLP_ECMWF_ERA5-monthly-reanalysis-MSLP_1988.zarr already exists - (skipping download for 1988 )\n",
      "File SLP_ECMWF_ERA5-monthly-reanalysis-MSLP_1989.zarr already exists - (skipping download for 1989 )\n",
      "File SLP_ECMWF_ERA5-monthly-reanalysis-MSLP_1990.zarr already exists - (skipping download for 1990 )\n",
      "File SLP_ECMWF_ERA5-monthly-reanalysis-MSLP_1991.zarr already exists - (skipping download for 1991 )\n",
      "File SLP_ECMWF_ERA5-monthly-reanalysis-MSLP_1992.zarr already exists - (skipping download for 1992 )\n",
      "File SLP_ECMWF_ERA5-monthly-reanalysis-MSLP_1993.zarr already exists - (skipping download for 1993 )\n",
      "File SLP_ECMWF_ERA5-monthly-reanalysis-MSLP_1994.zarr already exists - (skipping download for 1994 )\n",
      "File SLP_ECMWF_ERA5-monthly-reanalysis-MSLP_1995.zarr already exists - (skipping download for 1995 )\n",
      "File SLP_ECMWF_ERA5-monthly-reanalysis-MSLP_1996.zarr already exists - (skipping download for 1996 )\n",
      "File SLP_ECMWF_ERA5-monthly-reanalysis-MSLP_1997.zarr already exists - (skipping download for 1997 )\n",
      "File SLP_ECMWF_ERA5-monthly-reanalysis-MSLP_1998.zarr already exists - (skipping download for 1998 )\n",
      "File SLP_ECMWF_ERA5-monthly-reanalysis-MSLP_1999.zarr already exists - (skipping download for 1999 )\n",
      "File SLP_ECMWF_ERA5-monthly-reanalysis-MSLP_2000.zarr already exists - (skipping download for 2000 )\n",
      "File SLP_ECMWF_ERA5-monthly-reanalysis-MSLP_2001.zarr already exists - (skipping download for 2001 )\n",
      "File SLP_ECMWF_ERA5-monthly-reanalysis-MSLP_2002.zarr already exists - (skipping download for 2002 )\n",
      "File SLP_ECMWF_ERA5-monthly-reanalysis-MSLP_2003.zarr already exists - (skipping download for 2003 )\n",
      "File SLP_ECMWF_ERA5-monthly-reanalysis-MSLP_2004.zarr already exists - (skipping download for 2004 )\n",
      "File SLP_ECMWF_ERA5-monthly-reanalysis-MSLP_2005.zarr already exists - (skipping download for 2005 )\n",
      "File SLP_ECMWF_ERA5-monthly-reanalysis-MSLP_2006.zarr already exists - (skipping download for 2006 )\n",
      "File SLP_ECMWF_ERA5-monthly-reanalysis-MSLP_2007.zarr already exists - (skipping download for 2007 )\n",
      "File SLP_ECMWF_ERA5-monthly-reanalysis-MSLP_2008.zarr already exists - (skipping download for 2008 )\n",
      "File SLP_ECMWF_ERA5-monthly-reanalysis-MSLP_2009.zarr already exists - (skipping download for 2009 )\n",
      "File SLP_ECMWF_ERA5-monthly-reanalysis-MSLP_2010.zarr already exists - (skipping download for 2010 )\n",
      "File SLP_ECMWF_ERA5-monthly-reanalysis-MSLP_2011.zarr already exists - (skipping download for 2011 )\n",
      "File SLP_ECMWF_ERA5-monthly-reanalysis-MSLP_2012.zarr already exists - (skipping download for 2012 )\n",
      "File SLP_ECMWF_ERA5-monthly-reanalysis-MSLP_2013.zarr already exists - (skipping download for 2013 )\n",
      "File SLP_ECMWF_ERA5-monthly-reanalysis-MSLP_2014.zarr already exists - (skipping download for 2014 )\n",
      "File SLP_ECMWF_ERA5-monthly-reanalysis-MSLP_2015.zarr already exists - (skipping download for 2015 )\n",
      "File SLP_ECMWF_ERA5-monthly-reanalysis-MSLP_2016.zarr already exists - (skipping download for 2016 )\n",
      "File SLP_ECMWF_ERA5-monthly-reanalysis-MSLP_2017.zarr already exists - (skipping download for 2017 )\n",
      "File SLP_ECMWF_ERA5-monthly-reanalysis-MSLP_2018.zarr already exists - (skipping download for 2018 )\n",
      "File SLP_ECMWF_ERA5-monthly-reanalysis-MSLP_2019.zarr already exists - (skipping download for 2019 )\n",
      "File SLP_ECMWF_ERA5-monthly-reanalysis-MSLP_2020.zarr already exists - (skipping download for 2020 )\n",
      "File SLP_ECMWF_ERA5-monthly-reanalysis-MSLP_2021.zarr already exists - (skipping download for 2021 )\n",
      "File SLP_ECMWF_ERA5-monthly-reanalysis-MSLP_2022.zarr already exists - (skipping download for 2022 )\n"
     ]
    },
    {
     "name": "stderr",
     "output_type": "stream",
     "text": [
      "2023-08-28 14:17:03,589 INFO Welcome to the CDS\n",
      "2023-08-28 14:17:03,590 INFO Sending request to https://cds.climate.copernicus.eu/api/v2/resources/reanalysis-era5-single-levels-monthly-means\n",
      "2023-08-28 14:17:03,872 INFO Request is queued\n",
      "2023-08-28 14:17:05,001 INFO Request is running\n",
      "2023-08-28 14:17:09,007 INFO Request is completed\n",
      "2023-08-28 14:17:09,008 INFO Downloading https://download-0007-clone.copernicus-climate.eu/cache-compute-0007/cache/data0/adaptor.mars.internal-1693232226.317367-24424-14-4c867e63-351c-4317-a25c-dd04cef54d3f.nc to ../tmp/SLP_ECMWF_ERA5-monthly-reanalysis-MSLP_2023.nc (27.7M)\n",
      "2023-08-28 14:17:12,281 INFO Download rate 8.5M/s   \n"
     ]
    },
    {
     "name": "stdout",
     "output_type": "stream",
     "text": [
      "Transferring to GS gs://leap-persistent/ds4114/online_data/SLP/originals/SLP_ECMWF_ERA5-monthly-reanalysis-MSLP_2023.zarr...\n",
      "SLP Complete\n"
     ]
    }
   ],
   "source": [
    "#Sea level pressure comes from European Centre for Medium-Range Weather Forecasts (1940-01 to present only). It is the same source the one used for one SST above.\n",
    "#More info can be found on https://cds.climate.copernicus.eu/cdsapp#!/dataset/reanalysis-era5-single-levels-monthly-means?tab=form\n",
    "#We installed the API and have an account, so now we can download the ERA5 data via a loop (yearly)\n",
    "slp_destination_folder = global_vars['download_folder']+r'SLP/originals/'    \n",
    "for year in range(acquisition_start_year, acquisition_end_year+1, 1):\n",
    "    slp_destination_filename = ''\n",
    "    months = []\n",
    "    if year == datetime.datetime.now().year:   #if a partial year; this prevents erorrs trying to use the API to get future/non-existant data    \n",
    "        months = [i for i in range(1,datetime.datetime.now().month)]  \n",
    "        slp_destination_filename = 'SLP_ECMWF_ERA5-monthly-reanalysis-MSLP_'+str(year)+'.nc'  #rename if desired for partial year\n",
    "        #To consider, do we want to automatically overwrite parital years?\n",
    "    else:\n",
    "        slp_destination_filename = 'SLP_ECMWF_ERA5-monthly-reanalysis-MSLP_'+str(year)+'.nc'\n",
    "        months = [i for i in range(1,12+1)]\n",
    "\n",
    "    cdsapi_custom_download(year, months, 'mean_sea_level_pressure', slp_destination_folder, slp_destination_filename, overwrite=False, create_dest=False)\n",
    "    \n",
    "print(\"SLP Complete\")"
   ]
  },
  {
   "cell_type": "code",
   "execution_count": null,
   "id": "0481244d-6088-4621-81d5-072abb7ba11d",
   "metadata": {},
   "outputs": [],
   "source": []
  },
  {
   "cell_type": "markdown",
   "id": "9526d374-60b6-436a-9f25-dfc186f900a1",
   "metadata": {
    "tags": []
   },
   "source": [
    "## Processing: Sea Level Pressure (SLP)"
   ]
  },
  {
   "cell_type": "markdown",
   "id": "c468fa81-80bc-456d-9b8b-b4ab58bfa81e",
   "metadata": {},
   "source": [
    "#### ECMWF ERA5 SLP"
   ]
  },
  {
   "cell_type": "code",
   "execution_count": 71,
   "id": "754c0abf-1330-4dd7-bd29-93a248f971a2",
   "metadata": {},
   "outputs": [],
   "source": [
    "mslp = xr_open_mfdataset_custom(global_vars['download_folder']+r'SLP/originals/SLP_ECMWF_ERA5-monthly-reanalysis-MSLP_*.nc') "
   ]
  },
  {
   "cell_type": "code",
   "execution_count": 72,
   "id": "c2360344-1866-43cc-91b4-30c11a63d293",
   "metadata": {},
   "outputs": [
    {
     "name": "stdout",
     "output_type": "stream",
     "text": [
      "CPU times: user 11.9 s, sys: 513 ms, total: 12.4 s\n",
      "Wall time: 12.4 s\n"
     ]
    }
   ],
   "source": [
    "%%time\n",
    "#Regrid slp\n",
    "mslp_highres = mslp.sel(expver=1).msl/100  #do do not need the experimental/recent data because socat is only up till end of the prior yer. Also Pa to HPa. \n",
    "    #Note the expver variable indicates new experimental data: #https://confluence.ecmwf.int/pages/viewpage.action?pageId=173385064\n",
    "    #Data in recent 3 months will be blank with expver = 1 but this is expected and filtered next\n",
    "mslp_highres = mslp_highres.sel(time=slice(str(processed_start_yearmonth),str(processed_end_yearmonth))) #already monthly so select desired years\n",
    "mslp_highres = xr.Dataset({'mslp':(['time','latitude','longitude'],mslp_highres.data),'time':(['time'],mslp_highres.time.data),'latitude':(['latitude'],mslp_highres.latitude.data),'longitude':(['longitude'],mslp_highres.longitude.data)})\n",
    "mslp_highres_regridder = xesmf.Regridder(mslp_highres, ideal_grid, 'bilinear', periodic=True) #See note above about bilinear vs conservative\n",
    "mslp_out = mslp_highres_regridder(mslp_highres.chunk(-1), keep_attrs=False)\n",
    "#mslp_out"
   ]
  },
  {
   "cell_type": "code",
   "execution_count": 73,
   "id": "b7e6269b-2b9f-4eb7-b712-341101e2a905",
   "metadata": {},
   "outputs": [],
   "source": [
    "mslp_out = mslp_out.rename({'latitude': 'ylat','longitude': 'xlon'}) #rename to be consistent with prior work\n",
    "mslp_out = mslp_out.assign_coords(time=ttime) #overwrite time dimension to be midmonth\n",
    "mslp_out.mslp.attrs['units'] = 'hPa'"
   ]
  },
  {
   "cell_type": "code",
   "execution_count": 75,
   "id": "c062c3af-002f-470a-b0b1-c41037d68176",
   "metadata": {},
   "outputs": [
    {
     "name": "stdout",
     "output_type": "stream",
     "text": [
      "Cancelling output - SLP_ECMWF_ERA5-monthly-reanalysis-1x1-MSLP_198201-202304.nc already exists in /data/artemis/workspace/ds4114/online_data/SLP/processed/\n"
     ]
    }
   ],
   "source": [
    "output_xarray_with_date(mslp_out, global_vars['download_folder']+'SLP/processed/', 'SLP_ECMWF_ERA5-monthly-reanalysis-1x1-MSLP', output_file_type)"
   ]
  },
  {
   "cell_type": "code",
   "execution_count": 74,
   "id": "c7229a0f-4c88-4ce3-b221-5d96e6bf811e",
   "metadata": {},
   "outputs": [
    {
     "data": {
      "image/png": "[encoded data removed]",
      "text/plain": [
       "<Figure size 600x300 with 2 Axes>"
      ]
     },
     "metadata": {},
     "output_type": "display_data"
    }
   ],
   "source": [
    "fig = plt.figure(figsize=(figsizew,figsizeh))\n",
    "plt.contourf(ideal_grid.longitude,ideal_grid.latitude,mslp_out.mslp.sel(time='2022-12-15').data) #just choosing one month from prior year\n",
    "plt.title('SLP (last month of prior year)'); plt.xlabel('Lon'); plt.ylabel('Lat')\n",
    "plt.colorbar().set_label('hPa');"
   ]
  }
 ],
 "metadata": {
  "kernelspec": {
   "display_name": "leap_test202310-4",
   "language": "python",
   "name": "leap_test202310-4"
  },
  "language_info": {
   "codemirror_mode": {
    "name": "ipython",
    "version": 3
   },
   "file_extension": ".py",
   "mimetype": "text/x-python",
   "name": "python",
   "nbconvert_exporter": "python",
   "pygments_lexer": "ipython3",
   "version": "3.11.6"
  }
 },
 "nbformat": 4,
 "nbformat_minor": 5
}
